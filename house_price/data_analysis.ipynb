{
 "cells": [
  {
   "cell_type": "markdown",
   "metadata": {},
   "source": [
    "# House Prices: Advanced Linear Regression Technique"
   ]
  },
  {
   "cell_type": "markdown",
   "metadata": {},
   "source": [
    "The goal is to predict the sales price for each house in the test data. For each Id in the test set, you must predict the value of the SalePrice variable. "
   ]
  },
  {
   "cell_type": "code",
   "execution_count": 1,
   "metadata": {},
   "outputs": [],
   "source": [
    "import pandas as pd"
   ]
  },
  {
   "cell_type": "code",
   "execution_count": 2,
   "metadata": {},
   "outputs": [],
   "source": [
    "train_data = pd.read_csv('data/train.csv', index_col=\"Id\")\n",
    "test_data = pd.read_csv('data/test.csv', index_col=\"Id\")"
   ]
  },
  {
   "cell_type": "markdown",
   "metadata": {},
   "source": [
    "## Data Visualization"
   ]
  },
  {
   "cell_type": "code",
   "execution_count": 3,
   "metadata": {},
   "outputs": [],
   "source": [
    "import seaborn as sns\n",
    "import matplotlib.pyplot as plt\n",
    "%matplotlib inline"
   ]
  },
  {
   "cell_type": "code",
   "execution_count": 4,
   "metadata": {},
   "outputs": [
    {
     "data": {
      "text/html": [
       "<div>\n",
       "<style scoped>\n",
       "    .dataframe tbody tr th:only-of-type {\n",
       "        vertical-align: middle;\n",
       "    }\n",
       "\n",
       "    .dataframe tbody tr th {\n",
       "        vertical-align: top;\n",
       "    }\n",
       "\n",
       "    .dataframe thead th {\n",
       "        text-align: right;\n",
       "    }\n",
       "</style>\n",
       "<table border=\"1\" class=\"dataframe\">\n",
       "  <thead>\n",
       "    <tr style=\"text-align: right;\">\n",
       "      <th></th>\n",
       "      <th>MSSubClass</th>\n",
       "      <th>MSZoning</th>\n",
       "      <th>LotFrontage</th>\n",
       "      <th>LotArea</th>\n",
       "      <th>Street</th>\n",
       "      <th>Alley</th>\n",
       "      <th>LotShape</th>\n",
       "      <th>LandContour</th>\n",
       "      <th>Utilities</th>\n",
       "      <th>LotConfig</th>\n",
       "      <th>...</th>\n",
       "      <th>PoolArea</th>\n",
       "      <th>PoolQC</th>\n",
       "      <th>Fence</th>\n",
       "      <th>MiscFeature</th>\n",
       "      <th>MiscVal</th>\n",
       "      <th>MoSold</th>\n",
       "      <th>YrSold</th>\n",
       "      <th>SaleType</th>\n",
       "      <th>SaleCondition</th>\n",
       "      <th>SalePrice</th>\n",
       "    </tr>\n",
       "    <tr>\n",
       "      <th>Id</th>\n",
       "      <th></th>\n",
       "      <th></th>\n",
       "      <th></th>\n",
       "      <th></th>\n",
       "      <th></th>\n",
       "      <th></th>\n",
       "      <th></th>\n",
       "      <th></th>\n",
       "      <th></th>\n",
       "      <th></th>\n",
       "      <th></th>\n",
       "      <th></th>\n",
       "      <th></th>\n",
       "      <th></th>\n",
       "      <th></th>\n",
       "      <th></th>\n",
       "      <th></th>\n",
       "      <th></th>\n",
       "      <th></th>\n",
       "      <th></th>\n",
       "      <th></th>\n",
       "    </tr>\n",
       "  </thead>\n",
       "  <tbody>\n",
       "    <tr>\n",
       "      <th>1</th>\n",
       "      <td>60</td>\n",
       "      <td>RL</td>\n",
       "      <td>65.0</td>\n",
       "      <td>8450</td>\n",
       "      <td>Pave</td>\n",
       "      <td>NaN</td>\n",
       "      <td>Reg</td>\n",
       "      <td>Lvl</td>\n",
       "      <td>AllPub</td>\n",
       "      <td>Inside</td>\n",
       "      <td>...</td>\n",
       "      <td>0</td>\n",
       "      <td>NaN</td>\n",
       "      <td>NaN</td>\n",
       "      <td>NaN</td>\n",
       "      <td>0</td>\n",
       "      <td>2</td>\n",
       "      <td>2008</td>\n",
       "      <td>WD</td>\n",
       "      <td>Normal</td>\n",
       "      <td>208500</td>\n",
       "    </tr>\n",
       "    <tr>\n",
       "      <th>2</th>\n",
       "      <td>20</td>\n",
       "      <td>RL</td>\n",
       "      <td>80.0</td>\n",
       "      <td>9600</td>\n",
       "      <td>Pave</td>\n",
       "      <td>NaN</td>\n",
       "      <td>Reg</td>\n",
       "      <td>Lvl</td>\n",
       "      <td>AllPub</td>\n",
       "      <td>FR2</td>\n",
       "      <td>...</td>\n",
       "      <td>0</td>\n",
       "      <td>NaN</td>\n",
       "      <td>NaN</td>\n",
       "      <td>NaN</td>\n",
       "      <td>0</td>\n",
       "      <td>5</td>\n",
       "      <td>2007</td>\n",
       "      <td>WD</td>\n",
       "      <td>Normal</td>\n",
       "      <td>181500</td>\n",
       "    </tr>\n",
       "    <tr>\n",
       "      <th>3</th>\n",
       "      <td>60</td>\n",
       "      <td>RL</td>\n",
       "      <td>68.0</td>\n",
       "      <td>11250</td>\n",
       "      <td>Pave</td>\n",
       "      <td>NaN</td>\n",
       "      <td>IR1</td>\n",
       "      <td>Lvl</td>\n",
       "      <td>AllPub</td>\n",
       "      <td>Inside</td>\n",
       "      <td>...</td>\n",
       "      <td>0</td>\n",
       "      <td>NaN</td>\n",
       "      <td>NaN</td>\n",
       "      <td>NaN</td>\n",
       "      <td>0</td>\n",
       "      <td>9</td>\n",
       "      <td>2008</td>\n",
       "      <td>WD</td>\n",
       "      <td>Normal</td>\n",
       "      <td>223500</td>\n",
       "    </tr>\n",
       "    <tr>\n",
       "      <th>4</th>\n",
       "      <td>70</td>\n",
       "      <td>RL</td>\n",
       "      <td>60.0</td>\n",
       "      <td>9550</td>\n",
       "      <td>Pave</td>\n",
       "      <td>NaN</td>\n",
       "      <td>IR1</td>\n",
       "      <td>Lvl</td>\n",
       "      <td>AllPub</td>\n",
       "      <td>Corner</td>\n",
       "      <td>...</td>\n",
       "      <td>0</td>\n",
       "      <td>NaN</td>\n",
       "      <td>NaN</td>\n",
       "      <td>NaN</td>\n",
       "      <td>0</td>\n",
       "      <td>2</td>\n",
       "      <td>2006</td>\n",
       "      <td>WD</td>\n",
       "      <td>Abnorml</td>\n",
       "      <td>140000</td>\n",
       "    </tr>\n",
       "    <tr>\n",
       "      <th>5</th>\n",
       "      <td>60</td>\n",
       "      <td>RL</td>\n",
       "      <td>84.0</td>\n",
       "      <td>14260</td>\n",
       "      <td>Pave</td>\n",
       "      <td>NaN</td>\n",
       "      <td>IR1</td>\n",
       "      <td>Lvl</td>\n",
       "      <td>AllPub</td>\n",
       "      <td>FR2</td>\n",
       "      <td>...</td>\n",
       "      <td>0</td>\n",
       "      <td>NaN</td>\n",
       "      <td>NaN</td>\n",
       "      <td>NaN</td>\n",
       "      <td>0</td>\n",
       "      <td>12</td>\n",
       "      <td>2008</td>\n",
       "      <td>WD</td>\n",
       "      <td>Normal</td>\n",
       "      <td>250000</td>\n",
       "    </tr>\n",
       "  </tbody>\n",
       "</table>\n",
       "<p>5 rows × 80 columns</p>\n",
       "</div>"
      ],
      "text/plain": [
       "    MSSubClass MSZoning  LotFrontage  LotArea Street Alley LotShape  \\\n",
       "Id                                                                    \n",
       "1           60       RL         65.0     8450   Pave   NaN      Reg   \n",
       "2           20       RL         80.0     9600   Pave   NaN      Reg   \n",
       "3           60       RL         68.0    11250   Pave   NaN      IR1   \n",
       "4           70       RL         60.0     9550   Pave   NaN      IR1   \n",
       "5           60       RL         84.0    14260   Pave   NaN      IR1   \n",
       "\n",
       "   LandContour Utilities LotConfig  ... PoolArea PoolQC Fence MiscFeature  \\\n",
       "Id                                  ...                                     \n",
       "1          Lvl    AllPub    Inside  ...        0    NaN   NaN         NaN   \n",
       "2          Lvl    AllPub       FR2  ...        0    NaN   NaN         NaN   \n",
       "3          Lvl    AllPub    Inside  ...        0    NaN   NaN         NaN   \n",
       "4          Lvl    AllPub    Corner  ...        0    NaN   NaN         NaN   \n",
       "5          Lvl    AllPub       FR2  ...        0    NaN   NaN         NaN   \n",
       "\n",
       "   MiscVal MoSold  YrSold  SaleType  SaleCondition  SalePrice  \n",
       "Id                                                             \n",
       "1        0      2    2008        WD         Normal     208500  \n",
       "2        0      5    2007        WD         Normal     181500  \n",
       "3        0      9    2008        WD         Normal     223500  \n",
       "4        0      2    2006        WD        Abnorml     140000  \n",
       "5        0     12    2008        WD         Normal     250000  \n",
       "\n",
       "[5 rows x 80 columns]"
      ]
     },
     "execution_count": 4,
     "metadata": {},
     "output_type": "execute_result"
    }
   ],
   "source": [
    "train_data.head()"
   ]
  },
  {
   "cell_type": "markdown",
   "metadata": {},
   "source": [
    "Since we are trying to predict house prices, we look at the SalePrice variable in depth."
   ]
  },
  {
   "cell_type": "code",
   "execution_count": 5,
   "metadata": {},
   "outputs": [
    {
     "data": {
      "text/plain": [
       "count      1460.000000\n",
       "mean     180921.195890\n",
       "std       79442.502883\n",
       "min       34900.000000\n",
       "25%      129975.000000\n",
       "50%      163000.000000\n",
       "75%      214000.000000\n",
       "max      755000.000000\n",
       "Name: SalePrice, dtype: float64"
      ]
     },
     "execution_count": 5,
     "metadata": {},
     "output_type": "execute_result"
    }
   ],
   "source": [
    "train_data['SalePrice'].describe()"
   ]
  },
  {
   "cell_type": "code",
   "execution_count": 6,
   "metadata": {},
   "outputs": [
    {
     "data": {
      "image/png": "[encoded data removed]",
      "text/plain": [
       "<Figure size 432x288 with 1 Axes>"
      ]
     },
     "metadata": {
      "needs_background": "light"
     },
     "output_type": "display_data"
    }
   ],
   "source": [
    "train_data['SalePrice'].hist(bins=50)\n",
    "plt.show()"
   ]
  },
  {
   "cell_type": "markdown",
   "metadata": {},
   "source": [
    "From the quantiles and the histogram, we can see that the distribution of *SalePrice* doesn't follow the normal distribution and is heavily right skewed.\n",
    "\n",
    "To get a more detailed description of the relationship between *SalePrice* and the other variable, we examine the correlation."
   ]
  },
  {
   "cell_type": "code",
   "execution_count": 7,
   "metadata": {},
   "outputs": [
    {
     "name": "stdout",
     "output_type": "stream",
     "text": [
      "SalePrice        1.000000\n",
      "OverallQual      0.790982\n",
      "GrLivArea        0.708624\n",
      "GarageCars       0.640409\n",
      "GarageArea       0.623431\n",
      "TotalBsmtSF      0.613581\n",
      "1stFlrSF         0.605852\n",
      "FullBath         0.560664\n",
      "TotRmsAbvGrd     0.533723\n",
      "YearBuilt        0.522897\n",
      "YearRemodAdd     0.507101\n",
      "GarageYrBlt      0.486362\n",
      "MasVnrArea       0.477493\n",
      "Fireplaces       0.466929\n",
      "BsmtFinSF1       0.386420\n",
      "LotFrontage      0.351799\n",
      "WoodDeckSF       0.324413\n",
      "2ndFlrSF         0.319334\n",
      "OpenPorchSF      0.315856\n",
      "HalfBath         0.284108\n",
      "LotArea          0.263843\n",
      "BsmtFullBath     0.227122\n",
      "BsmtUnfSF        0.214479\n",
      "BedroomAbvGr     0.168213\n",
      "ScreenPorch      0.111447\n",
      "PoolArea         0.092404\n",
      "MoSold           0.046432\n",
      "3SsnPorch        0.044584\n",
      "BsmtFinSF2      -0.011378\n",
      "BsmtHalfBath    -0.016844\n",
      "MiscVal         -0.021190\n",
      "LowQualFinSF    -0.025606\n",
      "YrSold          -0.028923\n",
      "OverallCond     -0.077856\n",
      "MSSubClass      -0.084284\n",
      "EnclosedPorch   -0.128578\n",
      "KitchenAbvGr    -0.135907\n",
      "Name: SalePrice, dtype: float64\n"
     ]
    }
   ],
   "source": [
    "corr_matrix = train_data.corr()\n",
    "\n",
    "print(corr_matrix[\"SalePrice\"].sort_values(ascending=False))"
   ]
  },
  {
   "cell_type": "markdown",
   "metadata": {},
   "source": [
    "From the correlation, see that *OverallQual*, *GrLivArea*, *GarageCars*, *GarageArea*, *TotalBsmtSF*, and *1stFlrSF* show correlation greater than 0.6. For each variable we plot a graph to see the relationship between the variables."
   ]
  },
  {
   "cell_type": "markdown",
   "metadata": {},
   "source": [
    "### Categorical Variable"
   ]
  },
  {
   "cell_type": "markdown",
   "metadata": {},
   "source": [
    "Since *OverallQual* is a categorical variable, we plot a boxplot for *SalePrice* against *OverallQual*"
   ]
  },
  {
   "cell_type": "code",
   "execution_count": 8,
   "metadata": {},
   "outputs": [
    {
     "data": {
      "text/plain": [
       "<matplotlib.axes._subplots.AxesSubplot at 0x7ffb30eee100>"
      ]
     },
     "execution_count": 8,
     "metadata": {},
     "output_type": "execute_result"
    },
    {
     "data": {
      "image/png": "[encoded data removed]",
      "text/plain": [
       "<Figure size 432x288 with 1 Axes>"
      ]
     },
     "metadata": {
      "needs_background": "light"
     },
     "output_type": "display_data"
    }
   ],
   "source": [
    "sns.boxplot('OverallQual', 'SalePrice', data = train_data)"
   ]
  },
  {
   "cell_type": "markdown",
   "metadata": {},
   "source": [
    "### Numerical Variable"
   ]
  },
  {
   "cell_type": "code",
   "execution_count": 9,
   "metadata": {},
   "outputs": [
    {
     "data": {
      "image/png": "[encoded data removed]",
      "text/plain": [
       "<Figure size 1440x576 with 5 Axes>"
      ]
     },
     "metadata": {
      "needs_background": "light"
     },
     "output_type": "display_data"
    }
   ],
   "source": [
    "attributes = ['GrLivArea', 'GarageCars', 'GarageArea', 'TotalBsmtSF', '1stFlrSF']\n",
    "\n",
    "plt.figure(figsize = (20, 8))\n",
    "for i in range(len(attributes)):\n",
    "    plt.subplot(2, 3, i+1)\n",
    "    plt.scatter(train_data[attributes[i]], train_data['SalePrice'])\n",
    "    plt.xlabel(attributes[i])\n",
    "    plt.ylabel('SalePrice')\n",
    "plt.show()"
   ]
  },
  {
   "cell_type": "markdown",
   "metadata": {},
   "source": [
    "From the scatter plots, *GrLivArea* and *1stFirSF* seems to be a better indicator as the *SalePrice* would be very low if these variables are also very low. From *GarageCars*, *GarageArea*, *TotalBsmtSF* we can see that *SalePrice* is not very low even if the variables are equal to 0."
   ]
  },
  {
   "cell_type": "markdown",
   "metadata": {},
   "source": [
    "## Preparing the Data"
   ]
  },
  {
   "cell_type": "code",
   "execution_count": 10,
   "metadata": {},
   "outputs": [
    {
     "data": {
      "text/plain": [
       "PoolQC          1453\n",
       "MiscFeature     1406\n",
       "Alley           1369\n",
       "Fence           1179\n",
       "FireplaceQu      690\n",
       "LotFrontage      259\n",
       "GarageType        81\n",
       "GarageCond        81\n",
       "GarageFinish      81\n",
       "GarageQual        81\n",
       "GarageYrBlt       81\n",
       "BsmtFinType2      38\n",
       "BsmtExposure      38\n",
       "BsmtQual          37\n",
       "BsmtCond          37\n",
       "BsmtFinType1      37\n",
       "MasVnrArea         8\n",
       "MasVnrType         8\n",
       "Electrical         1\n",
       "dtype: int64"
      ]
     },
     "execution_count": 10,
     "metadata": {},
     "output_type": "execute_result"
    }
   ],
   "source": [
    "missing_entry_num = train_data.isnull().sum().sort_values(ascending=False)\n",
    "missing_entry_num.head(19)"
   ]
  },
  {
   "cell_type": "markdown",
   "metadata": {},
   "source": [
    "The output shows the columns that have missing features, and the number of rows that are missing. \n",
    "\n",
    "From the description of the dataset we can delete *PoolQC*, *MiscFeature*, *Alley*, *Fence*, and *FireplaceQu* since these features are not relevant when purchasing houses."
   ]
  },
  {
   "cell_type": "code",
   "execution_count": 11,
   "metadata": {},
   "outputs": [],
   "source": [
    "# drop PoolQC, MiscFeature, Alley, Fence, and FireplaceQU\n",
    "# drop from both \n",
    "train_data = train_data.drop(columns=[\"PoolQC\", \"MiscFeature\", \"Alley\", \"Fence\", \"FireplaceQu\"])\n",
    "test_data = test_data.drop(columns=[\"PoolQC\", \"MiscFeature\", \"Alley\", \"Fence\", \"FireplaceQu\"])"
   ]
  },
  {
   "cell_type": "code",
   "execution_count": 12,
   "metadata": {},
   "outputs": [
    {
     "data": {
      "text/plain": [
       "LotFrontage     259\n",
       "GarageType       81\n",
       "GarageYrBlt      81\n",
       "GarageCond       81\n",
       "GarageQual       81\n",
       "GarageFinish     81\n",
       "BsmtExposure     38\n",
       "BsmtFinType2     38\n",
       "BsmtFinType1     37\n",
       "BsmtCond         37\n",
       "BsmtQual         37\n",
       "MasVnrArea        8\n",
       "MasVnrType        8\n",
       "Electrical        1\n",
       "dtype: int64"
      ]
     },
     "execution_count": 12,
     "metadata": {},
     "output_type": "execute_result"
    }
   ],
   "source": [
    "missing_entry_num = train_data.isnull().sum().sort_values(ascending=False)\n",
    "missing_entry_num.head(14)"
   ]
  },
  {
   "cell_type": "markdown",
   "metadata": {},
   "source": [
    "The columns of the data was broken down into three parts\n",
    "\n",
    "- Numerical column\n",
    "- Categorical column processed through OrdinalEncode\n",
    "- Categorical column processed through OneHotEncoder"
   ]
  },
  {
   "cell_type": "code",
   "execution_count": 153,
   "metadata": {},
   "outputs": [
    {
     "data": {
      "text/plain": [
       "<matplotlib.axes._subplots.AxesSubplot at 0x7ffb1a4ee0d0>"
      ]
     },
     "execution_count": 153,
     "metadata": {},
     "output_type": "execute_result"
    },
    {
     "data": {
      "image/png": "[encoded data removed]",
      "text/plain": [
       "<Figure size 864x648 with 2 Axes>"
      ]
     },
     "metadata": {
      "needs_background": "light"
     },
     "output_type": "display_data"
    }
   ],
   "source": [
    "import seaborn as sns\n",
    "\n",
    "corrmat = train_data.corr()\n",
    "f, ax = plt.subplots(figsize=(12, 9))\n",
    "sns.heatmap(corrmat, vmax=.8, square=True)"
   ]
  },
  {
   "cell_type": "markdown",
   "metadata": {},
   "source": [
    "### Numerical Column"
   ]
  },
  {
   "cell_type": "code",
   "execution_count": 14,
   "metadata": {},
   "outputs": [],
   "source": [
    "# get numerical column\n",
    "numerical = ['int16', 'int32', 'int64', 'float16', 'float32', 'float64']\n",
    "housing_num = train_data.select_dtypes(include=numerical)"
   ]
  },
  {
   "cell_type": "code",
   "execution_count": 15,
   "metadata": {},
   "outputs": [],
   "source": [
    "# drop SalesPrice column because dependent variable\n",
    "housing_num = housing_num.drop(columns=[\"SalePrice\"])"
   ]
  },
  {
   "cell_type": "code",
   "execution_count": 16,
   "metadata": {},
   "outputs": [],
   "source": [
    "# drop column that categorical but have numerical data\n",
    "housing_num = housing_num.drop(columns=['YearBuilt', 'YearRemodAdd', \"GarageYrBlt\", \"MoSold\",\n",
    "                                        \"YrSold\", \"MSSubClass\", \"OverallQual\", \"OverallCond\"])"
   ]
  },
  {
   "cell_type": "markdown",
   "metadata": {},
   "source": [
    "### Categorical Column"
   ]
  },
  {
   "cell_type": "code",
   "execution_count": 17,
   "metadata": {},
   "outputs": [],
   "source": [
    "categorical = ['object']\n",
    "housing_cat = train_data.select_dtypes(include=categorical)"
   ]
  },
  {
   "cell_type": "markdown",
   "metadata": {},
   "source": [
    "We fill in the `NaN` values to implement `OrdinalEncoder()` and `OneHotEncoder`"
   ]
  },
  {
   "cell_type": "code",
   "execution_count": 18,
   "metadata": {},
   "outputs": [],
   "source": [
    "fill_values = {\n",
    "    'BsmtQual': 'NoB', 'BsmtCond': 'NoB', 'BsmtExposure': 'NoB', 'BsmtFinType1': 'NoB',\n",
    "    'BsmtFinType2': 'NoB', 'GarageType': 'NoG', 'GarageFinish': 'NoG', 'GarageQual': 'NoG',\n",
    "    'GarageCond': 'NoG', 'MasVnrType': 'None'\n",
    "}\n",
    "\n",
    "for key in fill_values:\n",
    "    train_data[key] = train_data[key].fillna(value=fill_values[key])"
   ]
  },
  {
   "cell_type": "code",
   "execution_count": 19,
   "metadata": {},
   "outputs": [
    {
     "data": {
      "text/plain": [
       "LotFrontage     259\n",
       "GarageYrBlt      81\n",
       "MasVnrArea        8\n",
       "Electrical        1\n",
       "SalePrice         0\n",
       "ExterCond         0\n",
       "RoofMatl          0\n",
       "Exterior1st       0\n",
       "Exterior2nd       0\n",
       "MasVnrType        0\n",
       "ExterQual         0\n",
       "Foundation        0\n",
       "YearRemodAdd      0\n",
       "BsmtQual          0\n",
       "dtype: int64"
      ]
     },
     "execution_count": 19,
     "metadata": {},
     "output_type": "execute_result"
    }
   ],
   "source": [
    "null_val = train_data.isnull().sum().sort_values(ascending=False)\n",
    "null_val.head(14)"
   ]
  },
  {
   "cell_type": "markdown",
   "metadata": {},
   "source": [
    "From the output above, we can see that the variables GarageYrBlt and Electrical has 81 and 1 `NaN` values. Since we can not fill years accurately we drop GarageYrBlt. We also remove the one row in which the column of Electrical is `NaN`."
   ]
  },
  {
   "cell_type": "code",
   "execution_count": 20,
   "metadata": {},
   "outputs": [],
   "source": [
    "# columns used for OneHotEncoder()\n",
    "one_hot_cat = ['MSZoning', 'Street', 'LotShape', 'LandContour', 'LandSlope', 'Neighborhood',\n",
    "               'Condition1','Condition2', 'BldgType', 'YearBuilt', 'YearRemodAdd', 'RoofStyle',\n",
    "              'RoofMatl', 'Exterior1st', 'Exterior2nd', 'MasVnrType', 'Foundation', 'Heating',\n",
    "              'CentralAir', 'Electrical', 'GarageType', 'PavedDrive', 'MoSold',\n",
    "              'YrSold', 'SaleType']\n",
    "\n",
    "# columns used for OrdinalEncoder()\n",
    "ordinal_cat = ['MSSubClass', 'Utilities', 'LotConfig', 'HouseStyle', 'OverallQual', 'OverallCond',\n",
    "              'ExterQual', 'ExterCond', 'BsmtQual', 'BsmtCond', 'BsmtExposure', 'BsmtFinType1', \n",
    "              'BsmtFinType2', 'HeatingQC', 'KitchenQual', 'Functional', 'GarageQual',\n",
    "              'GarageCond', 'SaleCondition']"
   ]
  },
  {
   "cell_type": "code",
   "execution_count": 21,
   "metadata": {},
   "outputs": [],
   "source": [
    "# drop NaN row in Electrical column\n",
    "drop_row = train_data[train_data['Electrical'].isnull()].index.tolist()[0]\n",
    "train_data = train_data.drop(1380)"
   ]
  },
  {
   "cell_type": "markdown",
   "metadata": {},
   "source": [
    "### Transformation Pipeline"
   ]
  },
  {
   "cell_type": "code",
   "execution_count": 22,
   "metadata": {},
   "outputs": [],
   "source": [
    "from sklearn.pipeline import Pipeline\n",
    "from sklearn.preprocessing import StandardScaler, OrdinalEncoder, OneHotEncoder\n",
    "from sklearn.impute import SimpleImputer\n",
    "from sklearn.compose import ColumnTransformer"
   ]
  },
  {
   "cell_type": "code",
   "execution_count": 23,
   "metadata": {},
   "outputs": [],
   "source": [
    "num_pipeline = Pipeline([\n",
    "    ('imputer', SimpleImputer(strategy=\"median\")),\n",
    "    ('std_scaler', StandardScaler())\n",
    "])"
   ]
  },
  {
   "cell_type": "code",
   "execution_count": 24,
   "metadata": {},
   "outputs": [],
   "source": [
    "full_pipeline = ColumnTransformer([\n",
    "    (\"num_column\", num_pipeline, housing_num.columns),\n",
    "    (\"one_hot_column\", OneHotEncoder(), one_hot_cat),\n",
    "    (\"ord_column\", OrdinalEncoder(), ordinal_cat)\n",
    "])"
   ]
  },
  {
   "cell_type": "code",
   "execution_count": 25,
   "metadata": {},
   "outputs": [],
   "source": [
    "housing_prepared = full_pipeline.fit_transform(train_data)"
   ]
  },
  {
   "cell_type": "markdown",
   "metadata": {},
   "source": [
    "# Selecting and Training Model"
   ]
  },
  {
   "cell_type": "code",
   "execution_count": 40,
   "metadata": {},
   "outputs": [
    {
     "data": {
      "text/html": [
       "<div>\n",
       "<style scoped>\n",
       "    .dataframe tbody tr th:only-of-type {\n",
       "        vertical-align: middle;\n",
       "    }\n",
       "\n",
       "    .dataframe tbody tr th {\n",
       "        vertical-align: top;\n",
       "    }\n",
       "\n",
       "    .dataframe thead th {\n",
       "        text-align: right;\n",
       "    }\n",
       "</style>\n",
       "<table border=\"1\" class=\"dataframe\">\n",
       "  <thead>\n",
       "    <tr style=\"text-align: right;\">\n",
       "      <th></th>\n",
       "      <th>0</th>\n",
       "      <th>1</th>\n",
       "      <th>2</th>\n",
       "      <th>3</th>\n",
       "      <th>4</th>\n",
       "      <th>5</th>\n",
       "      <th>6</th>\n",
       "      <th>7</th>\n",
       "      <th>8</th>\n",
       "      <th>9</th>\n",
       "      <th>...</th>\n",
       "      <th>380</th>\n",
       "      <th>381</th>\n",
       "      <th>382</th>\n",
       "      <th>383</th>\n",
       "      <th>384</th>\n",
       "      <th>385</th>\n",
       "      <th>386</th>\n",
       "      <th>387</th>\n",
       "      <th>388</th>\n",
       "      <th>SalePrice</th>\n",
       "    </tr>\n",
       "  </thead>\n",
       "  <tbody>\n",
       "    <tr>\n",
       "      <th>1</th>\n",
       "      <td>-0.220703</td>\n",
       "      <td>-0.207125</td>\n",
       "      <td>0.513594</td>\n",
       "      <td>0.574748</td>\n",
       "      <td>-0.28876</td>\n",
       "      <td>-0.944607</td>\n",
       "      <td>-0.460570</td>\n",
       "      <td>-0.794191</td>\n",
       "      <td>1.162093</td>\n",
       "      <td>-0.120284</td>\n",
       "      <td>...</td>\n",
       "      <td>3.0</td>\n",
       "      <td>2.0</td>\n",
       "      <td>6.0</td>\n",
       "      <td>0.0</td>\n",
       "      <td>2.0</td>\n",
       "      <td>6.0</td>\n",
       "      <td>5.0</td>\n",
       "      <td>5.0</td>\n",
       "      <td>4.0</td>\n",
       "      <td>208500.0</td>\n",
       "    </tr>\n",
       "    <tr>\n",
       "      <th>2</th>\n",
       "      <td>0.460263</td>\n",
       "      <td>-0.091909</td>\n",
       "      <td>-0.571009</td>\n",
       "      <td>1.171304</td>\n",
       "      <td>-0.28876</td>\n",
       "      <td>-0.641330</td>\n",
       "      <td>0.465629</td>\n",
       "      <td>0.256426</td>\n",
       "      <td>-0.794554</td>\n",
       "      <td>-0.120284</td>\n",
       "      <td>...</td>\n",
       "      <td>1.0</td>\n",
       "      <td>0.0</td>\n",
       "      <td>6.0</td>\n",
       "      <td>0.0</td>\n",
       "      <td>3.0</td>\n",
       "      <td>6.0</td>\n",
       "      <td>5.0</td>\n",
       "      <td>5.0</td>\n",
       "      <td>4.0</td>\n",
       "      <td>181500.0</td>\n",
       "    </tr>\n",
       "    <tr>\n",
       "      <th>3</th>\n",
       "      <td>-0.084510</td>\n",
       "      <td>0.073401</td>\n",
       "      <td>0.325449</td>\n",
       "      <td>0.092239</td>\n",
       "      <td>-0.28876</td>\n",
       "      <td>-0.301842</td>\n",
       "      <td>-0.314568</td>\n",
       "      <td>-0.628576</td>\n",
       "      <td>1.189587</td>\n",
       "      <td>-0.120284</td>\n",
       "      <td>...</td>\n",
       "      <td>2.0</td>\n",
       "      <td>2.0</td>\n",
       "      <td>6.0</td>\n",
       "      <td>0.0</td>\n",
       "      <td>2.0</td>\n",
       "      <td>6.0</td>\n",
       "      <td>5.0</td>\n",
       "      <td>5.0</td>\n",
       "      <td>4.0</td>\n",
       "      <td>223500.0</td>\n",
       "    </tr>\n",
       "    <tr>\n",
       "      <th>4</th>\n",
       "      <td>-0.447692</td>\n",
       "      <td>-0.096918</td>\n",
       "      <td>-0.571009</td>\n",
       "      <td>-0.499931</td>\n",
       "      <td>-0.28876</td>\n",
       "      <td>-0.061936</td>\n",
       "      <td>-0.688698</td>\n",
       "      <td>-0.522480</td>\n",
       "      <td>0.937560</td>\n",
       "      <td>-0.120284</td>\n",
       "      <td>...</td>\n",
       "      <td>3.0</td>\n",
       "      <td>0.0</td>\n",
       "      <td>6.0</td>\n",
       "      <td>2.0</td>\n",
       "      <td>2.0</td>\n",
       "      <td>6.0</td>\n",
       "      <td>5.0</td>\n",
       "      <td>5.0</td>\n",
       "      <td>0.0</td>\n",
       "      <td>140000.0</td>\n",
       "    </tr>\n",
       "    <tr>\n",
       "      <th>5</th>\n",
       "      <td>0.641854</td>\n",
       "      <td>0.374967</td>\n",
       "      <td>1.365783</td>\n",
       "      <td>0.462893</td>\n",
       "      <td>-0.28876</td>\n",
       "      <td>-0.175099</td>\n",
       "      <td>0.198720</td>\n",
       "      <td>-0.046338</td>\n",
       "      <td>1.618033</td>\n",
       "      <td>-0.120284</td>\n",
       "      <td>...</td>\n",
       "      <td>0.0</td>\n",
       "      <td>2.0</td>\n",
       "      <td>6.0</td>\n",
       "      <td>0.0</td>\n",
       "      <td>2.0</td>\n",
       "      <td>6.0</td>\n",
       "      <td>5.0</td>\n",
       "      <td>5.0</td>\n",
       "      <td>4.0</td>\n",
       "      <td>250000.0</td>\n",
       "    </tr>\n",
       "  </tbody>\n",
       "</table>\n",
       "<p>5 rows × 390 columns</p>\n",
       "</div>"
      ],
      "text/plain": [
       "          0         1         2         3        4         5         6  \\\n",
       "1 -0.220703 -0.207125  0.513594  0.574748 -0.28876 -0.944607 -0.460570   \n",
       "2  0.460263 -0.091909 -0.571009  1.171304 -0.28876 -0.641330  0.465629   \n",
       "3 -0.084510  0.073401  0.325449  0.092239 -0.28876 -0.301842 -0.314568   \n",
       "4 -0.447692 -0.096918 -0.571009 -0.499931 -0.28876 -0.061936 -0.688698   \n",
       "5  0.641854  0.374967  1.365783  0.462893 -0.28876 -0.175099  0.198720   \n",
       "\n",
       "          7         8         9  ...  380  381  382  383  384  385  386  387  \\\n",
       "1 -0.794191  1.162093 -0.120284  ...  3.0  2.0  6.0  0.0  2.0  6.0  5.0  5.0   \n",
       "2  0.256426 -0.794554 -0.120284  ...  1.0  0.0  6.0  0.0  3.0  6.0  5.0  5.0   \n",
       "3 -0.628576  1.189587 -0.120284  ...  2.0  2.0  6.0  0.0  2.0  6.0  5.0  5.0   \n",
       "4 -0.522480  0.937560 -0.120284  ...  3.0  0.0  6.0  2.0  2.0  6.0  5.0  5.0   \n",
       "5 -0.046338  1.618033 -0.120284  ...  0.0  2.0  6.0  0.0  2.0  6.0  5.0  5.0   \n",
       "\n",
       "   388  SalePrice  \n",
       "1  4.0   208500.0  \n",
       "2  4.0   181500.0  \n",
       "3  4.0   223500.0  \n",
       "4  0.0   140000.0  \n",
       "5  4.0   250000.0  \n",
       "\n",
       "[5 rows x 390 columns]"
      ]
     },
     "execution_count": 40,
     "metadata": {},
     "output_type": "execute_result"
    }
   ],
   "source": [
    "# change sparse matrix (housing_prepared) into dataframe\n",
    "transformed_train = pd.DataFrame.sparse.from_spmatrix(housing_prepared)\n",
    "\n",
    "# increase index by 1 to match with SalePrice Column\n",
    "transformed_train.index = range(1,len(transformed_train)+1)\n",
    "\n",
    "# add Saleprice column to transformed_train\n",
    "transformed_train['SalePrice'] = train_data[['SalePrice']]\n",
    "transformed_train.head()"
   ]
  },
  {
   "cell_type": "code",
   "execution_count": 78,
   "metadata": {},
   "outputs": [
    {
     "data": {
      "text/html": [
       "<div>\n",
       "<style scoped>\n",
       "    .dataframe tbody tr th:only-of-type {\n",
       "        vertical-align: middle;\n",
       "    }\n",
       "\n",
       "    .dataframe tbody tr th {\n",
       "        vertical-align: top;\n",
       "    }\n",
       "\n",
       "    .dataframe thead th {\n",
       "        text-align: right;\n",
       "    }\n",
       "</style>\n",
       "<table border=\"1\" class=\"dataframe\">\n",
       "  <thead>\n",
       "    <tr style=\"text-align: right;\">\n",
       "      <th></th>\n",
       "      <th>0</th>\n",
       "      <th>1</th>\n",
       "      <th>2</th>\n",
       "      <th>3</th>\n",
       "      <th>4</th>\n",
       "      <th>5</th>\n",
       "      <th>6</th>\n",
       "      <th>7</th>\n",
       "      <th>8</th>\n",
       "      <th>9</th>\n",
       "      <th>...</th>\n",
       "      <th>380</th>\n",
       "      <th>381</th>\n",
       "      <th>382</th>\n",
       "      <th>383</th>\n",
       "      <th>384</th>\n",
       "      <th>385</th>\n",
       "      <th>386</th>\n",
       "      <th>387</th>\n",
       "      <th>388</th>\n",
       "      <th>SalePrice</th>\n",
       "    </tr>\n",
       "  </thead>\n",
       "  <tbody>\n",
       "    <tr>\n",
       "      <th>0</th>\n",
       "      <td>0.778047</td>\n",
       "      <td>0.062982</td>\n",
       "      <td>0.812413</td>\n",
       "      <td>-0.973668</td>\n",
       "      <td>-0.28876</td>\n",
       "      <td>2.583812</td>\n",
       "      <td>1.485361</td>\n",
       "      <td>1.433842</td>\n",
       "      <td>-0.794554</td>\n",
       "      <td>-0.120284</td>\n",
       "      <td>...</td>\n",
       "      <td>0.0</td>\n",
       "      <td>6.0</td>\n",
       "      <td>6.0</td>\n",
       "      <td>0.0</td>\n",
       "      <td>2.0</td>\n",
       "      <td>6.0</td>\n",
       "      <td>5.0</td>\n",
       "      <td>5.0</td>\n",
       "      <td>4.0</td>\n",
       "      <td>255500.0</td>\n",
       "    </tr>\n",
       "    <tr>\n",
       "      <th>1</th>\n",
       "      <td>1.005036</td>\n",
       "      <td>-0.039811</td>\n",
       "      <td>1.592664</td>\n",
       "      <td>0.649317</td>\n",
       "      <td>-0.28876</td>\n",
       "      <td>-0.322211</td>\n",
       "      <td>0.244345</td>\n",
       "      <td>0.103750</td>\n",
       "      <td>2.236645</td>\n",
       "      <td>-0.120284</td>\n",
       "      <td>...</td>\n",
       "      <td>3.0</td>\n",
       "      <td>2.0</td>\n",
       "      <td>6.0</td>\n",
       "      <td>0.0</td>\n",
       "      <td>2.0</td>\n",
       "      <td>6.0</td>\n",
       "      <td>5.0</td>\n",
       "      <td>5.0</td>\n",
       "      <td>4.0</td>\n",
       "      <td>290000.0</td>\n",
       "    </tr>\n",
       "    <tr>\n",
       "      <th>2</th>\n",
       "      <td>-0.129908</td>\n",
       "      <td>0.013890</td>\n",
       "      <td>0.945222</td>\n",
       "      <td>-0.973668</td>\n",
       "      <td>-0.28876</td>\n",
       "      <td>2.423121</td>\n",
       "      <td>1.323390</td>\n",
       "      <td>1.250113</td>\n",
       "      <td>-0.794554</td>\n",
       "      <td>-0.120284</td>\n",
       "      <td>...</td>\n",
       "      <td>0.0</td>\n",
       "      <td>6.0</td>\n",
       "      <td>6.0</td>\n",
       "      <td>0.0</td>\n",
       "      <td>2.0</td>\n",
       "      <td>6.0</td>\n",
       "      <td>5.0</td>\n",
       "      <td>5.0</td>\n",
       "      <td>5.0</td>\n",
       "      <td>248900.0</td>\n",
       "    </tr>\n",
       "    <tr>\n",
       "      <th>3</th>\n",
       "      <td>0.006285</td>\n",
       "      <td>-0.142003</td>\n",
       "      <td>-0.571009</td>\n",
       "      <td>-0.921030</td>\n",
       "      <td>-0.28876</td>\n",
       "      <td>2.871246</td>\n",
       "      <td>1.829834</td>\n",
       "      <td>1.741781</td>\n",
       "      <td>-0.794554</td>\n",
       "      <td>-0.120284</td>\n",
       "      <td>...</td>\n",
       "      <td>3.0</td>\n",
       "      <td>2.0</td>\n",
       "      <td>6.0</td>\n",
       "      <td>0.0</td>\n",
       "      <td>2.0</td>\n",
       "      <td>6.0</td>\n",
       "      <td>5.0</td>\n",
       "      <td>5.0</td>\n",
       "      <td>4.0</td>\n",
       "      <td>216837.0</td>\n",
       "    </tr>\n",
       "    <tr>\n",
       "      <th>4</th>\n",
       "      <td>-0.084510</td>\n",
       "      <td>-0.268440</td>\n",
       "      <td>-0.571009</td>\n",
       "      <td>0.712921</td>\n",
       "      <td>-0.28876</td>\n",
       "      <td>-1.069086</td>\n",
       "      <td>-0.442319</td>\n",
       "      <td>-0.680331</td>\n",
       "      <td>-0.794554</td>\n",
       "      <td>-0.120284</td>\n",
       "      <td>...</td>\n",
       "      <td>0.0</td>\n",
       "      <td>0.0</td>\n",
       "      <td>6.0</td>\n",
       "      <td>4.0</td>\n",
       "      <td>3.0</td>\n",
       "      <td>6.0</td>\n",
       "      <td>5.0</td>\n",
       "      <td>5.0</td>\n",
       "      <td>4.0</td>\n",
       "      <td>124000.0</td>\n",
       "    </tr>\n",
       "  </tbody>\n",
       "</table>\n",
       "<p>5 rows × 390 columns</p>\n",
       "</div>"
      ],
      "text/plain": [
       "          0         1         2         3        4         5         6  \\\n",
       "0  0.778047  0.062982  0.812413 -0.973668 -0.28876  2.583812  1.485361   \n",
       "1  1.005036 -0.039811  1.592664  0.649317 -0.28876 -0.322211  0.244345   \n",
       "2 -0.129908  0.013890  0.945222 -0.973668 -0.28876  2.423121  1.323390   \n",
       "3  0.006285 -0.142003 -0.571009 -0.921030 -0.28876  2.871246  1.829834   \n",
       "4 -0.084510 -0.268440 -0.571009  0.712921 -0.28876 -1.069086 -0.442319   \n",
       "\n",
       "          7         8         9  ...  380  381  382  383  384  385  386  387  \\\n",
       "0  1.433842 -0.794554 -0.120284  ...  0.0  6.0  6.0  0.0  2.0  6.0  5.0  5.0   \n",
       "1  0.103750  2.236645 -0.120284  ...  3.0  2.0  6.0  0.0  2.0  6.0  5.0  5.0   \n",
       "2  1.250113 -0.794554 -0.120284  ...  0.0  6.0  6.0  0.0  2.0  6.0  5.0  5.0   \n",
       "3  1.741781 -0.794554 -0.120284  ...  3.0  2.0  6.0  0.0  2.0  6.0  5.0  5.0   \n",
       "4 -0.680331 -0.794554 -0.120284  ...  0.0  0.0  6.0  4.0  3.0  6.0  5.0  5.0   \n",
       "\n",
       "   388  SalePrice  \n",
       "0  4.0   255500.0  \n",
       "1  4.0   290000.0  \n",
       "2  5.0   248900.0  \n",
       "3  4.0   216837.0  \n",
       "4  4.0   124000.0  \n",
       "\n",
       "[5 rows x 390 columns]"
      ]
     },
     "execution_count": 78,
     "metadata": {},
     "output_type": "execute_result"
    }
   ],
   "source": [
    "# shuffle the data\n",
    "transformed_train = transformed_train.sample(frac=1).reset_index(drop=True)\n",
    "transformed_train.head()"
   ]
  },
  {
   "cell_type": "markdown",
   "metadata": {},
   "source": [
    "We split the data into training data and validation data. "
   ]
  },
  {
   "cell_type": "code",
   "execution_count": 115,
   "metadata": {},
   "outputs": [],
   "source": [
    "X_train = transformed_train.loc[:, transformed_train.columns != 'SalePrice'][:312]\n",
    "y_train = transformed_train['SalePrice'][:312]\n",
    "\n",
    "X_valid = transformed_train.loc[:, transformed_train.columns != 'SalePrice'][312:]\n",
    "y_valid = transformed_train['SalePrice'][312:].to_numpy()\n",
    "\n",
    "y_valid[581] = 169000.0"
   ]
  },
  {
   "cell_type": "code",
   "execution_count": 183,
   "metadata": {},
   "outputs": [],
   "source": [
    "import numpy as np\n",
    "from sklearn.metrics import mean_squared_error\n",
    "from sklearn.ensemble import RandomForestRegressor\n",
    "from sklearn.linear_model import LinearRegression, SGDRegressor, Ridge, Lasso\n",
    "from sklearn.svm import LinearSVR\n",
    "from sklearn.decomposition import PCA"
   ]
  },
  {
   "cell_type": "markdown",
   "metadata": {},
   "source": [
    "We use dimension reduction to make the dataset smaller."
   ]
  },
  {
   "cell_type": "code",
   "execution_count": 170,
   "metadata": {},
   "outputs": [],
   "source": [
    "X_train_reduced = PCA(n_components=11).fit_transform(X_train)\n",
    "X_valid_reduced = PCA(n_components=11).fit_transform(X_valid)"
   ]
  },
  {
   "cell_type": "code",
   "execution_count": 180,
   "metadata": {},
   "outputs": [],
   "source": [
    "def cross_val(algo, predictor = X_train_reduced, label = y_train, X_valid = X_valid_reduced, y_valid = y_valid):\n",
    "    model = algo\n",
    "    fitted_model = model.fit(predictor, label)\n",
    "    predicted_value = fitted_model.predict(X_valid)\n",
    "    log_predicted_value = np.log(predicted_value)\n",
    "    log_y_valid = np.log(y_valid)\n",
    "    score = mean_squared_error(log_y_valid, log_predicted_value, )\n",
    "    return np.sqrt(score)"
   ]
  },
  {
   "cell_type": "code",
   "execution_count": 188,
   "metadata": {},
   "outputs": [
    {
     "name": "stdout",
     "output_type": "stream",
     "text": [
      "Linear Regression 0.2581958297063\n",
      "Lasso 0.25819160374307415\n",
      "Ridge 0.2580506063072537\n",
      "Random Forest 0.26276035245158236\n",
      "Support Vector Machine 6.2908878547981955\n"
     ]
    }
   ],
   "source": [
    "print(\"Linear Regression\", cross_val(LinearRegression()))\n",
    "print(\"Lasso\", cross_val(Lasso()))\n",
    "print(\"Ridge\", cross_val(Ridge()))\n",
    "print(\"Random Forest\", cross_val(RandomForestRegressor()))\n",
    "print(\"Support Vector Machine\", cross_val(LinearSVR()))"
   ]
  },
  {
   "cell_type": "markdown",
   "metadata": {},
   "source": [
    "From the root mean squared values printed above, we can see that the Lasso Regression model returns the smallest value. "
   ]
  },
  {
   "cell_type": "markdown",
   "metadata": {},
   "source": [
    "## Fine-Tuning the Model"
   ]
  },
  {
   "cell_type": "code",
   "execution_count": 189,
   "metadata": {},
   "outputs": [],
   "source": [
    "from sklearn.model_selection import GridSearchCV"
   ]
  },
  {
   "cell_type": "markdown",
   "metadata": {},
   "source": [
    "We use GridSearchCV to find the best possible set of parameters that returns the smallest error."
   ]
  },
  {
   "cell_type": "code",
   "execution_count": 191,
   "metadata": {},
   "outputs": [
    {
     "data": {
      "text/plain": [
       "GridSearchCV(cv=5, error_score=nan,\n",
       "             estimator=Lasso(alpha=1.0, copy_X=True, fit_intercept=True,\n",
       "                             max_iter=1000, normalize=False, positive=False,\n",
       "                             precompute=False, random_state=None,\n",
       "                             selection='cyclic', tol=0.0001, warm_start=False),\n",
       "             iid='deprecated', n_jobs=None,\n",
       "             param_grid=[{'alpha': [0.1, 0.5, 1.5, 2],\n",
       "                          'tol': [0.01, 0.0001, 1e-06]}],\n",
       "             pre_dispatch='2*n_jobs', refit=True, return_train_score=True,\n",
       "             scoring='neg_mean_squared_log_error', verbose=0)"
      ]
     },
     "execution_count": 191,
     "metadata": {},
     "output_type": "execute_result"
    }
   ],
   "source": [
    "param_grid = [\n",
    "    {'alpha': [0.1, 0.5, 1.5, 2], 'tol': [1e-2, 1e-4, 1e-6]}\n",
    "]\n",
    "\n",
    "lasso = Lasso()\n",
    "grid_search = GridSearchCV(lasso, param_grid, cv=5, scoring='neg_mean_squared_log_error',\n",
    "                          return_train_score=True)\n",
    "\n",
    "grid_search.fit(X_train_reduced, y_train)"
   ]
  },
  {
   "cell_type": "code",
   "execution_count": 192,
   "metadata": {},
   "outputs": [
    {
     "data": {
      "text/plain": [
       "{'alpha': 2, 'tol': 0.01}"
      ]
     },
     "execution_count": 192,
     "metadata": {},
     "output_type": "execute_result"
    }
   ],
   "source": [
    "# get params that return best result\n",
    "grid_search.best_params_"
   ]
  },
  {
   "cell_type": "code",
   "execution_count": 198,
   "metadata": {},
   "outputs": [
    {
     "name": "stdout",
     "output_type": "stream",
     "text": [
      "Log RMSE: 0.2581873785627286\n"
     ]
    }
   ],
   "source": [
    "predict = grid_search.best_estimator_.predict(X_valid_reduced)\n",
    "\n",
    "def log_rmse(predict, true = y_valid):\n",
    "    \"\"\"\n",
    "    get root mean squared error of log(predict) and log(true)\n",
    "    \"\"\"\n",
    "    mse = mean_squared_error(np.log(y_valid), np.log(predict))\n",
    "    return np.sqrt(mse)\n",
    "\n",
    "print(\"Log RMSE:\", log_rmse(predict))"
   ]
  },
  {
   "cell_type": "markdown",
   "metadata": {},
   "source": [
    "Since the best parameters were values that was the maximum for `alpha` and `tol` we check further to see if there are better parameters."
   ]
  },
  {
   "cell_type": "code",
   "execution_count": 216,
   "metadata": {},
   "outputs": [
    {
     "name": "stdout",
     "output_type": "stream",
     "text": [
      "grid_search1: {'alpha': 10, 'tol': 0.5}\n",
      "grid_search2: {'alpha': 100, 'tol': 0.1}\n"
     ]
    }
   ],
   "source": [
    "lasso = Lasso()\n",
    "\n",
    "\n",
    "param_grid1 = [\n",
    "    {'alpha': [2, 2.5, 3, 3.5, 4, 4.5, 5, 5.5, 10], 'tol': [0.01, 0.1, 0.5, 1]}\n",
    "]\n",
    "\n",
    "grid_search1 = GridSearchCV(lasso, param_grid1, cv=5, scoring='neg_mean_squared_log_error',\n",
    "                          return_train_score=True)\n",
    "\n",
    "param_grid2 = [\n",
    "    {'alpha': [10, 100], 'tol': [0.01, 0.1, 0.5, 1]}\n",
    "]\n",
    "\n",
    "grid_search2 = GridSearchCV(lasso, param_grid2, cv=5, scoring='neg_mean_squared_log_error',\n",
    "                          return_train_score=True)\n",
    "\n",
    "grid_search1.fit(X_train_reduced, y_train)\n",
    "grid_search2.fit(X_train_reduced, y_train)\n",
    "\n",
    "print(\"grid_search1:\", grid_search1.best_params_)\n",
    "print(\"grid_search2:\", grid_search2.best_params_)"
   ]
  },
  {
   "cell_type": "markdown",
   "metadata": {},
   "source": [
    "From the output above, `grid_search_1` and `grid_search_2` returns different parameters. We get root mean squared error to see which parameters gives a more accurate prediction."
   ]
  },
  {
   "cell_type": "code",
   "execution_count": 217,
   "metadata": {},
   "outputs": [],
   "source": [
    "predict1 = grid_search1.best_estimator_.predict(X_valid_reduced)\n",
    "predict2 = grid_search2.best_estimator_.predict(X_valid_reduced)"
   ]
  },
  {
   "cell_type": "code",
   "execution_count": 218,
   "metadata": {},
   "outputs": [
    {
     "name": "stdout",
     "output_type": "stream",
     "text": [
      "Grid search 1: 0.2581536053022907\n",
      "Grid search 2: 0.2577526731788426\n"
     ]
    }
   ],
   "source": [
    "print('Grid search 1:', log_rmse(predict1))\n",
    "print('Grid search 2:', log_rmse(predict2))"
   ]
  },
  {
   "cell_type": "markdown",
   "metadata": {},
   "source": [
    "From the root mean squared value, we see that `grid_search_2` is a better model."
   ]
  },
  {
   "cell_type": "markdown",
   "metadata": {},
   "source": [
    "## Predicting using test data"
   ]
  },
  {
   "cell_type": "code",
   "execution_count": 219,
   "metadata": {},
   "outputs": [
    {
     "data": {
      "text/html": [
       "<div>\n",
       "<style scoped>\n",
       "    .dataframe tbody tr th:only-of-type {\n",
       "        vertical-align: middle;\n",
       "    }\n",
       "\n",
       "    .dataframe tbody tr th {\n",
       "        vertical-align: top;\n",
       "    }\n",
       "\n",
       "    .dataframe thead th {\n",
       "        text-align: right;\n",
       "    }\n",
       "</style>\n",
       "<table border=\"1\" class=\"dataframe\">\n",
       "  <thead>\n",
       "    <tr style=\"text-align: right;\">\n",
       "      <th></th>\n",
       "      <th>MSSubClass</th>\n",
       "      <th>MSZoning</th>\n",
       "      <th>LotFrontage</th>\n",
       "      <th>LotArea</th>\n",
       "      <th>Street</th>\n",
       "      <th>LotShape</th>\n",
       "      <th>LandContour</th>\n",
       "      <th>Utilities</th>\n",
       "      <th>LotConfig</th>\n",
       "      <th>LandSlope</th>\n",
       "      <th>...</th>\n",
       "      <th>OpenPorchSF</th>\n",
       "      <th>EnclosedPorch</th>\n",
       "      <th>3SsnPorch</th>\n",
       "      <th>ScreenPorch</th>\n",
       "      <th>PoolArea</th>\n",
       "      <th>MiscVal</th>\n",
       "      <th>MoSold</th>\n",
       "      <th>YrSold</th>\n",
       "      <th>SaleType</th>\n",
       "      <th>SaleCondition</th>\n",
       "    </tr>\n",
       "    <tr>\n",
       "      <th>Id</th>\n",
       "      <th></th>\n",
       "      <th></th>\n",
       "      <th></th>\n",
       "      <th></th>\n",
       "      <th></th>\n",
       "      <th></th>\n",
       "      <th></th>\n",
       "      <th></th>\n",
       "      <th></th>\n",
       "      <th></th>\n",
       "      <th></th>\n",
       "      <th></th>\n",
       "      <th></th>\n",
       "      <th></th>\n",
       "      <th></th>\n",
       "      <th></th>\n",
       "      <th></th>\n",
       "      <th></th>\n",
       "      <th></th>\n",
       "      <th></th>\n",
       "      <th></th>\n",
       "    </tr>\n",
       "  </thead>\n",
       "  <tbody>\n",
       "    <tr>\n",
       "      <th>1461</th>\n",
       "      <td>20</td>\n",
       "      <td>RH</td>\n",
       "      <td>80.0</td>\n",
       "      <td>11622</td>\n",
       "      <td>Pave</td>\n",
       "      <td>Reg</td>\n",
       "      <td>Lvl</td>\n",
       "      <td>AllPub</td>\n",
       "      <td>Inside</td>\n",
       "      <td>Gtl</td>\n",
       "      <td>...</td>\n",
       "      <td>0</td>\n",
       "      <td>0</td>\n",
       "      <td>0</td>\n",
       "      <td>120</td>\n",
       "      <td>0</td>\n",
       "      <td>0</td>\n",
       "      <td>6</td>\n",
       "      <td>2010</td>\n",
       "      <td>WD</td>\n",
       "      <td>Normal</td>\n",
       "    </tr>\n",
       "    <tr>\n",
       "      <th>1462</th>\n",
       "      <td>20</td>\n",
       "      <td>RL</td>\n",
       "      <td>81.0</td>\n",
       "      <td>14267</td>\n",
       "      <td>Pave</td>\n",
       "      <td>IR1</td>\n",
       "      <td>Lvl</td>\n",
       "      <td>AllPub</td>\n",
       "      <td>Corner</td>\n",
       "      <td>Gtl</td>\n",
       "      <td>...</td>\n",
       "      <td>36</td>\n",
       "      <td>0</td>\n",
       "      <td>0</td>\n",
       "      <td>0</td>\n",
       "      <td>0</td>\n",
       "      <td>12500</td>\n",
       "      <td>6</td>\n",
       "      <td>2010</td>\n",
       "      <td>WD</td>\n",
       "      <td>Normal</td>\n",
       "    </tr>\n",
       "    <tr>\n",
       "      <th>1463</th>\n",
       "      <td>60</td>\n",
       "      <td>RL</td>\n",
       "      <td>74.0</td>\n",
       "      <td>13830</td>\n",
       "      <td>Pave</td>\n",
       "      <td>IR1</td>\n",
       "      <td>Lvl</td>\n",
       "      <td>AllPub</td>\n",
       "      <td>Inside</td>\n",
       "      <td>Gtl</td>\n",
       "      <td>...</td>\n",
       "      <td>34</td>\n",
       "      <td>0</td>\n",
       "      <td>0</td>\n",
       "      <td>0</td>\n",
       "      <td>0</td>\n",
       "      <td>0</td>\n",
       "      <td>3</td>\n",
       "      <td>2010</td>\n",
       "      <td>WD</td>\n",
       "      <td>Normal</td>\n",
       "    </tr>\n",
       "    <tr>\n",
       "      <th>1464</th>\n",
       "      <td>60</td>\n",
       "      <td>RL</td>\n",
       "      <td>78.0</td>\n",
       "      <td>9978</td>\n",
       "      <td>Pave</td>\n",
       "      <td>IR1</td>\n",
       "      <td>Lvl</td>\n",
       "      <td>AllPub</td>\n",
       "      <td>Inside</td>\n",
       "      <td>Gtl</td>\n",
       "      <td>...</td>\n",
       "      <td>36</td>\n",
       "      <td>0</td>\n",
       "      <td>0</td>\n",
       "      <td>0</td>\n",
       "      <td>0</td>\n",
       "      <td>0</td>\n",
       "      <td>6</td>\n",
       "      <td>2010</td>\n",
       "      <td>WD</td>\n",
       "      <td>Normal</td>\n",
       "    </tr>\n",
       "    <tr>\n",
       "      <th>1465</th>\n",
       "      <td>120</td>\n",
       "      <td>RL</td>\n",
       "      <td>43.0</td>\n",
       "      <td>5005</td>\n",
       "      <td>Pave</td>\n",
       "      <td>IR1</td>\n",
       "      <td>HLS</td>\n",
       "      <td>AllPub</td>\n",
       "      <td>Inside</td>\n",
       "      <td>Gtl</td>\n",
       "      <td>...</td>\n",
       "      <td>82</td>\n",
       "      <td>0</td>\n",
       "      <td>0</td>\n",
       "      <td>144</td>\n",
       "      <td>0</td>\n",
       "      <td>0</td>\n",
       "      <td>1</td>\n",
       "      <td>2010</td>\n",
       "      <td>WD</td>\n",
       "      <td>Normal</td>\n",
       "    </tr>\n",
       "  </tbody>\n",
       "</table>\n",
       "<p>5 rows × 74 columns</p>\n",
       "</div>"
      ],
      "text/plain": [
       "      MSSubClass MSZoning  LotFrontage  LotArea Street LotShape LandContour  \\\n",
       "Id                                                                            \n",
       "1461          20       RH         80.0    11622   Pave      Reg         Lvl   \n",
       "1462          20       RL         81.0    14267   Pave      IR1         Lvl   \n",
       "1463          60       RL         74.0    13830   Pave      IR1         Lvl   \n",
       "1464          60       RL         78.0     9978   Pave      IR1         Lvl   \n",
       "1465         120       RL         43.0     5005   Pave      IR1         HLS   \n",
       "\n",
       "     Utilities LotConfig LandSlope  ... OpenPorchSF EnclosedPorch 3SsnPorch  \\\n",
       "Id                                  ...                                       \n",
       "1461    AllPub    Inside       Gtl  ...           0             0         0   \n",
       "1462    AllPub    Corner       Gtl  ...          36             0         0   \n",
       "1463    AllPub    Inside       Gtl  ...          34             0         0   \n",
       "1464    AllPub    Inside       Gtl  ...          36             0         0   \n",
       "1465    AllPub    Inside       Gtl  ...          82             0         0   \n",
       "\n",
       "     ScreenPorch PoolArea  MiscVal  MoSold  YrSold  SaleType SaleCondition  \n",
       "Id                                                                          \n",
       "1461         120        0        0       6    2010        WD        Normal  \n",
       "1462           0        0    12500       6    2010        WD        Normal  \n",
       "1463           0        0        0       3    2010        WD        Normal  \n",
       "1464           0        0        0       6    2010        WD        Normal  \n",
       "1465         144        0        0       1    2010        WD        Normal  \n",
       "\n",
       "[5 rows x 74 columns]"
      ]
     },
     "execution_count": 219,
     "metadata": {},
     "output_type": "execute_result"
    }
   ],
   "source": [
    "test_data.head()"
   ]
  },
  {
   "cell_type": "code",
   "execution_count": 225,
   "metadata": {},
   "outputs": [
    {
     "data": {
      "text/html": [
       "<div>\n",
       "<style scoped>\n",
       "    .dataframe tbody tr th:only-of-type {\n",
       "        vertical-align: middle;\n",
       "    }\n",
       "\n",
       "    .dataframe tbody tr th {\n",
       "        vertical-align: top;\n",
       "    }\n",
       "\n",
       "    .dataframe thead th {\n",
       "        text-align: right;\n",
       "    }\n",
       "</style>\n",
       "<table border=\"1\" class=\"dataframe\">\n",
       "  <thead>\n",
       "    <tr style=\"text-align: right;\">\n",
       "      <th></th>\n",
       "      <th>MSSubClass</th>\n",
       "      <th>MSZoning</th>\n",
       "      <th>LotFrontage</th>\n",
       "      <th>LotArea</th>\n",
       "      <th>Street</th>\n",
       "      <th>LotShape</th>\n",
       "      <th>LandContour</th>\n",
       "      <th>Utilities</th>\n",
       "      <th>LotConfig</th>\n",
       "      <th>LandSlope</th>\n",
       "      <th>...</th>\n",
       "      <th>EnclosedPorch</th>\n",
       "      <th>3SsnPorch</th>\n",
       "      <th>ScreenPorch</th>\n",
       "      <th>PoolArea</th>\n",
       "      <th>MiscVal</th>\n",
       "      <th>MoSold</th>\n",
       "      <th>YrSold</th>\n",
       "      <th>SaleType</th>\n",
       "      <th>SaleCondition</th>\n",
       "      <th>SalePrice</th>\n",
       "    </tr>\n",
       "    <tr>\n",
       "      <th>Id</th>\n",
       "      <th></th>\n",
       "      <th></th>\n",
       "      <th></th>\n",
       "      <th></th>\n",
       "      <th></th>\n",
       "      <th></th>\n",
       "      <th></th>\n",
       "      <th></th>\n",
       "      <th></th>\n",
       "      <th></th>\n",
       "      <th></th>\n",
       "      <th></th>\n",
       "      <th></th>\n",
       "      <th></th>\n",
       "      <th></th>\n",
       "      <th></th>\n",
       "      <th></th>\n",
       "      <th></th>\n",
       "      <th></th>\n",
       "      <th></th>\n",
       "      <th></th>\n",
       "    </tr>\n",
       "  </thead>\n",
       "  <tbody>\n",
       "    <tr>\n",
       "      <th>1461</th>\n",
       "      <td>20</td>\n",
       "      <td>RH</td>\n",
       "      <td>80.0</td>\n",
       "      <td>11622</td>\n",
       "      <td>Pave</td>\n",
       "      <td>Reg</td>\n",
       "      <td>Lvl</td>\n",
       "      <td>AllPub</td>\n",
       "      <td>Inside</td>\n",
       "      <td>Gtl</td>\n",
       "      <td>...</td>\n",
       "      <td>0</td>\n",
       "      <td>0</td>\n",
       "      <td>120</td>\n",
       "      <td>0</td>\n",
       "      <td>0</td>\n",
       "      <td>6</td>\n",
       "      <td>2010</td>\n",
       "      <td>WD</td>\n",
       "      <td>Normal</td>\n",
       "      <td>0</td>\n",
       "    </tr>\n",
       "    <tr>\n",
       "      <th>1462</th>\n",
       "      <td>20</td>\n",
       "      <td>RL</td>\n",
       "      <td>81.0</td>\n",
       "      <td>14267</td>\n",
       "      <td>Pave</td>\n",
       "      <td>IR1</td>\n",
       "      <td>Lvl</td>\n",
       "      <td>AllPub</td>\n",
       "      <td>Corner</td>\n",
       "      <td>Gtl</td>\n",
       "      <td>...</td>\n",
       "      <td>0</td>\n",
       "      <td>0</td>\n",
       "      <td>0</td>\n",
       "      <td>0</td>\n",
       "      <td>12500</td>\n",
       "      <td>6</td>\n",
       "      <td>2010</td>\n",
       "      <td>WD</td>\n",
       "      <td>Normal</td>\n",
       "      <td>0</td>\n",
       "    </tr>\n",
       "    <tr>\n",
       "      <th>1463</th>\n",
       "      <td>60</td>\n",
       "      <td>RL</td>\n",
       "      <td>74.0</td>\n",
       "      <td>13830</td>\n",
       "      <td>Pave</td>\n",
       "      <td>IR1</td>\n",
       "      <td>Lvl</td>\n",
       "      <td>AllPub</td>\n",
       "      <td>Inside</td>\n",
       "      <td>Gtl</td>\n",
       "      <td>...</td>\n",
       "      <td>0</td>\n",
       "      <td>0</td>\n",
       "      <td>0</td>\n",
       "      <td>0</td>\n",
       "      <td>0</td>\n",
       "      <td>3</td>\n",
       "      <td>2010</td>\n",
       "      <td>WD</td>\n",
       "      <td>Normal</td>\n",
       "      <td>0</td>\n",
       "    </tr>\n",
       "    <tr>\n",
       "      <th>1464</th>\n",
       "      <td>60</td>\n",
       "      <td>RL</td>\n",
       "      <td>78.0</td>\n",
       "      <td>9978</td>\n",
       "      <td>Pave</td>\n",
       "      <td>IR1</td>\n",
       "      <td>Lvl</td>\n",
       "      <td>AllPub</td>\n",
       "      <td>Inside</td>\n",
       "      <td>Gtl</td>\n",
       "      <td>...</td>\n",
       "      <td>0</td>\n",
       "      <td>0</td>\n",
       "      <td>0</td>\n",
       "      <td>0</td>\n",
       "      <td>0</td>\n",
       "      <td>6</td>\n",
       "      <td>2010</td>\n",
       "      <td>WD</td>\n",
       "      <td>Normal</td>\n",
       "      <td>0</td>\n",
       "    </tr>\n",
       "    <tr>\n",
       "      <th>1465</th>\n",
       "      <td>120</td>\n",
       "      <td>RL</td>\n",
       "      <td>43.0</td>\n",
       "      <td>5005</td>\n",
       "      <td>Pave</td>\n",
       "      <td>IR1</td>\n",
       "      <td>HLS</td>\n",
       "      <td>AllPub</td>\n",
       "      <td>Inside</td>\n",
       "      <td>Gtl</td>\n",
       "      <td>...</td>\n",
       "      <td>0</td>\n",
       "      <td>0</td>\n",
       "      <td>144</td>\n",
       "      <td>0</td>\n",
       "      <td>0</td>\n",
       "      <td>1</td>\n",
       "      <td>2010</td>\n",
       "      <td>WD</td>\n",
       "      <td>Normal</td>\n",
       "      <td>0</td>\n",
       "    </tr>\n",
       "  </tbody>\n",
       "</table>\n",
       "<p>5 rows × 75 columns</p>\n",
       "</div>"
      ],
      "text/plain": [
       "      MSSubClass MSZoning  LotFrontage  LotArea Street LotShape LandContour  \\\n",
       "Id                                                                            \n",
       "1461          20       RH         80.0    11622   Pave      Reg         Lvl   \n",
       "1462          20       RL         81.0    14267   Pave      IR1         Lvl   \n",
       "1463          60       RL         74.0    13830   Pave      IR1         Lvl   \n",
       "1464          60       RL         78.0     9978   Pave      IR1         Lvl   \n",
       "1465         120       RL         43.0     5005   Pave      IR1         HLS   \n",
       "\n",
       "     Utilities LotConfig LandSlope  ... EnclosedPorch 3SsnPorch ScreenPorch  \\\n",
       "Id                                  ...                                       \n",
       "1461    AllPub    Inside       Gtl  ...             0         0         120   \n",
       "1462    AllPub    Corner       Gtl  ...             0         0           0   \n",
       "1463    AllPub    Inside       Gtl  ...             0         0           0   \n",
       "1464    AllPub    Inside       Gtl  ...             0         0           0   \n",
       "1465    AllPub    Inside       Gtl  ...             0         0         144   \n",
       "\n",
       "     PoolArea MiscVal  MoSold  YrSold  SaleType  SaleCondition SalePrice  \n",
       "Id                                                                        \n",
       "1461        0       0       6    2010        WD         Normal         0  \n",
       "1462        0   12500       6    2010        WD         Normal         0  \n",
       "1463        0       0       3    2010        WD         Normal         0  \n",
       "1464        0       0       6    2010        WD         Normal         0  \n",
       "1465        0       0       1    2010        WD         Normal         0  \n",
       "\n",
       "[5 rows x 75 columns]"
      ]
     },
     "execution_count": 225,
     "metadata": {},
     "output_type": "execute_result"
    }
   ],
   "source": [
    "test_data['SalePrice'] = [0 for x in range(1459)]\n",
    "test_data.head()"
   ]
  },
  {
   "cell_type": "code",
   "execution_count": 231,
   "metadata": {},
   "outputs": [
    {
     "data": {
      "text/plain": [
       "LotFrontage     227\n",
       "GarageQual       78\n",
       "GarageYrBlt      78\n",
       "GarageFinish     78\n",
       "GarageCond       78\n",
       "GarageType       76\n",
       "BsmtCond         45\n",
       "BsmtQual         44\n",
       "BsmtExposure     44\n",
       "BsmtFinType2     42\n",
       "BsmtFinType1     42\n",
       "MasVnrType       16\n",
       "MasVnrArea       15\n",
       "MSZoning          4\n",
       "Functional        2\n",
       "BsmtHalfBath      2\n",
       "BsmtFullBath      2\n",
       "Utilities         2\n",
       "KitchenQual       1\n",
       "Exterior2nd       1\n",
       "TotalBsmtSF       1\n",
       "GarageArea        1\n",
       "BsmtUnfSF         1\n",
       "GarageCars        1\n",
       "BsmtFinSF2        1\n",
       "BsmtFinSF1        1\n",
       "SaleType          1\n",
       "Exterior1st       1\n",
       "SalePrice         0\n",
       "RoofStyle         0\n",
       "dtype: int64"
      ]
     },
     "execution_count": 231,
     "metadata": {},
     "output_type": "execute_result"
    }
   ],
   "source": [
    "null_val = test_data.isnull().sum().sort_values(ascending=False)\n",
    "null_val.head(30)"
   ]
  },
  {
   "cell_type": "code",
   "execution_count": null,
   "metadata": {},
   "outputs": [],
   "source": [
    "fill_values = {\n",
    "    'BsmtQual': 'NoB', 'BsmtCond': 'NoB', 'BsmtExposure': 'NoB', 'BsmtFinType1': 'NoB',\n",
    "    'BsmtFinType2': 'NoB', 'GarageType': 'NoG', 'GarageFinish': 'NoG', 'GarageQual': 'NoG',\n",
    "    'GarageCond': 'NoG', 'MasVnrType': 'None'\n",
    "}\n",
    "\n",
    "for key in fill_values:\n",
    "    train_data[key] = train_data[key].fillna(value=fill_values[key])"
   ]
  },
  {
   "cell_type": "code",
   "execution_count": null,
   "metadata": {},
   "outputs": [],
   "source": []
  }
 ],
 "metadata": {
  "kernelspec": {
   "display_name": "Python 3",
   "language": "python",
   "name": "python3"
  },
  "language_info": {
   "codemirror_mode": {
    "name": "ipython",
    "version": 3
   },
   "file_extension": ".py",
   "mimetype": "text/x-python",
   "name": "python",
   "nbconvert_exporter": "python",
   "pygments_lexer": "ipython3",
   "version": "3.8.0"
  }
 },
 "nbformat": 4,
 "nbformat_minor": 4
}
