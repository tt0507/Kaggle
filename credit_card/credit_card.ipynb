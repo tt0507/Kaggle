{
 "cells": [
  {
   "cell_type": "markdown",
   "metadata": {},
   "source": [
    "# Credit Card Fraud Detection"
   ]
  },
  {
   "cell_type": "code",
   "execution_count": 1,
   "metadata": {},
   "outputs": [],
   "source": [
    "import pandas as pd\n",
    "import matplotlib.pyplot as plt\n",
    "import seaborn as sns"
   ]
  },
  {
   "cell_type": "code",
   "execution_count": 2,
   "metadata": {},
   "outputs": [
    {
     "data": {
      "text/html": [
       "<div>\n",
       "<style scoped>\n",
       "    .dataframe tbody tr th:only-of-type {\n",
       "        vertical-align: middle;\n",
       "    }\n",
       "\n",
       "    .dataframe tbody tr th {\n",
       "        vertical-align: top;\n",
       "    }\n",
       "\n",
       "    .dataframe thead th {\n",
       "        text-align: right;\n",
       "    }\n",
       "</style>\n",
       "<table border=\"1\" class=\"dataframe\">\n",
       "  <thead>\n",
       "    <tr style=\"text-align: right;\">\n",
       "      <th></th>\n",
       "      <th>Time</th>\n",
       "      <th>V1</th>\n",
       "      <th>V2</th>\n",
       "      <th>V3</th>\n",
       "      <th>V4</th>\n",
       "      <th>V5</th>\n",
       "      <th>V6</th>\n",
       "      <th>V7</th>\n",
       "      <th>V8</th>\n",
       "      <th>V9</th>\n",
       "      <th>...</th>\n",
       "      <th>V21</th>\n",
       "      <th>V22</th>\n",
       "      <th>V23</th>\n",
       "      <th>V24</th>\n",
       "      <th>V25</th>\n",
       "      <th>V26</th>\n",
       "      <th>V27</th>\n",
       "      <th>V28</th>\n",
       "      <th>Amount</th>\n",
       "      <th>Class</th>\n",
       "    </tr>\n",
       "  </thead>\n",
       "  <tbody>\n",
       "    <tr>\n",
       "      <th>0</th>\n",
       "      <td>0.0</td>\n",
       "      <td>-1.359807</td>\n",
       "      <td>-0.072781</td>\n",
       "      <td>2.536347</td>\n",
       "      <td>1.378155</td>\n",
       "      <td>-0.338321</td>\n",
       "      <td>0.462388</td>\n",
       "      <td>0.239599</td>\n",
       "      <td>0.098698</td>\n",
       "      <td>0.363787</td>\n",
       "      <td>...</td>\n",
       "      <td>-0.018307</td>\n",
       "      <td>0.277838</td>\n",
       "      <td>-0.110474</td>\n",
       "      <td>0.066928</td>\n",
       "      <td>0.128539</td>\n",
       "      <td>-0.189115</td>\n",
       "      <td>0.133558</td>\n",
       "      <td>-0.021053</td>\n",
       "      <td>149.62</td>\n",
       "      <td>0</td>\n",
       "    </tr>\n",
       "    <tr>\n",
       "      <th>1</th>\n",
       "      <td>0.0</td>\n",
       "      <td>1.191857</td>\n",
       "      <td>0.266151</td>\n",
       "      <td>0.166480</td>\n",
       "      <td>0.448154</td>\n",
       "      <td>0.060018</td>\n",
       "      <td>-0.082361</td>\n",
       "      <td>-0.078803</td>\n",
       "      <td>0.085102</td>\n",
       "      <td>-0.255425</td>\n",
       "      <td>...</td>\n",
       "      <td>-0.225775</td>\n",
       "      <td>-0.638672</td>\n",
       "      <td>0.101288</td>\n",
       "      <td>-0.339846</td>\n",
       "      <td>0.167170</td>\n",
       "      <td>0.125895</td>\n",
       "      <td>-0.008983</td>\n",
       "      <td>0.014724</td>\n",
       "      <td>2.69</td>\n",
       "      <td>0</td>\n",
       "    </tr>\n",
       "    <tr>\n",
       "      <th>2</th>\n",
       "      <td>1.0</td>\n",
       "      <td>-1.358354</td>\n",
       "      <td>-1.340163</td>\n",
       "      <td>1.773209</td>\n",
       "      <td>0.379780</td>\n",
       "      <td>-0.503198</td>\n",
       "      <td>1.800499</td>\n",
       "      <td>0.791461</td>\n",
       "      <td>0.247676</td>\n",
       "      <td>-1.514654</td>\n",
       "      <td>...</td>\n",
       "      <td>0.247998</td>\n",
       "      <td>0.771679</td>\n",
       "      <td>0.909412</td>\n",
       "      <td>-0.689281</td>\n",
       "      <td>-0.327642</td>\n",
       "      <td>-0.139097</td>\n",
       "      <td>-0.055353</td>\n",
       "      <td>-0.059752</td>\n",
       "      <td>378.66</td>\n",
       "      <td>0</td>\n",
       "    </tr>\n",
       "    <tr>\n",
       "      <th>3</th>\n",
       "      <td>1.0</td>\n",
       "      <td>-0.966272</td>\n",
       "      <td>-0.185226</td>\n",
       "      <td>1.792993</td>\n",
       "      <td>-0.863291</td>\n",
       "      <td>-0.010309</td>\n",
       "      <td>1.247203</td>\n",
       "      <td>0.237609</td>\n",
       "      <td>0.377436</td>\n",
       "      <td>-1.387024</td>\n",
       "      <td>...</td>\n",
       "      <td>-0.108300</td>\n",
       "      <td>0.005274</td>\n",
       "      <td>-0.190321</td>\n",
       "      <td>-1.175575</td>\n",
       "      <td>0.647376</td>\n",
       "      <td>-0.221929</td>\n",
       "      <td>0.062723</td>\n",
       "      <td>0.061458</td>\n",
       "      <td>123.50</td>\n",
       "      <td>0</td>\n",
       "    </tr>\n",
       "    <tr>\n",
       "      <th>4</th>\n",
       "      <td>2.0</td>\n",
       "      <td>-1.158233</td>\n",
       "      <td>0.877737</td>\n",
       "      <td>1.548718</td>\n",
       "      <td>0.403034</td>\n",
       "      <td>-0.407193</td>\n",
       "      <td>0.095921</td>\n",
       "      <td>0.592941</td>\n",
       "      <td>-0.270533</td>\n",
       "      <td>0.817739</td>\n",
       "      <td>...</td>\n",
       "      <td>-0.009431</td>\n",
       "      <td>0.798278</td>\n",
       "      <td>-0.137458</td>\n",
       "      <td>0.141267</td>\n",
       "      <td>-0.206010</td>\n",
       "      <td>0.502292</td>\n",
       "      <td>0.219422</td>\n",
       "      <td>0.215153</td>\n",
       "      <td>69.99</td>\n",
       "      <td>0</td>\n",
       "    </tr>\n",
       "  </tbody>\n",
       "</table>\n",
       "<p>5 rows × 31 columns</p>\n",
       "</div>"
      ],
      "text/plain": [
       "   Time        V1        V2        V3        V4        V5        V6        V7  \\\n",
       "0   0.0 -1.359807 -0.072781  2.536347  1.378155 -0.338321  0.462388  0.239599   \n",
       "1   0.0  1.191857  0.266151  0.166480  0.448154  0.060018 -0.082361 -0.078803   \n",
       "2   1.0 -1.358354 -1.340163  1.773209  0.379780 -0.503198  1.800499  0.791461   \n",
       "3   1.0 -0.966272 -0.185226  1.792993 -0.863291 -0.010309  1.247203  0.237609   \n",
       "4   2.0 -1.158233  0.877737  1.548718  0.403034 -0.407193  0.095921  0.592941   \n",
       "\n",
       "         V8        V9  ...       V21       V22       V23       V24       V25  \\\n",
       "0  0.098698  0.363787  ... -0.018307  0.277838 -0.110474  0.066928  0.128539   \n",
       "1  0.085102 -0.255425  ... -0.225775 -0.638672  0.101288 -0.339846  0.167170   \n",
       "2  0.247676 -1.514654  ...  0.247998  0.771679  0.909412 -0.689281 -0.327642   \n",
       "3  0.377436 -1.387024  ... -0.108300  0.005274 -0.190321 -1.175575  0.647376   \n",
       "4 -0.270533  0.817739  ... -0.009431  0.798278 -0.137458  0.141267 -0.206010   \n",
       "\n",
       "        V26       V27       V28  Amount  Class  \n",
       "0 -0.189115  0.133558 -0.021053  149.62      0  \n",
       "1  0.125895 -0.008983  0.014724    2.69      0  \n",
       "2 -0.139097 -0.055353 -0.059752  378.66      0  \n",
       "3 -0.221929  0.062723  0.061458  123.50      0  \n",
       "4  0.502292  0.219422  0.215153   69.99      0  \n",
       "\n",
       "[5 rows x 31 columns]"
      ]
     },
     "execution_count": 2,
     "metadata": {},
     "output_type": "execute_result"
    }
   ],
   "source": [
    "data = pd.read_csv('data/creditcard.csv')\n",
    "data.head()"
   ]
  },
  {
   "cell_type": "code",
   "execution_count": 3,
   "metadata": {},
   "outputs": [
    {
     "name": "stdout",
     "output_type": "stream",
     "text": [
      "<class 'pandas.core.frame.DataFrame'>\n",
      "RangeIndex: 284807 entries, 0 to 284806\n",
      "Data columns (total 31 columns):\n",
      "Time      284807 non-null float64\n",
      "V1        284807 non-null float64\n",
      "V2        284807 non-null float64\n",
      "V3        284807 non-null float64\n",
      "V4        284807 non-null float64\n",
      "V5        284807 non-null float64\n",
      "V6        284807 non-null float64\n",
      "V7        284807 non-null float64\n",
      "V8        284807 non-null float64\n",
      "V9        284807 non-null float64\n",
      "V10       284807 non-null float64\n",
      "V11       284807 non-null float64\n",
      "V12       284807 non-null float64\n",
      "V13       284807 non-null float64\n",
      "V14       284807 non-null float64\n",
      "V15       284807 non-null float64\n",
      "V16       284807 non-null float64\n",
      "V17       284807 non-null float64\n",
      "V18       284807 non-null float64\n",
      "V19       284807 non-null float64\n",
      "V20       284807 non-null float64\n",
      "V21       284807 non-null float64\n",
      "V22       284807 non-null float64\n",
      "V23       284807 non-null float64\n",
      "V24       284807 non-null float64\n",
      "V25       284807 non-null float64\n",
      "V26       284807 non-null float64\n",
      "V27       284807 non-null float64\n",
      "V28       284807 non-null float64\n",
      "Amount    284807 non-null float64\n",
      "Class     284807 non-null int64\n",
      "dtypes: float64(30), int64(1)\n",
      "memory usage: 67.4 MB\n"
     ]
    }
   ],
   "source": [
    "data.info()"
   ]
  },
  {
   "cell_type": "markdown",
   "metadata": {},
   "source": [
    "Check the amount of fradulent and non-fradulent transaction"
   ]
  },
  {
   "cell_type": "code",
   "execution_count": 10,
   "metadata": {},
   "outputs": [
    {
     "data": {
      "image/png": "[encoded data removed]",
      "text/plain": [
       "<Figure size 432x288 with 1 Axes>"
      ]
     },
     "metadata": {
      "needs_background": "light"
     },
     "output_type": "display_data"
    }
   ],
   "source": [
    "sns.countplot('Class', data=data)\n",
    "plt.title('Histogram of Fradulent and Non-Fradulent Transactions')\n",
    "plt.show()"
   ]
  },
  {
   "cell_type": "code",
   "execution_count": 11,
   "metadata": {},
   "outputs": [
    {
     "name": "stdout",
     "output_type": "stream",
     "text": [
      "No Frauds:  99.83 %\n",
      "Frauds: 0.17 %\n"
     ]
    }
   ],
   "source": [
    "print('No Frauds: ', round(data['Class'].value_counts()[0]/len(data) * 100,2), '%')\n",
    "print('Frauds:', round(data['Class'].value_counts()[1]/len(data) * 100,2), '%')"
   ]
  },
  {
   "cell_type": "markdown",
   "metadata": {},
   "source": [
    "99.83% of the transaction in the datasets are non-fradulent. When creating a model on the entire dataset, the model may overfit. To prevent overfitting we create a sample where the number of fradulent and non-fradulent transactions are equal. "
   ]
  },
  {
   "cell_type": "code",
   "execution_count": 12,
   "metadata": {},
   "outputs": [
    {
     "data": {
      "text/html": [
       "<div>\n",
       "<style scoped>\n",
       "    .dataframe tbody tr th:only-of-type {\n",
       "        vertical-align: middle;\n",
       "    }\n",
       "\n",
       "    .dataframe tbody tr th {\n",
       "        vertical-align: top;\n",
       "    }\n",
       "\n",
       "    .dataframe thead th {\n",
       "        text-align: right;\n",
       "    }\n",
       "</style>\n",
       "<table border=\"1\" class=\"dataframe\">\n",
       "  <thead>\n",
       "    <tr style=\"text-align: right;\">\n",
       "      <th></th>\n",
       "      <th>Time</th>\n",
       "      <th>V1</th>\n",
       "      <th>V2</th>\n",
       "      <th>V3</th>\n",
       "      <th>V4</th>\n",
       "      <th>V5</th>\n",
       "      <th>V6</th>\n",
       "      <th>V7</th>\n",
       "      <th>V8</th>\n",
       "      <th>V9</th>\n",
       "      <th>...</th>\n",
       "      <th>V21</th>\n",
       "      <th>V22</th>\n",
       "      <th>V23</th>\n",
       "      <th>V24</th>\n",
       "      <th>V25</th>\n",
       "      <th>V26</th>\n",
       "      <th>V27</th>\n",
       "      <th>V28</th>\n",
       "      <th>Amount</th>\n",
       "      <th>Class</th>\n",
       "    </tr>\n",
       "  </thead>\n",
       "  <tbody>\n",
       "    <tr>\n",
       "      <th>76028</th>\n",
       "      <td>56362.0</td>\n",
       "      <td>1.116006</td>\n",
       "      <td>-0.025995</td>\n",
       "      <td>1.097629</td>\n",
       "      <td>2.564423</td>\n",
       "      <td>-0.613870</td>\n",
       "      <td>0.586278</td>\n",
       "      <td>-0.669844</td>\n",
       "      <td>0.326577</td>\n",
       "      <td>0.480265</td>\n",
       "      <td>...</td>\n",
       "      <td>-0.144436</td>\n",
       "      <td>-0.437186</td>\n",
       "      <td>-0.064028</td>\n",
       "      <td>-0.522100</td>\n",
       "      <td>0.325902</td>\n",
       "      <td>0.012288</td>\n",
       "      <td>0.021676</td>\n",
       "      <td>0.028708</td>\n",
       "      <td>34.97</td>\n",
       "      <td>0</td>\n",
       "    </tr>\n",
       "    <tr>\n",
       "      <th>264046</th>\n",
       "      <td>161238.0</td>\n",
       "      <td>-1.294921</td>\n",
       "      <td>2.050438</td>\n",
       "      <td>-1.279203</td>\n",
       "      <td>-1.055058</td>\n",
       "      <td>0.884961</td>\n",
       "      <td>-0.380670</td>\n",
       "      <td>0.936969</td>\n",
       "      <td>-0.050423</td>\n",
       "      <td>1.352204</td>\n",
       "      <td>...</td>\n",
       "      <td>0.077019</td>\n",
       "      <td>1.033992</td>\n",
       "      <td>-0.138503</td>\n",
       "      <td>-0.087180</td>\n",
       "      <td>-0.412243</td>\n",
       "      <td>-0.226728</td>\n",
       "      <td>0.679236</td>\n",
       "      <td>0.172518</td>\n",
       "      <td>0.89</td>\n",
       "      <td>0</td>\n",
       "    </tr>\n",
       "    <tr>\n",
       "      <th>40697</th>\n",
       "      <td>40359.0</td>\n",
       "      <td>-0.410381</td>\n",
       "      <td>1.096819</td>\n",
       "      <td>-0.026878</td>\n",
       "      <td>0.994127</td>\n",
       "      <td>0.381271</td>\n",
       "      <td>-1.238644</td>\n",
       "      <td>0.785967</td>\n",
       "      <td>-0.096025</td>\n",
       "      <td>-0.475072</td>\n",
       "      <td>...</td>\n",
       "      <td>0.123970</td>\n",
       "      <td>0.642627</td>\n",
       "      <td>0.242668</td>\n",
       "      <td>0.343223</td>\n",
       "      <td>-0.659214</td>\n",
       "      <td>-0.442232</td>\n",
       "      <td>0.047665</td>\n",
       "      <td>-0.083061</td>\n",
       "      <td>3.83</td>\n",
       "      <td>0</td>\n",
       "    </tr>\n",
       "    <tr>\n",
       "      <th>231471</th>\n",
       "      <td>146777.0</td>\n",
       "      <td>0.921560</td>\n",
       "      <td>-1.850690</td>\n",
       "      <td>-2.507724</td>\n",
       "      <td>0.830760</td>\n",
       "      <td>-0.306737</td>\n",
       "      <td>-0.589937</td>\n",
       "      <td>0.723417</td>\n",
       "      <td>-0.228607</td>\n",
       "      <td>1.165802</td>\n",
       "      <td>...</td>\n",
       "      <td>0.068218</td>\n",
       "      <td>-0.939649</td>\n",
       "      <td>-0.277111</td>\n",
       "      <td>0.463932</td>\n",
       "      <td>-0.302325</td>\n",
       "      <td>-0.168037</td>\n",
       "      <td>-0.124562</td>\n",
       "      <td>0.083909</td>\n",
       "      <td>583.12</td>\n",
       "      <td>0</td>\n",
       "    </tr>\n",
       "    <tr>\n",
       "      <th>36200</th>\n",
       "      <td>38433.0</td>\n",
       "      <td>1.185895</td>\n",
       "      <td>-1.100078</td>\n",
       "      <td>0.802142</td>\n",
       "      <td>-0.519271</td>\n",
       "      <td>-1.329392</td>\n",
       "      <td>0.061742</td>\n",
       "      <td>-0.976230</td>\n",
       "      <td>0.017040</td>\n",
       "      <td>-0.052650</td>\n",
       "      <td>...</td>\n",
       "      <td>0.145205</td>\n",
       "      <td>0.317018</td>\n",
       "      <td>-0.207993</td>\n",
       "      <td>-0.271363</td>\n",
       "      <td>0.440327</td>\n",
       "      <td>-0.166129</td>\n",
       "      <td>0.036611</td>\n",
       "      <td>0.040753</td>\n",
       "      <td>120.00</td>\n",
       "      <td>0</td>\n",
       "    </tr>\n",
       "  </tbody>\n",
       "</table>\n",
       "<p>5 rows × 31 columns</p>\n",
       "</div>"
      ],
      "text/plain": [
       "            Time        V1        V2        V3        V4        V5        V6  \\\n",
       "76028    56362.0  1.116006 -0.025995  1.097629  2.564423 -0.613870  0.586278   \n",
       "264046  161238.0 -1.294921  2.050438 -1.279203 -1.055058  0.884961 -0.380670   \n",
       "40697    40359.0 -0.410381  1.096819 -0.026878  0.994127  0.381271 -1.238644   \n",
       "231471  146777.0  0.921560 -1.850690 -2.507724  0.830760 -0.306737 -0.589937   \n",
       "36200    38433.0  1.185895 -1.100078  0.802142 -0.519271 -1.329392  0.061742   \n",
       "\n",
       "              V7        V8        V9  ...       V21       V22       V23  \\\n",
       "76028  -0.669844  0.326577  0.480265  ... -0.144436 -0.437186 -0.064028   \n",
       "264046  0.936969 -0.050423  1.352204  ...  0.077019  1.033992 -0.138503   \n",
       "40697   0.785967 -0.096025 -0.475072  ...  0.123970  0.642627  0.242668   \n",
       "231471  0.723417 -0.228607  1.165802  ...  0.068218 -0.939649 -0.277111   \n",
       "36200  -0.976230  0.017040 -0.052650  ...  0.145205  0.317018 -0.207993   \n",
       "\n",
       "             V24       V25       V26       V27       V28  Amount  Class  \n",
       "76028  -0.522100  0.325902  0.012288  0.021676  0.028708   34.97      0  \n",
       "264046 -0.087180 -0.412243 -0.226728  0.679236  0.172518    0.89      0  \n",
       "40697   0.343223 -0.659214 -0.442232  0.047665 -0.083061    3.83      0  \n",
       "231471  0.463932 -0.302325 -0.168037 -0.124562  0.083909  583.12      0  \n",
       "36200  -0.271363  0.440327 -0.166129  0.036611  0.040753  120.00      0  \n",
       "\n",
       "[5 rows x 31 columns]"
      ]
     },
     "execution_count": 12,
     "metadata": {},
     "output_type": "execute_result"
    }
   ],
   "source": [
    "# shuffle dataset\n",
    "data = data.sample(frac=1)\n",
    "data.head()"
   ]
  },
  {
   "cell_type": "code",
   "execution_count": 14,
   "metadata": {},
   "outputs": [
    {
     "name": "stdout",
     "output_type": "stream",
     "text": [
      "Number of fraudulent transaction: 492\n"
     ]
    }
   ],
   "source": [
    "print(\"Number of fraudulent transaction:\", data['Class'].value_counts()[1])"
   ]
  },
  {
   "cell_type": "code",
   "execution_count": 122,
   "metadata": {},
   "outputs": [],
   "source": [
    "nonfraud_data = data[data['Class']==0][:492]\n",
    "fraud_data = data[data['Class']==1]"
   ]
  },
  {
   "cell_type": "code",
   "execution_count": 123,
   "metadata": {},
   "outputs": [
    {
     "data": {
      "text/html": [
       "<div>\n",
       "<style scoped>\n",
       "    .dataframe tbody tr th:only-of-type {\n",
       "        vertical-align: middle;\n",
       "    }\n",
       "\n",
       "    .dataframe tbody tr th {\n",
       "        vertical-align: top;\n",
       "    }\n",
       "\n",
       "    .dataframe thead th {\n",
       "        text-align: right;\n",
       "    }\n",
       "</style>\n",
       "<table border=\"1\" class=\"dataframe\">\n",
       "  <thead>\n",
       "    <tr style=\"text-align: right;\">\n",
       "      <th></th>\n",
       "      <th>Time</th>\n",
       "      <th>V1</th>\n",
       "      <th>V2</th>\n",
       "      <th>V3</th>\n",
       "      <th>V4</th>\n",
       "      <th>V5</th>\n",
       "      <th>V6</th>\n",
       "      <th>V7</th>\n",
       "      <th>V8</th>\n",
       "      <th>V9</th>\n",
       "      <th>...</th>\n",
       "      <th>V21</th>\n",
       "      <th>V22</th>\n",
       "      <th>V23</th>\n",
       "      <th>V24</th>\n",
       "      <th>V25</th>\n",
       "      <th>V26</th>\n",
       "      <th>V27</th>\n",
       "      <th>V28</th>\n",
       "      <th>Amount</th>\n",
       "      <th>Class</th>\n",
       "    </tr>\n",
       "  </thead>\n",
       "  <tbody>\n",
       "    <tr>\n",
       "      <th>251866</th>\n",
       "      <td>155535.0</td>\n",
       "      <td>0.711155</td>\n",
       "      <td>2.617105</td>\n",
       "      <td>-4.722363</td>\n",
       "      <td>5.842970</td>\n",
       "      <td>-0.600179</td>\n",
       "      <td>-1.646313</td>\n",
       "      <td>-2.785198</td>\n",
       "      <td>0.540368</td>\n",
       "      <td>-3.044029</td>\n",
       "      <td>...</td>\n",
       "      <td>0.360501</td>\n",
       "      <td>-0.865526</td>\n",
       "      <td>0.139978</td>\n",
       "      <td>-0.336238</td>\n",
       "      <td>0.128449</td>\n",
       "      <td>-0.155646</td>\n",
       "      <td>0.799460</td>\n",
       "      <td>0.392170</td>\n",
       "      <td>3.90</td>\n",
       "      <td>1</td>\n",
       "    </tr>\n",
       "    <tr>\n",
       "      <th>42528</th>\n",
       "      <td>41138.0</td>\n",
       "      <td>-4.595617</td>\n",
       "      <td>5.083690</td>\n",
       "      <td>-7.581015</td>\n",
       "      <td>7.546033</td>\n",
       "      <td>-6.949165</td>\n",
       "      <td>-1.729185</td>\n",
       "      <td>-8.190192</td>\n",
       "      <td>2.714670</td>\n",
       "      <td>-7.083169</td>\n",
       "      <td>...</td>\n",
       "      <td>2.248971</td>\n",
       "      <td>0.566844</td>\n",
       "      <td>0.033744</td>\n",
       "      <td>0.591783</td>\n",
       "      <td>0.334229</td>\n",
       "      <td>0.386801</td>\n",
       "      <td>2.163898</td>\n",
       "      <td>0.983104</td>\n",
       "      <td>340.11</td>\n",
       "      <td>1</td>\n",
       "    </tr>\n",
       "    <tr>\n",
       "      <th>125342</th>\n",
       "      <td>77627.0</td>\n",
       "      <td>-7.139060</td>\n",
       "      <td>2.773082</td>\n",
       "      <td>-6.757845</td>\n",
       "      <td>4.446456</td>\n",
       "      <td>-5.464428</td>\n",
       "      <td>-1.713401</td>\n",
       "      <td>-6.485365</td>\n",
       "      <td>3.409395</td>\n",
       "      <td>-3.053493</td>\n",
       "      <td>...</td>\n",
       "      <td>1.303250</td>\n",
       "      <td>-0.016118</td>\n",
       "      <td>-0.876670</td>\n",
       "      <td>0.382230</td>\n",
       "      <td>-1.054624</td>\n",
       "      <td>-0.614606</td>\n",
       "      <td>-0.766848</td>\n",
       "      <td>0.409424</td>\n",
       "      <td>106.90</td>\n",
       "      <td>1</td>\n",
       "    </tr>\n",
       "    <tr>\n",
       "      <th>6427</th>\n",
       "      <td>7610.0</td>\n",
       "      <td>0.725646</td>\n",
       "      <td>2.300894</td>\n",
       "      <td>-5.329976</td>\n",
       "      <td>4.007683</td>\n",
       "      <td>-1.730411</td>\n",
       "      <td>-1.732193</td>\n",
       "      <td>-3.968593</td>\n",
       "      <td>1.063728</td>\n",
       "      <td>-0.486097</td>\n",
       "      <td>...</td>\n",
       "      <td>0.589669</td>\n",
       "      <td>0.109541</td>\n",
       "      <td>0.601045</td>\n",
       "      <td>-0.364700</td>\n",
       "      <td>-1.843078</td>\n",
       "      <td>0.351909</td>\n",
       "      <td>0.594550</td>\n",
       "      <td>0.099372</td>\n",
       "      <td>1.00</td>\n",
       "      <td>1</td>\n",
       "    </tr>\n",
       "    <tr>\n",
       "      <th>15736</th>\n",
       "      <td>27163.0</td>\n",
       "      <td>-23.914101</td>\n",
       "      <td>13.765942</td>\n",
       "      <td>-25.733734</td>\n",
       "      <td>6.290918</td>\n",
       "      <td>-17.784824</td>\n",
       "      <td>-4.572498</td>\n",
       "      <td>-17.390764</td>\n",
       "      <td>15.794136</td>\n",
       "      <td>-3.819832</td>\n",
       "      <td>...</td>\n",
       "      <td>1.773399</td>\n",
       "      <td>-1.748426</td>\n",
       "      <td>-1.093104</td>\n",
       "      <td>0.147807</td>\n",
       "      <td>1.663792</td>\n",
       "      <td>-0.221024</td>\n",
       "      <td>1.458076</td>\n",
       "      <td>0.430315</td>\n",
       "      <td>99.99</td>\n",
       "      <td>1</td>\n",
       "    </tr>\n",
       "  </tbody>\n",
       "</table>\n",
       "<p>5 rows × 31 columns</p>\n",
       "</div>"
      ],
      "text/plain": [
       "            Time         V1         V2         V3        V4         V5  \\\n",
       "251866  155535.0   0.711155   2.617105  -4.722363  5.842970  -0.600179   \n",
       "42528    41138.0  -4.595617   5.083690  -7.581015  7.546033  -6.949165   \n",
       "125342   77627.0  -7.139060   2.773082  -6.757845  4.446456  -5.464428   \n",
       "6427      7610.0   0.725646   2.300894  -5.329976  4.007683  -1.730411   \n",
       "15736    27163.0 -23.914101  13.765942 -25.733734  6.290918 -17.784824   \n",
       "\n",
       "              V6         V7         V8        V9  ...       V21       V22  \\\n",
       "251866 -1.646313  -2.785198   0.540368 -3.044029  ...  0.360501 -0.865526   \n",
       "42528  -1.729185  -8.190192   2.714670 -7.083169  ...  2.248971  0.566844   \n",
       "125342 -1.713401  -6.485365   3.409395 -3.053493  ...  1.303250 -0.016118   \n",
       "6427   -1.732193  -3.968593   1.063728 -0.486097  ...  0.589669  0.109541   \n",
       "15736  -4.572498 -17.390764  15.794136 -3.819832  ...  1.773399 -1.748426   \n",
       "\n",
       "             V23       V24       V25       V26       V27       V28  Amount  \\\n",
       "251866  0.139978 -0.336238  0.128449 -0.155646  0.799460  0.392170    3.90   \n",
       "42528   0.033744  0.591783  0.334229  0.386801  2.163898  0.983104  340.11   \n",
       "125342 -0.876670  0.382230 -1.054624 -0.614606 -0.766848  0.409424  106.90   \n",
       "6427    0.601045 -0.364700 -1.843078  0.351909  0.594550  0.099372    1.00   \n",
       "15736  -1.093104  0.147807  1.663792 -0.221024  1.458076  0.430315   99.99   \n",
       "\n",
       "        Class  \n",
       "251866      1  \n",
       "42528       1  \n",
       "125342      1  \n",
       "6427        1  \n",
       "15736       1  \n",
       "\n",
       "[5 rows x 31 columns]"
      ]
     },
     "execution_count": 123,
     "metadata": {},
     "output_type": "execute_result"
    }
   ],
   "source": [
    "sample_data = pd.concat([nonfraud_data, fraud_data]) # combine two dataset\n",
    "sample_data = sample_data.sample(frac=1) # shuffle dataset\n",
    "sample_data.head()"
   ]
  },
  {
   "cell_type": "code",
   "execution_count": 22,
   "metadata": {},
   "outputs": [
    {
     "data": {
      "image/png": "[encoded data removed]",
      "text/plain": [
       "<Figure size 432x288 with 1 Axes>"
      ]
     },
     "metadata": {
      "needs_background": "light"
     },
     "output_type": "display_data"
    }
   ],
   "source": [
    "sns.countplot('Class', data=sample_data)\n",
    "plt.title('Histogram of Fradulent and Non-Fradulent Transactions')\n",
    "plt.show()"
   ]
  },
  {
   "cell_type": "markdown",
   "metadata": {},
   "source": [
    "## Anomaly Detection"
   ]
  },
  {
   "cell_type": "markdown",
   "metadata": {},
   "source": [
    "### Anomaly Detection Using Correlation"
   ]
  },
  {
   "cell_type": "code",
   "execution_count": 26,
   "metadata": {},
   "outputs": [
    {
     "data": {
      "image/png": "[encoded data removed]",
      "text/plain": [
       "<Figure size 1440x576 with 2 Axes>"
      ]
     },
     "metadata": {
      "needs_background": "light"
     },
     "output_type": "display_data"
    }
   ],
   "source": [
    "plt.figure(figsize=(20, 8))\n",
    "sample_data_corr = sample_data.corr()\n",
    "sns.heatmap(sample_data_corr)\n",
    "plt.show()"
   ]
  },
  {
   "cell_type": "markdown",
   "metadata": {},
   "source": [
    "From the heatmap we see the following: \n",
    "- V10, V12, V14, V16 are much more negatively correlated compared to the other variables\n",
    "- V2, V4, V11 are more postively correlated compared to the other variable"
   ]
  },
  {
   "cell_type": "code",
   "execution_count": 36,
   "metadata": {},
   "outputs": [
    {
     "data": {
      "image/png": "[encoded data removed]",
      "text/plain": [
       "<Figure size 1728x288 with 4 Axes>"
      ]
     },
     "metadata": {
      "needs_background": "light"
     },
     "output_type": "display_data"
    }
   ],
   "source": [
    "cols = ['V10', 'V12', 'V14', 'V16']\n",
    "plt.figure(figsize = (24, 4))\n",
    "\n",
    "\n",
    "for column in cols:\n",
    "    index = cols.index(column)\n",
    "    plt.subplot(1, 4, index+1)\n",
    "    sns.boxplot(x=\"Class\", y=column, data = sample_data)\n",
    "plt.show()"
   ]
  },
  {
   "cell_type": "code",
   "execution_count": 37,
   "metadata": {},
   "outputs": [
    {
     "data": {
      "image/png": "[encoded data removed]",
      "text/plain": [
       "<Figure size 1728x288 with 3 Axes>"
      ]
     },
     "metadata": {
      "needs_background": "light"
     },
     "output_type": "display_data"
    }
   ],
   "source": [
    "cols = ['V2', 'V4', 'V11']\n",
    "plt.figure(figsize = (24, 4))\n",
    "\n",
    "\n",
    "for column in cols:\n",
    "    index = cols.index(column)\n",
    "    plt.subplot(1, 3, index+1)\n",
    "    sns.boxplot(x=\"Class\", y=column, data = sample_data)\n",
    "plt.show()"
   ]
  },
  {
   "cell_type": "markdown",
   "metadata": {},
   "source": [
    "We remove extreme outliers from the column and replace them with the median value of the column to keep the number of column the same. The outliers are detemined using the Interquartile range. If the values are smaller than $Q_1 - 1.5 \\times IQR$ or larger than $Q_3 + 1.5 \\times IQR$, we consider the point as an outlier. We also see that the negatively correlated variables have more outliers."
   ]
  },
  {
   "cell_type": "markdown",
   "metadata": {},
   "source": [
    "### Anomaly Detection using PCA"
   ]
  },
  {
   "cell_type": "code",
   "execution_count": 141,
   "metadata": {},
   "outputs": [],
   "source": [
    "from sklearn.decomposition import PCA"
   ]
  },
  {
   "cell_type": "code",
   "execution_count": 145,
   "metadata": {},
   "outputs": [],
   "source": [
    "pca_data = sample_data.drop(columns=['Time'])"
   ]
  },
  {
   "cell_type": "code",
   "execution_count": 146,
   "metadata": {},
   "outputs": [
    {
     "data": {
      "text/html": [
       "<div>\n",
       "<style scoped>\n",
       "    .dataframe tbody tr th:only-of-type {\n",
       "        vertical-align: middle;\n",
       "    }\n",
       "\n",
       "    .dataframe tbody tr th {\n",
       "        vertical-align: top;\n",
       "    }\n",
       "\n",
       "    .dataframe thead th {\n",
       "        text-align: right;\n",
       "    }\n",
       "</style>\n",
       "<table border=\"1\" class=\"dataframe\">\n",
       "  <thead>\n",
       "    <tr style=\"text-align: right;\">\n",
       "      <th></th>\n",
       "      <th>V1</th>\n",
       "      <th>V2</th>\n",
       "      <th>V3</th>\n",
       "      <th>V4</th>\n",
       "      <th>V5</th>\n",
       "      <th>V6</th>\n",
       "      <th>V7</th>\n",
       "      <th>V8</th>\n",
       "      <th>V9</th>\n",
       "      <th>V10</th>\n",
       "      <th>...</th>\n",
       "      <th>V21</th>\n",
       "      <th>V22</th>\n",
       "      <th>V23</th>\n",
       "      <th>V24</th>\n",
       "      <th>V25</th>\n",
       "      <th>V26</th>\n",
       "      <th>V27</th>\n",
       "      <th>V28</th>\n",
       "      <th>Amount</th>\n",
       "      <th>Class</th>\n",
       "    </tr>\n",
       "  </thead>\n",
       "  <tbody>\n",
       "    <tr>\n",
       "      <th>251866</th>\n",
       "      <td>0.711155</td>\n",
       "      <td>2.617105</td>\n",
       "      <td>-4.722363</td>\n",
       "      <td>5.842970</td>\n",
       "      <td>-0.600179</td>\n",
       "      <td>-1.646313</td>\n",
       "      <td>-2.785198</td>\n",
       "      <td>0.540368</td>\n",
       "      <td>-3.044029</td>\n",
       "      <td>-3.926510</td>\n",
       "      <td>...</td>\n",
       "      <td>0.360501</td>\n",
       "      <td>-0.865526</td>\n",
       "      <td>0.139978</td>\n",
       "      <td>-0.336238</td>\n",
       "      <td>0.128449</td>\n",
       "      <td>-0.155646</td>\n",
       "      <td>0.799460</td>\n",
       "      <td>0.392170</td>\n",
       "      <td>-0.449783</td>\n",
       "      <td>1</td>\n",
       "    </tr>\n",
       "    <tr>\n",
       "      <th>42528</th>\n",
       "      <td>-4.595617</td>\n",
       "      <td>5.083690</td>\n",
       "      <td>-7.581015</td>\n",
       "      <td>7.546033</td>\n",
       "      <td>-6.949165</td>\n",
       "      <td>-1.729185</td>\n",
       "      <td>-8.190192</td>\n",
       "      <td>2.714670</td>\n",
       "      <td>-7.083169</td>\n",
       "      <td>-11.141278</td>\n",
       "      <td>...</td>\n",
       "      <td>2.248971</td>\n",
       "      <td>0.566844</td>\n",
       "      <td>0.033744</td>\n",
       "      <td>0.591783</td>\n",
       "      <td>0.334229</td>\n",
       "      <td>0.386801</td>\n",
       "      <td>2.163898</td>\n",
       "      <td>0.983104</td>\n",
       "      <td>1.066515</td>\n",
       "      <td>1</td>\n",
       "    </tr>\n",
       "    <tr>\n",
       "      <th>125342</th>\n",
       "      <td>-7.139060</td>\n",
       "      <td>2.773082</td>\n",
       "      <td>-6.757845</td>\n",
       "      <td>4.446456</td>\n",
       "      <td>-5.464428</td>\n",
       "      <td>-1.713401</td>\n",
       "      <td>-6.485365</td>\n",
       "      <td>3.409395</td>\n",
       "      <td>-3.053493</td>\n",
       "      <td>-6.260706</td>\n",
       "      <td>...</td>\n",
       "      <td>1.303250</td>\n",
       "      <td>-0.016118</td>\n",
       "      <td>-0.876670</td>\n",
       "      <td>0.382230</td>\n",
       "      <td>-1.054624</td>\n",
       "      <td>-0.614606</td>\n",
       "      <td>-0.766848</td>\n",
       "      <td>0.409424</td>\n",
       "      <td>0.014745</td>\n",
       "      <td>1</td>\n",
       "    </tr>\n",
       "    <tr>\n",
       "      <th>6427</th>\n",
       "      <td>0.725646</td>\n",
       "      <td>2.300894</td>\n",
       "      <td>-5.329976</td>\n",
       "      <td>4.007683</td>\n",
       "      <td>-1.730411</td>\n",
       "      <td>-1.732193</td>\n",
       "      <td>-3.968593</td>\n",
       "      <td>1.063728</td>\n",
       "      <td>-0.486097</td>\n",
       "      <td>-4.624985</td>\n",
       "      <td>...</td>\n",
       "      <td>0.589669</td>\n",
       "      <td>0.109541</td>\n",
       "      <td>0.601045</td>\n",
       "      <td>-0.364700</td>\n",
       "      <td>-1.843078</td>\n",
       "      <td>0.351909</td>\n",
       "      <td>0.594550</td>\n",
       "      <td>0.099372</td>\n",
       "      <td>-0.462862</td>\n",
       "      <td>1</td>\n",
       "    </tr>\n",
       "    <tr>\n",
       "      <th>15736</th>\n",
       "      <td>-23.914101</td>\n",
       "      <td>13.765942</td>\n",
       "      <td>-25.733734</td>\n",
       "      <td>6.290918</td>\n",
       "      <td>-17.784824</td>\n",
       "      <td>-4.572498</td>\n",
       "      <td>-17.390764</td>\n",
       "      <td>15.794136</td>\n",
       "      <td>-3.819832</td>\n",
       "      <td>-8.442262</td>\n",
       "      <td>...</td>\n",
       "      <td>1.773399</td>\n",
       "      <td>-1.748426</td>\n",
       "      <td>-1.093104</td>\n",
       "      <td>0.147807</td>\n",
       "      <td>1.663792</td>\n",
       "      <td>-0.221024</td>\n",
       "      <td>1.458076</td>\n",
       "      <td>0.430315</td>\n",
       "      <td>-0.016419</td>\n",
       "      <td>1</td>\n",
       "    </tr>\n",
       "  </tbody>\n",
       "</table>\n",
       "<p>5 rows × 30 columns</p>\n",
       "</div>"
      ],
      "text/plain": [
       "               V1         V2         V3        V4         V5        V6  \\\n",
       "251866   0.711155   2.617105  -4.722363  5.842970  -0.600179 -1.646313   \n",
       "42528   -4.595617   5.083690  -7.581015  7.546033  -6.949165 -1.729185   \n",
       "125342  -7.139060   2.773082  -6.757845  4.446456  -5.464428 -1.713401   \n",
       "6427     0.725646   2.300894  -5.329976  4.007683  -1.730411 -1.732193   \n",
       "15736  -23.914101  13.765942 -25.733734  6.290918 -17.784824 -4.572498   \n",
       "\n",
       "               V7         V8        V9        V10  ...       V21       V22  \\\n",
       "251866  -2.785198   0.540368 -3.044029  -3.926510  ...  0.360501 -0.865526   \n",
       "42528   -8.190192   2.714670 -7.083169 -11.141278  ...  2.248971  0.566844   \n",
       "125342  -6.485365   3.409395 -3.053493  -6.260706  ...  1.303250 -0.016118   \n",
       "6427    -3.968593   1.063728 -0.486097  -4.624985  ...  0.589669  0.109541   \n",
       "15736  -17.390764  15.794136 -3.819832  -8.442262  ...  1.773399 -1.748426   \n",
       "\n",
       "             V23       V24       V25       V26       V27       V28    Amount  \\\n",
       "251866  0.139978 -0.336238  0.128449 -0.155646  0.799460  0.392170 -0.449783   \n",
       "42528   0.033744  0.591783  0.334229  0.386801  2.163898  0.983104  1.066515   \n",
       "125342 -0.876670  0.382230 -1.054624 -0.614606 -0.766848  0.409424  0.014745   \n",
       "6427    0.601045 -0.364700 -1.843078  0.351909  0.594550  0.099372 -0.462862   \n",
       "15736  -1.093104  0.147807  1.663792 -0.221024  1.458076  0.430315 -0.016419   \n",
       "\n",
       "        Class  \n",
       "251866      1  \n",
       "42528       1  \n",
       "125342      1  \n",
       "6427        1  \n",
       "15736       1  \n",
       "\n",
       "[5 rows x 30 columns]"
      ]
     },
     "execution_count": 146,
     "metadata": {},
     "output_type": "execute_result"
    }
   ],
   "source": [
    "pca_data['Amount'] = (pca_data['Amount'] - pca_data['Amount'].mean()) / pca_data['Amount'].std()\n",
    "pca_data.head()"
   ]
  },
  {
   "cell_type": "code",
   "execution_count": 154,
   "metadata": {},
   "outputs": [],
   "source": [
    "pca = PCA(n_components = 9)\n",
    "pca_reduced = pca.fit_transform(pca_data)"
   ]
  },
  {
   "cell_type": "code",
   "execution_count": 156,
   "metadata": {},
   "outputs": [
    {
     "name": "stdout",
     "output_type": "stream",
     "text": [
      "Number of component: 9\n"
     ]
    }
   ],
   "source": [
    "print(\"Number of component:\", len(pca_reduced[0]))"
   ]
  },
  {
   "cell_type": "code",
   "execution_count": 170,
   "metadata": {},
   "outputs": [
    {
     "name": "stdout",
     "output_type": "stream",
     "text": [
      "V1        0.071363\n",
      "V2        0.150443\n",
      "V3        0.372486\n",
      "V4        0.162832\n",
      "V5        0.450324\n",
      "V6        0.988123\n",
      "V7        0.436412\n",
      "V8        0.115796\n",
      "V9        1.065815\n",
      "V10       0.700522\n",
      "V11       0.893480\n",
      "V12       0.982897\n",
      "V13       1.004871\n",
      "V14       0.528781\n",
      "V15       0.862149\n",
      "V16       0.590318\n",
      "V17       0.414596\n",
      "V18       0.471075\n",
      "V19       0.852222\n",
      "V20       0.584937\n",
      "V21       0.241490\n",
      "V22       0.420447\n",
      "V23       1.004826\n",
      "V24       0.288033\n",
      "V25       0.356356\n",
      "V26       0.221720\n",
      "V27       0.668342\n",
      "V28       0.436739\n",
      "Amount    0.285723\n",
      "Class     0.096361\n",
      "dtype: float64\n"
     ]
    }
   ],
   "source": [
    "pca_reconstructed = pca.inverse_transform(pca_reduced)\n",
    "mse = np.square(pca_reconstructed - pca_data).mean()\n",
    "print(mse)"
   ]
  },
  {
   "cell_type": "markdown",
   "metadata": {},
   "source": [
    "Since the reconstruction errors are relatively high, we can see that anomalies exists throughout the data."
   ]
  },
  {
   "cell_type": "markdown",
   "metadata": {},
   "source": [
    "### Anomaly Detection using Gaussian Mixture"
   ]
  },
  {
   "cell_type": "code",
   "execution_count": 157,
   "metadata": {},
   "outputs": [],
   "source": [
    "from sklearn.mixture import GaussianMixture"
   ]
  },
  {
   "cell_type": "code",
   "execution_count": 159,
   "metadata": {},
   "outputs": [
    {
     "data": {
      "text/plain": [
       "GaussianMixture(covariance_type='full', init_params='kmeans', max_iter=100,\n",
       "                means_init=None, n_components=2, n_init=10,\n",
       "                precisions_init=None, random_state=None, reg_covar=1e-06,\n",
       "                tol=0.001, verbose=0, verbose_interval=10, warm_start=False,\n",
       "                weights_init=None)"
      ]
     },
     "execution_count": 159,
     "metadata": {},
     "output_type": "execute_result"
    }
   ],
   "source": [
    "gm = GaussianMixture(n_components=2, n_init=10)\n",
    "gm.fit(sample_data)"
   ]
  },
  {
   "cell_type": "code",
   "execution_count": 161,
   "metadata": {},
   "outputs": [],
   "source": [
    "densities = gm.score_samples(sample_data)\n",
    "density_threshold = np.percentile(densities, 5)\n",
    "anomalies = sample_data[densities < density_threshold]"
   ]
  },
  {
   "cell_type": "code",
   "execution_count": 166,
   "metadata": {},
   "outputs": [
    {
     "name": "stdout",
     "output_type": "stream",
     "text": [
      "Index of anomalies: Int64Index([180930, 274382, 258264, 176049, 220215, 268698, 258403, 272521,\n",
      "             76573, 274958,  82400,  33062, 100489, 233258,  10690, 181498,\n",
      "            157918,  88628, 173735, 154286, 178405,  89190, 190471,  39769,\n",
      "            212644, 154587,   6971, 158591, 247673, 119714, 255923, 123326,\n",
      "            249607, 252805, 136965, 154684,  33276, 151601, 279762,  92264,\n",
      "              2457,  47084, 101509,  38223,  83297],\n",
      "           dtype='int64')\n"
     ]
    }
   ],
   "source": [
    "print(\"Index of anomalies:\", anomalies.index)"
   ]
  },
  {
   "cell_type": "code",
   "execution_count": 168,
   "metadata": {},
   "outputs": [
    {
     "name": "stdout",
     "output_type": "stream",
     "text": [
      "<class 'pandas.core.frame.DataFrame'>\n",
      "Int64Index: 939 entries, 251866 to 151103\n",
      "Data columns (total 31 columns):\n",
      "Time      939 non-null float64\n",
      "V1        939 non-null float64\n",
      "V2        939 non-null float64\n",
      "V3        939 non-null float64\n",
      "V4        939 non-null float64\n",
      "V5        939 non-null float64\n",
      "V6        939 non-null float64\n",
      "V7        939 non-null float64\n",
      "V8        939 non-null float64\n",
      "V9        939 non-null float64\n",
      "V10       939 non-null float64\n",
      "V11       939 non-null float64\n",
      "V12       939 non-null float64\n",
      "V13       939 non-null float64\n",
      "V14       939 non-null float64\n",
      "V15       939 non-null float64\n",
      "V16       939 non-null float64\n",
      "V17       939 non-null float64\n",
      "V18       939 non-null float64\n",
      "V19       939 non-null float64\n",
      "V20       939 non-null float64\n",
      "V21       939 non-null float64\n",
      "V22       939 non-null float64\n",
      "V23       939 non-null float64\n",
      "V24       939 non-null float64\n",
      "V25       939 non-null float64\n",
      "V26       939 non-null float64\n",
      "V27       939 non-null float64\n",
      "V28       939 non-null float64\n",
      "Amount    939 non-null float64\n",
      "Class     939 non-null int64\n",
      "dtypes: float64(30), int64(1)\n",
      "memory usage: 234.8 KB\n"
     ]
    }
   ],
   "source": [
    "gm_data = sample_data.drop(anomalies.index)\n",
    "\n",
    "# check to see if columns were dropped\n",
    "gm_data.info()"
   ]
  },
  {
   "cell_type": "markdown",
   "metadata": {},
   "source": [
    "### Anomaly Detection using Fast-MCD"
   ]
  },
  {
   "cell_type": "code",
   "execution_count": 172,
   "metadata": {},
   "outputs": [],
   "source": [
    "from sklearn.covariance import EllipticEnvelope"
   ]
  },
  {
   "cell_type": "code",
   "execution_count": 181,
   "metadata": {},
   "outputs": [],
   "source": [
    "ee = EllipticEnvelope(support_fraction=0.7)\n",
    "ee.fit(sample_data)\n",
    "anomaly_ee = ee.score_samples(sample_data)"
   ]
  },
  {
   "cell_type": "code",
   "execution_count": 182,
   "metadata": {},
   "outputs": [
    {
     "data": {
      "image/png": "[encoded data removed]",
      "text/plain": [
       "<Figure size 432x288 with 1 Axes>"
      ]
     },
     "metadata": {
      "needs_background": "light"
     },
     "output_type": "display_data"
    }
   ],
   "source": [
    "plt.scatter(sample_data.index, anomaly_ee)\n",
    "plt.show()"
   ]
  },
  {
   "cell_type": "code",
   "execution_count": 195,
   "metadata": {},
   "outputs": [],
   "source": [
    "# set threshold\n",
    "distance_threshold = -0.5e+7\n",
    "anomalies_ee = sample_data[anomaly_ee < distance_threshold]"
   ]
  },
  {
   "cell_type": "code",
   "execution_count": 197,
   "metadata": {},
   "outputs": [
    {
     "name": "stdout",
     "output_type": "stream",
     "text": [
      "<class 'pandas.core.frame.DataFrame'>\n",
      "Int64Index: 962 entries, 251866 to 151103\n",
      "Data columns (total 31 columns):\n",
      "Time      962 non-null float64\n",
      "V1        962 non-null float64\n",
      "V2        962 non-null float64\n",
      "V3        962 non-null float64\n",
      "V4        962 non-null float64\n",
      "V5        962 non-null float64\n",
      "V6        962 non-null float64\n",
      "V7        962 non-null float64\n",
      "V8        962 non-null float64\n",
      "V9        962 non-null float64\n",
      "V10       962 non-null float64\n",
      "V11       962 non-null float64\n",
      "V12       962 non-null float64\n",
      "V13       962 non-null float64\n",
      "V14       962 non-null float64\n",
      "V15       962 non-null float64\n",
      "V16       962 non-null float64\n",
      "V17       962 non-null float64\n",
      "V18       962 non-null float64\n",
      "V19       962 non-null float64\n",
      "V20       962 non-null float64\n",
      "V21       962 non-null float64\n",
      "V22       962 non-null float64\n",
      "V23       962 non-null float64\n",
      "V24       962 non-null float64\n",
      "V25       962 non-null float64\n",
      "V26       962 non-null float64\n",
      "V27       962 non-null float64\n",
      "V28       962 non-null float64\n",
      "Amount    962 non-null float64\n",
      "Class     962 non-null int64\n",
      "dtypes: float64(30), int64(1)\n",
      "memory usage: 240.5 KB\n"
     ]
    }
   ],
   "source": [
    "mcd_data = sample_data.drop(anomalies_ee.index)\n",
    "mcd_data.info()"
   ]
  },
  {
   "cell_type": "markdown",
   "metadata": {},
   "source": [
    "## Select and Train a model"
   ]
  },
  {
   "cell_type": "code",
   "execution_count": 199,
   "metadata": {},
   "outputs": [],
   "source": [
    "from sklearn.linear_model import LogisticRegression\n",
    "from sklearn.ensemble import RandomForestClassifier, AdaBoostClassifier, GradientBoostingClassifier\n",
    "from sklearn.neighbors import KNeighborsClassifier\n",
    "from sklearn.cluster import KMeans\n",
    "from sklearn.svm import SVC"
   ]
  },
  {
   "cell_type": "code",
   "execution_count": 200,
   "metadata": {},
   "outputs": [],
   "source": [
    "from sklearn.model_selection import train_test_split"
   ]
  },
  {
   "cell_type": "code",
   "execution_count": 203,
   "metadata": {},
   "outputs": [],
   "source": [
    "# standarize Amount Column for both table\n",
    "gm_data['Amount'] = (gm_data['Amount'] - gm_data['Amount'].mean()) / gm_data['Amount'].std()\n",
    "mcd_data['Amount'] = (mcd_data['Amount'] - mcd_data['Amount'].mean()) / mcd_data['Amount'].std()"
   ]
  },
  {
   "cell_type": "code",
   "execution_count": 204,
   "metadata": {},
   "outputs": [],
   "source": [
    "# drop Time column\n",
    "gm_data = gm_data.drop(columns=['Time'])\n",
    "mcd_data = mcd_data.drop(columns=['Time'])"
   ]
  },
  {
   "cell_type": "code",
   "execution_count": 205,
   "metadata": {},
   "outputs": [
    {
     "data": {
      "text/html": [
       "<div>\n",
       "<style scoped>\n",
       "    .dataframe tbody tr th:only-of-type {\n",
       "        vertical-align: middle;\n",
       "    }\n",
       "\n",
       "    .dataframe tbody tr th {\n",
       "        vertical-align: top;\n",
       "    }\n",
       "\n",
       "    .dataframe thead th {\n",
       "        text-align: right;\n",
       "    }\n",
       "</style>\n",
       "<table border=\"1\" class=\"dataframe\">\n",
       "  <thead>\n",
       "    <tr style=\"text-align: right;\">\n",
       "      <th></th>\n",
       "      <th>V1</th>\n",
       "      <th>V2</th>\n",
       "      <th>V3</th>\n",
       "      <th>V4</th>\n",
       "      <th>V5</th>\n",
       "      <th>V6</th>\n",
       "      <th>V7</th>\n",
       "      <th>V8</th>\n",
       "      <th>V9</th>\n",
       "      <th>V10</th>\n",
       "      <th>...</th>\n",
       "      <th>V21</th>\n",
       "      <th>V22</th>\n",
       "      <th>V23</th>\n",
       "      <th>V24</th>\n",
       "      <th>V25</th>\n",
       "      <th>V26</th>\n",
       "      <th>V27</th>\n",
       "      <th>V28</th>\n",
       "      <th>Amount</th>\n",
       "      <th>Class</th>\n",
       "    </tr>\n",
       "  </thead>\n",
       "  <tbody>\n",
       "    <tr>\n",
       "      <th>251866</th>\n",
       "      <td>0.711155</td>\n",
       "      <td>2.617105</td>\n",
       "      <td>-4.722363</td>\n",
       "      <td>5.842970</td>\n",
       "      <td>-0.600179</td>\n",
       "      <td>-1.646313</td>\n",
       "      <td>-2.785198</td>\n",
       "      <td>0.540368</td>\n",
       "      <td>-3.044029</td>\n",
       "      <td>-3.926510</td>\n",
       "      <td>...</td>\n",
       "      <td>0.360501</td>\n",
       "      <td>-0.865526</td>\n",
       "      <td>0.139978</td>\n",
       "      <td>-0.336238</td>\n",
       "      <td>0.128449</td>\n",
       "      <td>-0.155646</td>\n",
       "      <td>0.799460</td>\n",
       "      <td>0.392170</td>\n",
       "      <td>-0.476359</td>\n",
       "      <td>1</td>\n",
       "    </tr>\n",
       "    <tr>\n",
       "      <th>42528</th>\n",
       "      <td>-4.595617</td>\n",
       "      <td>5.083690</td>\n",
       "      <td>-7.581015</td>\n",
       "      <td>7.546033</td>\n",
       "      <td>-6.949165</td>\n",
       "      <td>-1.729185</td>\n",
       "      <td>-8.190192</td>\n",
       "      <td>2.714670</td>\n",
       "      <td>-7.083169</td>\n",
       "      <td>-11.141278</td>\n",
       "      <td>...</td>\n",
       "      <td>2.248971</td>\n",
       "      <td>0.566844</td>\n",
       "      <td>0.033744</td>\n",
       "      <td>0.591783</td>\n",
       "      <td>0.334229</td>\n",
       "      <td>0.386801</td>\n",
       "      <td>2.163898</td>\n",
       "      <td>0.983104</td>\n",
       "      <td>1.392728</td>\n",
       "      <td>1</td>\n",
       "    </tr>\n",
       "    <tr>\n",
       "      <th>125342</th>\n",
       "      <td>-7.139060</td>\n",
       "      <td>2.773082</td>\n",
       "      <td>-6.757845</td>\n",
       "      <td>4.446456</td>\n",
       "      <td>-5.464428</td>\n",
       "      <td>-1.713401</td>\n",
       "      <td>-6.485365</td>\n",
       "      <td>3.409395</td>\n",
       "      <td>-3.053493</td>\n",
       "      <td>-6.260706</td>\n",
       "      <td>...</td>\n",
       "      <td>1.303250</td>\n",
       "      <td>-0.016118</td>\n",
       "      <td>-0.876670</td>\n",
       "      <td>0.382230</td>\n",
       "      <td>-1.054624</td>\n",
       "      <td>-0.614606</td>\n",
       "      <td>-0.766848</td>\n",
       "      <td>0.409424</td>\n",
       "      <td>0.096247</td>\n",
       "      <td>1</td>\n",
       "    </tr>\n",
       "    <tr>\n",
       "      <th>6427</th>\n",
       "      <td>0.725646</td>\n",
       "      <td>2.300894</td>\n",
       "      <td>-5.329976</td>\n",
       "      <td>4.007683</td>\n",
       "      <td>-1.730411</td>\n",
       "      <td>-1.732193</td>\n",
       "      <td>-3.968593</td>\n",
       "      <td>1.063728</td>\n",
       "      <td>-0.486097</td>\n",
       "      <td>-4.624985</td>\n",
       "      <td>...</td>\n",
       "      <td>0.589669</td>\n",
       "      <td>0.109541</td>\n",
       "      <td>0.601045</td>\n",
       "      <td>-0.364700</td>\n",
       "      <td>-1.843078</td>\n",
       "      <td>0.351909</td>\n",
       "      <td>0.594550</td>\n",
       "      <td>0.099372</td>\n",
       "      <td>-0.492481</td>\n",
       "      <td>1</td>\n",
       "    </tr>\n",
       "    <tr>\n",
       "      <th>15736</th>\n",
       "      <td>-23.914101</td>\n",
       "      <td>13.765942</td>\n",
       "      <td>-25.733734</td>\n",
       "      <td>6.290918</td>\n",
       "      <td>-17.784824</td>\n",
       "      <td>-4.572498</td>\n",
       "      <td>-17.390764</td>\n",
       "      <td>15.794136</td>\n",
       "      <td>-3.819832</td>\n",
       "      <td>-8.442262</td>\n",
       "      <td>...</td>\n",
       "      <td>1.773399</td>\n",
       "      <td>-1.748426</td>\n",
       "      <td>-1.093104</td>\n",
       "      <td>0.147807</td>\n",
       "      <td>1.663792</td>\n",
       "      <td>-0.221024</td>\n",
       "      <td>1.458076</td>\n",
       "      <td>0.430315</td>\n",
       "      <td>0.057833</td>\n",
       "      <td>1</td>\n",
       "    </tr>\n",
       "  </tbody>\n",
       "</table>\n",
       "<p>5 rows × 30 columns</p>\n",
       "</div>"
      ],
      "text/plain": [
       "               V1         V2         V3        V4         V5        V6  \\\n",
       "251866   0.711155   2.617105  -4.722363  5.842970  -0.600179 -1.646313   \n",
       "42528   -4.595617   5.083690  -7.581015  7.546033  -6.949165 -1.729185   \n",
       "125342  -7.139060   2.773082  -6.757845  4.446456  -5.464428 -1.713401   \n",
       "6427     0.725646   2.300894  -5.329976  4.007683  -1.730411 -1.732193   \n",
       "15736  -23.914101  13.765942 -25.733734  6.290918 -17.784824 -4.572498   \n",
       "\n",
       "               V7         V8        V9        V10  ...       V21       V22  \\\n",
       "251866  -2.785198   0.540368 -3.044029  -3.926510  ...  0.360501 -0.865526   \n",
       "42528   -8.190192   2.714670 -7.083169 -11.141278  ...  2.248971  0.566844   \n",
       "125342  -6.485365   3.409395 -3.053493  -6.260706  ...  1.303250 -0.016118   \n",
       "6427    -3.968593   1.063728 -0.486097  -4.624985  ...  0.589669  0.109541   \n",
       "15736  -17.390764  15.794136 -3.819832  -8.442262  ...  1.773399 -1.748426   \n",
       "\n",
       "             V23       V24       V25       V26       V27       V28    Amount  \\\n",
       "251866  0.139978 -0.336238  0.128449 -0.155646  0.799460  0.392170 -0.476359   \n",
       "42528   0.033744  0.591783  0.334229  0.386801  2.163898  0.983104  1.392728   \n",
       "125342 -0.876670  0.382230 -1.054624 -0.614606 -0.766848  0.409424  0.096247   \n",
       "6427    0.601045 -0.364700 -1.843078  0.351909  0.594550  0.099372 -0.492481   \n",
       "15736  -1.093104  0.147807  1.663792 -0.221024  1.458076  0.430315  0.057833   \n",
       "\n",
       "        Class  \n",
       "251866      1  \n",
       "42528       1  \n",
       "125342      1  \n",
       "6427        1  \n",
       "15736       1  \n",
       "\n",
       "[5 rows x 30 columns]"
      ]
     },
     "execution_count": 205,
     "metadata": {},
     "output_type": "execute_result"
    }
   ],
   "source": [
    "gm_data.head()"
   ]
  },
  {
   "cell_type": "code",
   "execution_count": 206,
   "metadata": {},
   "outputs": [
    {
     "data": {
      "text/html": [
       "<div>\n",
       "<style scoped>\n",
       "    .dataframe tbody tr th:only-of-type {\n",
       "        vertical-align: middle;\n",
       "    }\n",
       "\n",
       "    .dataframe tbody tr th {\n",
       "        vertical-align: top;\n",
       "    }\n",
       "\n",
       "    .dataframe thead th {\n",
       "        text-align: right;\n",
       "    }\n",
       "</style>\n",
       "<table border=\"1\" class=\"dataframe\">\n",
       "  <thead>\n",
       "    <tr style=\"text-align: right;\">\n",
       "      <th></th>\n",
       "      <th>V1</th>\n",
       "      <th>V2</th>\n",
       "      <th>V3</th>\n",
       "      <th>V4</th>\n",
       "      <th>V5</th>\n",
       "      <th>V6</th>\n",
       "      <th>V7</th>\n",
       "      <th>V8</th>\n",
       "      <th>V9</th>\n",
       "      <th>V10</th>\n",
       "      <th>...</th>\n",
       "      <th>V21</th>\n",
       "      <th>V22</th>\n",
       "      <th>V23</th>\n",
       "      <th>V24</th>\n",
       "      <th>V25</th>\n",
       "      <th>V26</th>\n",
       "      <th>V27</th>\n",
       "      <th>V28</th>\n",
       "      <th>Amount</th>\n",
       "      <th>Class</th>\n",
       "    </tr>\n",
       "  </thead>\n",
       "  <tbody>\n",
       "    <tr>\n",
       "      <th>251866</th>\n",
       "      <td>0.711155</td>\n",
       "      <td>2.617105</td>\n",
       "      <td>-4.722363</td>\n",
       "      <td>5.842970</td>\n",
       "      <td>-0.600179</td>\n",
       "      <td>-1.646313</td>\n",
       "      <td>-2.785198</td>\n",
       "      <td>0.540368</td>\n",
       "      <td>-3.044029</td>\n",
       "      <td>-3.926510</td>\n",
       "      <td>...</td>\n",
       "      <td>0.360501</td>\n",
       "      <td>-0.865526</td>\n",
       "      <td>0.139978</td>\n",
       "      <td>-0.336238</td>\n",
       "      <td>0.128449</td>\n",
       "      <td>-0.155646</td>\n",
       "      <td>0.799460</td>\n",
       "      <td>0.392170</td>\n",
       "      <td>-0.456248</td>\n",
       "      <td>1</td>\n",
       "    </tr>\n",
       "    <tr>\n",
       "      <th>42528</th>\n",
       "      <td>-4.595617</td>\n",
       "      <td>5.083690</td>\n",
       "      <td>-7.581015</td>\n",
       "      <td>7.546033</td>\n",
       "      <td>-6.949165</td>\n",
       "      <td>-1.729185</td>\n",
       "      <td>-8.190192</td>\n",
       "      <td>2.714670</td>\n",
       "      <td>-7.083169</td>\n",
       "      <td>-11.141278</td>\n",
       "      <td>...</td>\n",
       "      <td>2.248971</td>\n",
       "      <td>0.566844</td>\n",
       "      <td>0.033744</td>\n",
       "      <td>0.591783</td>\n",
       "      <td>0.334229</td>\n",
       "      <td>0.386801</td>\n",
       "      <td>2.163898</td>\n",
       "      <td>0.983104</td>\n",
       "      <td>1.065550</td>\n",
       "      <td>1</td>\n",
       "    </tr>\n",
       "    <tr>\n",
       "      <th>125342</th>\n",
       "      <td>-7.139060</td>\n",
       "      <td>2.773082</td>\n",
       "      <td>-6.757845</td>\n",
       "      <td>4.446456</td>\n",
       "      <td>-5.464428</td>\n",
       "      <td>-1.713401</td>\n",
       "      <td>-6.485365</td>\n",
       "      <td>3.409395</td>\n",
       "      <td>-3.053493</td>\n",
       "      <td>-6.260706</td>\n",
       "      <td>...</td>\n",
       "      <td>1.303250</td>\n",
       "      <td>-0.016118</td>\n",
       "      <td>-0.876670</td>\n",
       "      <td>0.382230</td>\n",
       "      <td>-1.054624</td>\n",
       "      <td>-0.614606</td>\n",
       "      <td>-0.766848</td>\n",
       "      <td>0.409424</td>\n",
       "      <td>0.009964</td>\n",
       "      <td>1</td>\n",
       "    </tr>\n",
       "    <tr>\n",
       "      <th>6427</th>\n",
       "      <td>0.725646</td>\n",
       "      <td>2.300894</td>\n",
       "      <td>-5.329976</td>\n",
       "      <td>4.007683</td>\n",
       "      <td>-1.730411</td>\n",
       "      <td>-1.732193</td>\n",
       "      <td>-3.968593</td>\n",
       "      <td>1.063728</td>\n",
       "      <td>-0.486097</td>\n",
       "      <td>-4.624985</td>\n",
       "      <td>...</td>\n",
       "      <td>0.589669</td>\n",
       "      <td>0.109541</td>\n",
       "      <td>0.601045</td>\n",
       "      <td>-0.364700</td>\n",
       "      <td>-1.843078</td>\n",
       "      <td>0.351909</td>\n",
       "      <td>0.594550</td>\n",
       "      <td>0.099372</td>\n",
       "      <td>-0.469375</td>\n",
       "      <td>1</td>\n",
       "    </tr>\n",
       "    <tr>\n",
       "      <th>15736</th>\n",
       "      <td>-23.914101</td>\n",
       "      <td>13.765942</td>\n",
       "      <td>-25.733734</td>\n",
       "      <td>6.290918</td>\n",
       "      <td>-17.784824</td>\n",
       "      <td>-4.572498</td>\n",
       "      <td>-17.390764</td>\n",
       "      <td>15.794136</td>\n",
       "      <td>-3.819832</td>\n",
       "      <td>-8.442262</td>\n",
       "      <td>...</td>\n",
       "      <td>1.773399</td>\n",
       "      <td>-1.748426</td>\n",
       "      <td>-1.093104</td>\n",
       "      <td>0.147807</td>\n",
       "      <td>1.663792</td>\n",
       "      <td>-0.221024</td>\n",
       "      <td>1.458076</td>\n",
       "      <td>0.430315</td>\n",
       "      <td>-0.021313</td>\n",
       "      <td>1</td>\n",
       "    </tr>\n",
       "  </tbody>\n",
       "</table>\n",
       "<p>5 rows × 30 columns</p>\n",
       "</div>"
      ],
      "text/plain": [
       "               V1         V2         V3        V4         V5        V6  \\\n",
       "251866   0.711155   2.617105  -4.722363  5.842970  -0.600179 -1.646313   \n",
       "42528   -4.595617   5.083690  -7.581015  7.546033  -6.949165 -1.729185   \n",
       "125342  -7.139060   2.773082  -6.757845  4.446456  -5.464428 -1.713401   \n",
       "6427     0.725646   2.300894  -5.329976  4.007683  -1.730411 -1.732193   \n",
       "15736  -23.914101  13.765942 -25.733734  6.290918 -17.784824 -4.572498   \n",
       "\n",
       "               V7         V8        V9        V10  ...       V21       V22  \\\n",
       "251866  -2.785198   0.540368 -3.044029  -3.926510  ...  0.360501 -0.865526   \n",
       "42528   -8.190192   2.714670 -7.083169 -11.141278  ...  2.248971  0.566844   \n",
       "125342  -6.485365   3.409395 -3.053493  -6.260706  ...  1.303250 -0.016118   \n",
       "6427    -3.968593   1.063728 -0.486097  -4.624985  ...  0.589669  0.109541   \n",
       "15736  -17.390764  15.794136 -3.819832  -8.442262  ...  1.773399 -1.748426   \n",
       "\n",
       "             V23       V24       V25       V26       V27       V28    Amount  \\\n",
       "251866  0.139978 -0.336238  0.128449 -0.155646  0.799460  0.392170 -0.456248   \n",
       "42528   0.033744  0.591783  0.334229  0.386801  2.163898  0.983104  1.065550   \n",
       "125342 -0.876670  0.382230 -1.054624 -0.614606 -0.766848  0.409424  0.009964   \n",
       "6427    0.601045 -0.364700 -1.843078  0.351909  0.594550  0.099372 -0.469375   \n",
       "15736  -1.093104  0.147807  1.663792 -0.221024  1.458076  0.430315 -0.021313   \n",
       "\n",
       "        Class  \n",
       "251866      1  \n",
       "42528       1  \n",
       "125342      1  \n",
       "6427        1  \n",
       "15736       1  \n",
       "\n",
       "[5 rows x 30 columns]"
      ]
     },
     "execution_count": 206,
     "metadata": {},
     "output_type": "execute_result"
    }
   ],
   "source": [
    "mcd_data.head()"
   ]
  },
  {
   "cell_type": "code",
   "execution_count": 210,
   "metadata": {},
   "outputs": [],
   "source": [
    "X_train, X_valid, y_train, y_valid = train_test_split(gm_data.loc[:, gm_data.columns != \"Class\"], \n",
    "                                                     gm_data[['Class']], test_size=0.2)"
   ]
  },
  {
   "cell_type": "code",
   "execution_count": 213,
   "metadata": {},
   "outputs": [],
   "source": [
    "from sklearn.metrics import accuracy_score, confusion_matrix, roc_auc_score"
   ]
  },
  {
   "cell_type": "markdown",
   "metadata": {},
   "source": [
    "### Train with Gaussian Mixture data"
   ]
  },
  {
   "cell_type": "code",
   "execution_count": 216,
   "metadata": {},
   "outputs": [
    {
     "name": "stdout",
     "output_type": "stream",
     "text": [
      "Accuracy Score: 0.9468085106382979\n",
      "Area under ROC: 0.9445964432284542\n",
      "Confusion Matrix: [[99  3]\n",
      " [ 7 79]]\n"
     ]
    }
   ],
   "source": [
    "# Logistic Regression\n",
    "model = LogisticRegression().fit(X_train, y_train.values.ravel())\n",
    "predict = model.predict(X_valid)\n",
    "print(\"Accuracy Score:\", accuracy_score(y_valid, predict))\n",
    "print(\"Area under ROC:\", roc_auc_score(y_valid, predict))\n",
    "print(\"Confusion Matrix:\", confusion_matrix(y_valid, predict))"
   ]
  },
  {
   "cell_type": "code",
   "execution_count": 217,
   "metadata": {},
   "outputs": [
    {
     "name": "stdout",
     "output_type": "stream",
     "text": [
      "Accuracy Score: 0.9627659574468085\n",
      "Area under ROC: 0.9602143182854537\n",
      "Confusion Matrix: [[101   1]\n",
      " [  6  80]]\n"
     ]
    }
   ],
   "source": [
    "# RandomForestClassifier\n",
    "model = RandomForestClassifier().fit(X_train, y_train.values.ravel())\n",
    "predict = model.predict(X_valid)\n",
    "print(\"Accuracy Score:\", accuracy_score(y_valid, predict))\n",
    "print(\"Area under ROC:\", roc_auc_score(y_valid, predict))\n",
    "print(\"Confusion Matrix:\", confusion_matrix(y_valid, predict))"
   ]
  },
  {
   "cell_type": "code",
   "execution_count": 218,
   "metadata": {},
   "outputs": [
    {
     "name": "stdout",
     "output_type": "stream",
     "text": [
      "Accuracy Score: 0.9521276595744681\n",
      "Area under ROC: 0.9522343821249429\n",
      "Confusion Matrix: [[97  5]\n",
      " [ 4 82]]\n"
     ]
    }
   ],
   "source": [
    "# AdaBoostClassifier\n",
    "model = AdaBoostClassifier().fit(X_train, y_train.values.ravel())\n",
    "predict = model.predict(X_valid)\n",
    "print(\"Accuracy Score:\", accuracy_score(y_valid, predict))\n",
    "print(\"Area under ROC:\", roc_auc_score(y_valid, predict))\n",
    "print(\"Confusion Matrix:\", confusion_matrix(y_valid, predict))"
   ]
  },
  {
   "cell_type": "code",
   "execution_count": 219,
   "metadata": {},
   "outputs": [
    {
     "name": "stdout",
     "output_type": "stream",
     "text": [
      "Accuracy Score: 0.9627659574468085\n",
      "Area under ROC: 0.961126310989512\n",
      "Confusion Matrix: [[100   2]\n",
      " [  5  81]]\n"
     ]
    }
   ],
   "source": [
    "# GradientBoostingClassifier\n",
    "model = GradientBoostingClassifier().fit(X_train, y_train.values.ravel())\n",
    "predict = model.predict(X_valid)\n",
    "print(\"Accuracy Score:\", accuracy_score(y_valid, predict))\n",
    "print(\"Area under ROC:\", roc_auc_score(y_valid, predict))\n",
    "print(\"Confusion Matrix:\", confusion_matrix(y_valid, predict))"
   ]
  },
  {
   "cell_type": "code",
   "execution_count": 220,
   "metadata": {},
   "outputs": [
    {
     "name": "stdout",
     "output_type": "stream",
     "text": [
      "Accuracy Score: 0.9521276595744681\n",
      "Area under ROC: 0.9485864113087095\n",
      "Confusion Matrix: [[101   1]\n",
      " [  8  78]]\n"
     ]
    }
   ],
   "source": [
    "# KNeighborsClassifier\n",
    "model = KNeighborsClassifier(n_neighbors=2).fit(X_train, y_train.values.ravel())\n",
    "predict = model.predict(X_valid)\n",
    "print(\"Accuracy Score:\", accuracy_score(y_valid, predict))\n",
    "print(\"Area under ROC:\", roc_auc_score(y_valid, predict))\n",
    "print(\"Confusion Matrix:\", confusion_matrix(y_valid, predict))"
   ]
  },
  {
   "cell_type": "code",
   "execution_count": 223,
   "metadata": {},
   "outputs": [
    {
     "name": "stdout",
     "output_type": "stream",
     "text": [
      "Accuracy Score: 0.7021276595744681\n",
      "Area under ROC: 0.6753305973552212\n",
      "Confusion Matrix: [[101   1]\n",
      " [ 55  31]]\n"
     ]
    }
   ],
   "source": [
    "# KMeans\n",
    "model = KMeans(n_clusters=2).fit(X_train, y_train.values.ravel())\n",
    "predict = model.predict(X_valid)\n",
    "print(\"Accuracy Score:\", accuracy_score(y_valid, predict))\n",
    "print(\"Area under ROC:\", roc_auc_score(y_valid, predict))\n",
    "print(\"Confusion Matrix:\", confusion_matrix(y_valid, predict))"
   ]
  },
  {
   "cell_type": "code",
   "execution_count": 225,
   "metadata": {},
   "outputs": [
    {
     "name": "stdout",
     "output_type": "stream",
     "text": [
      "Accuracy Score: 0.9521276595744681\n",
      "Area under ROC: 0.9485864113087095\n",
      "Confusion Matrix: [[101   1]\n",
      " [  8  78]]\n"
     ]
    }
   ],
   "source": [
    "# SVC\n",
    "model = SVC().fit(X_train, y_train.values.ravel())\n",
    "predict = model.predict(X_valid)\n",
    "print(\"Accuracy Score:\", accuracy_score(y_valid, predict))\n",
    "print(\"Area under ROC:\", roc_auc_score(y_valid, predict))\n",
    "print(\"Confusion Matrix:\", confusion_matrix(y_valid, predict))"
   ]
  },
  {
   "cell_type": "markdown",
   "metadata": {},
   "source": [
    "#### Neural Networks"
   ]
  },
  {
   "cell_type": "code",
   "execution_count": 226,
   "metadata": {},
   "outputs": [],
   "source": [
    "import tensorflow as tf\n",
    "from tensorflow import keras"
   ]
  },
  {
   "cell_type": "code",
   "execution_count": 228,
   "metadata": {},
   "outputs": [
    {
     "name": "stdout",
     "output_type": "stream",
     "text": [
      "Epoch 1/100\n",
      "24/24 [==============================] - 0s 7ms/step - loss: 0.5453 - accuracy: 0.7364 - val_loss: 0.6535 - val_accuracy: 0.5319\n",
      "Epoch 2/100\n",
      "24/24 [==============================] - 0s 2ms/step - loss: 0.3359 - accuracy: 0.8589 - val_loss: 0.4175 - val_accuracy: 0.8936\n",
      "Epoch 3/100\n",
      "24/24 [==============================] - 0s 2ms/step - loss: 0.2874 - accuracy: 0.8881 - val_loss: 0.3098 - val_accuracy: 0.9628\n",
      "Epoch 4/100\n",
      "24/24 [==============================] - 0s 3ms/step - loss: 0.2298 - accuracy: 0.9241 - val_loss: 0.2565 - val_accuracy: 0.9628\n",
      "Epoch 5/100\n",
      "24/24 [==============================] - 0s 2ms/step - loss: 0.2049 - accuracy: 0.9308 - val_loss: 0.2261 - val_accuracy: 0.9681\n",
      "Epoch 6/100\n",
      "24/24 [==============================] - 0s 3ms/step - loss: 0.1791 - accuracy: 0.9481 - val_loss: 0.2022 - val_accuracy: 0.9521\n",
      "Epoch 7/100\n",
      "24/24 [==============================] - 0s 3ms/step - loss: 0.1697 - accuracy: 0.9454 - val_loss: 0.1793 - val_accuracy: 0.9521\n",
      "Epoch 8/100\n",
      "24/24 [==============================] - 0s 3ms/step - loss: 0.1680 - accuracy: 0.9414 - val_loss: 0.1705 - val_accuracy: 0.9415\n",
      "Epoch 9/100\n",
      "24/24 [==============================] - 0s 3ms/step - loss: 0.1402 - accuracy: 0.9507 - val_loss: 0.1644 - val_accuracy: 0.9521\n",
      "Epoch 10/100\n",
      "24/24 [==============================] - 0s 2ms/step - loss: 0.1374 - accuracy: 0.9534 - val_loss: 0.1540 - val_accuracy: 0.9574\n",
      "Epoch 11/100\n",
      "24/24 [==============================] - 0s 3ms/step - loss: 0.1268 - accuracy: 0.9614 - val_loss: 0.1475 - val_accuracy: 0.9574\n",
      "Epoch 12/100\n",
      "24/24 [==============================] - 0s 3ms/step - loss: 0.1258 - accuracy: 0.9601 - val_loss: 0.1479 - val_accuracy: 0.9574\n",
      "Epoch 13/100\n",
      "24/24 [==============================] - 0s 2ms/step - loss: 0.1144 - accuracy: 0.9640 - val_loss: 0.1427 - val_accuracy: 0.9574\n",
      "Epoch 14/100\n",
      "24/24 [==============================] - 0s 2ms/step - loss: 0.1115 - accuracy: 0.9614 - val_loss: 0.1430 - val_accuracy: 0.9574\n",
      "Epoch 15/100\n",
      "24/24 [==============================] - 0s 3ms/step - loss: 0.1010 - accuracy: 0.9694 - val_loss: 0.1341 - val_accuracy: 0.9574\n",
      "Epoch 16/100\n",
      "24/24 [==============================] - 0s 17ms/step - loss: 0.1070 - accuracy: 0.9614 - val_loss: 0.1451 - val_accuracy: 0.9628\n",
      "Epoch 17/100\n",
      "24/24 [==============================] - 0s 3ms/step - loss: 0.1030 - accuracy: 0.9627 - val_loss: 0.1369 - val_accuracy: 0.9628\n",
      "Epoch 18/100\n",
      "24/24 [==============================] - 0s 3ms/step - loss: 0.1172 - accuracy: 0.9614 - val_loss: 0.1291 - val_accuracy: 0.9628\n",
      "Epoch 19/100\n",
      "24/24 [==============================] - 0s 3ms/step - loss: 0.1028 - accuracy: 0.9694 - val_loss: 0.1313 - val_accuracy: 0.9628\n",
      "Epoch 20/100\n",
      "24/24 [==============================] - 0s 3ms/step - loss: 0.0859 - accuracy: 0.9694 - val_loss: 0.1266 - val_accuracy: 0.9574\n",
      "Epoch 21/100\n",
      "24/24 [==============================] - 0s 3ms/step - loss: 0.1044 - accuracy: 0.9614 - val_loss: 0.1305 - val_accuracy: 0.9628\n",
      "Epoch 22/100\n",
      "24/24 [==============================] - 0s 3ms/step - loss: 0.0912 - accuracy: 0.9627 - val_loss: 0.1097 - val_accuracy: 0.9628\n",
      "Epoch 23/100\n",
      "24/24 [==============================] - 0s 3ms/step - loss: 0.0791 - accuracy: 0.9734 - val_loss: 0.1222 - val_accuracy: 0.9628\n",
      "Epoch 24/100\n",
      "24/24 [==============================] - 0s 2ms/step - loss: 0.0804 - accuracy: 0.9720 - val_loss: 0.1234 - val_accuracy: 0.9628\n",
      "Epoch 25/100\n",
      "24/24 [==============================] - 0s 2ms/step - loss: 0.0918 - accuracy: 0.9680 - val_loss: 0.1292 - val_accuracy: 0.9574\n",
      "Epoch 26/100\n",
      "24/24 [==============================] - 0s 3ms/step - loss: 0.0599 - accuracy: 0.9774 - val_loss: 0.1203 - val_accuracy: 0.9574\n",
      "Epoch 27/100\n",
      "24/24 [==============================] - 0s 3ms/step - loss: 0.0564 - accuracy: 0.9827 - val_loss: 0.1225 - val_accuracy: 0.9574\n",
      "Epoch 28/100\n",
      "24/24 [==============================] - 0s 3ms/step - loss: 0.0606 - accuracy: 0.9760 - val_loss: 0.1189 - val_accuracy: 0.9574\n",
      "Epoch 29/100\n",
      "24/24 [==============================] - 0s 3ms/step - loss: 0.0556 - accuracy: 0.9854 - val_loss: 0.1132 - val_accuracy: 0.9628\n",
      "Epoch 30/100\n",
      "24/24 [==============================] - 0s 3ms/step - loss: 0.0440 - accuracy: 0.9840 - val_loss: 0.1113 - val_accuracy: 0.9681\n",
      "Epoch 31/100\n",
      "24/24 [==============================] - 0s 2ms/step - loss: 0.0811 - accuracy: 0.9760 - val_loss: 0.1175 - val_accuracy: 0.9628\n",
      "Epoch 32/100\n",
      "24/24 [==============================] - 0s 3ms/step - loss: 0.0750 - accuracy: 0.9734 - val_loss: 0.1184 - val_accuracy: 0.9628\n"
     ]
    }
   ],
   "source": [
    "model = keras.models.Sequential([\n",
    "    keras.layers.Dense(50, activation=\"relu\", input_shape = X_train.shape[1:]),\n",
    "    keras.layers.BatchNormalization(),\n",
    "    keras.layers.Dense(10, activation=\"relu\"),\n",
    "    keras.layers.BatchNormalization(),\n",
    "    keras.layers.Dense(2, activation=\"softmax\")\n",
    "])\n",
    "\n",
    "model.compile(loss=\"sparse_categorical_crossentropy\", optimizer=\"adam\", metrics=[\"accuracy\"])\n",
    "early_stopping_cb = keras.callbacks.EarlyStopping(patience=10, restore_best_weights=True)\n",
    "\n",
    "history = model.fit(X_train, y_train, epochs=100, validation_data=(X_valid, y_valid),\n",
    "                   callbacks=[early_stopping_cb])"
   ]
  },
  {
   "cell_type": "code",
   "execution_count": 233,
   "metadata": {},
   "outputs": [
    {
     "name": "stdout",
     "output_type": "stream",
     "text": [
      "Accuracy Score: 0.9627659574468085\n",
      "Area under ROC: 0.961126310989512\n",
      "Confusion Matrix: [[100   2]\n",
      " [  5  81]]\n"
     ]
    }
   ],
   "source": [
    "y_pred = model.predict(X_valid)\n",
    "\n",
    "predict = []\n",
    "for arr in y_pred:\n",
    "    if arr[1] >= arr[0]:\n",
    "        predict.append(1)\n",
    "    else:\n",
    "        predict.append(0)\n",
    "        \n",
    "print(\"Accuracy Score:\", accuracy_score(y_valid, predict))\n",
    "print(\"Area under ROC:\", roc_auc_score(y_valid, predict))\n",
    "print(\"Confusion Matrix:\", confusion_matrix(y_valid, predict))"
   ]
  },
  {
   "cell_type": "markdown",
   "metadata": {},
   "source": [
    "We see that the neural network model has the highest accuracy score on the validation set and the highest `roc_auc_score`. The confusion matrix also shows that the neural network model has been able to predict fradulent transactions accurately."
   ]
  },
  {
   "cell_type": "markdown",
   "metadata": {},
   "source": [
    "### Train with MCD Data"
   ]
  },
  {
   "cell_type": "code",
   "execution_count": null,
   "metadata": {},
   "outputs": [],
   "source": [
    "X_train, X_valid, y_train, y_valid = train_test_split(mcd_data.loc[:, mcd_data.columns != \"Class\"], \n",
    "                                                     mcd_data[['Class']], test_size=0.2)"
   ]
  },
  {
   "cell_type": "code",
   "execution_count": 234,
   "metadata": {},
   "outputs": [
    {
     "name": "stdout",
     "output_type": "stream",
     "text": [
      "Logistic Regression\n",
      "Accuracy Score: 0.9468085106382979\n",
      "Area under ROC: 0.9445964432284542\n",
      "Confusion Matrix: [[99  3]\n",
      " [ 7 79]]\n",
      "\n",
      "\n",
      "RandomForestClassifier\n",
      "Accuracy Score: 0.9468085106382979\n",
      "Area under ROC: 0.9445964432284542\n",
      "Confusion Matrix: [[99  3]\n",
      " [ 7 79]]\n",
      "\n",
      "\n",
      "AdaBoostClassifer\n",
      "Accuracy Score: 0.9521276595744681\n",
      "Area under ROC: 0.9522343821249429\n",
      "Confusion Matrix: [[97  5]\n",
      " [ 4 82]]\n",
      "\n",
      "\n",
      "GradientBoostingClassifier\n",
      "Accuracy Score: 0.9627659574468085\n",
      "Area under ROC: 0.961126310989512\n",
      "Confusion Matrix: [[100   2]\n",
      " [  5  81]]\n",
      "\n",
      "\n",
      "KNeighborsClassifier\n",
      "Accuracy Score: 0.9521276595744681\n",
      "Area under ROC: 0.9485864113087095\n",
      "Confusion Matrix: [[101   1]\n",
      " [  8  78]]\n",
      "\n",
      "\n",
      "KMeans\n",
      "Accuracy Score: 0.2978723404255319\n",
      "Area under ROC: 0.32466940264477884\n",
      "Confusion Matrix: [[  1 101]\n",
      " [ 31  55]]\n",
      "\n",
      "\n",
      "SVC\n",
      "Accuracy Score: 0.9521276595744681\n",
      "Area under ROC: 0.9485864113087095\n",
      "Confusion Matrix: [[101   1]\n",
      " [  8  78]]\n",
      "\n",
      "\n"
     ]
    }
   ],
   "source": [
    "model = LogisticRegression().fit(X_train, y_train.values.ravel())\n",
    "predict = model.predict(X_valid)\n",
    "print('Logistic Regression')\n",
    "print(\"Accuracy Score:\", accuracy_score(y_valid, predict))\n",
    "print(\"Area under ROC:\", roc_auc_score(y_valid, predict))\n",
    "print(\"Confusion Matrix:\", confusion_matrix(y_valid, predict))\n",
    "print(\"\\n\")\n",
    "\n",
    "model = RandomForestClassifier().fit(X_train, y_train.values.ravel())\n",
    "predict = model.predict(X_valid)\n",
    "print(\"RandomForestClassifier\")\n",
    "print(\"Accuracy Score:\", accuracy_score(y_valid, predict))\n",
    "print(\"Area under ROC:\", roc_auc_score(y_valid, predict))\n",
    "print(\"Confusion Matrix:\", confusion_matrix(y_valid, predict))\n",
    "print(\"\\n\")\n",
    "\n",
    "model = AdaBoostClassifier().fit(X_train, y_train.values.ravel())\n",
    "predict = model.predict(X_valid)\n",
    "print(\"AdaBoostClassifer\")\n",
    "print(\"Accuracy Score:\", accuracy_score(y_valid, predict))\n",
    "print(\"Area under ROC:\", roc_auc_score(y_valid, predict))\n",
    "print(\"Confusion Matrix:\", confusion_matrix(y_valid, predict))\n",
    "print(\"\\n\")\n",
    "\n",
    "model = GradientBoostingClassifier().fit(X_train, y_train.values.ravel())\n",
    "predict = model.predict(X_valid)\n",
    "print(\"GradientBoostingClassifier\")\n",
    "print(\"Accuracy Score:\", accuracy_score(y_valid, predict))\n",
    "print(\"Area under ROC:\", roc_auc_score(y_valid, predict))\n",
    "print(\"Confusion Matrix:\", confusion_matrix(y_valid, predict))\n",
    "print(\"\\n\")\n",
    "\n",
    "model = KNeighborsClassifier(n_neighbors=2).fit(X_train, y_train.values.ravel())\n",
    "predict = model.predict(X_valid)\n",
    "print(\"KNeighborsClassifier\")\n",
    "print(\"Accuracy Score:\", accuracy_score(y_valid, predict))\n",
    "print(\"Area under ROC:\", roc_auc_score(y_valid, predict))\n",
    "print(\"Confusion Matrix:\", confusion_matrix(y_valid, predict))\n",
    "print(\"\\n\")\n",
    "\n",
    "model = KMeans(n_clusters=2).fit(X_train, y_train.values.ravel())\n",
    "predict = model.predict(X_valid)\n",
    "print(\"KMeans\")\n",
    "print(\"Accuracy Score:\", accuracy_score(y_valid, predict))\n",
    "print(\"Area under ROC:\", roc_auc_score(y_valid, predict))\n",
    "print(\"Confusion Matrix:\", confusion_matrix(y_valid, predict))\n",
    "print(\"\\n\")\n",
    "\n",
    "model = SVC().fit(X_train, y_train.values.ravel())\n",
    "predict = model.predict(X_valid)\n",
    "print(\"SVC\")\n",
    "print(\"Accuracy Score:\", accuracy_score(y_valid, predict))\n",
    "print(\"Area under ROC:\", roc_auc_score(y_valid, predict))\n",
    "print(\"Confusion Matrix:\", confusion_matrix(y_valid, predict))\n",
    "print(\"\\n\")"
   ]
  },
  {
   "cell_type": "markdown",
   "metadata": {},
   "source": [
    "#### Neural Network Model"
   ]
  },
  {
   "cell_type": "code",
   "execution_count": 237,
   "metadata": {},
   "outputs": [
    {
     "name": "stdout",
     "output_type": "stream",
     "text": [
      "Epoch 1/100\n",
      "24/24 [==============================] - 0s 5ms/step - loss: 0.8025 - accuracy: 0.6405 - val_loss: 0.5000 - val_accuracy: 0.7979\n",
      "Epoch 2/100\n",
      "24/24 [==============================] - 0s 2ms/step - loss: 0.3557 - accuracy: 0.8735 - val_loss: 0.3380 - val_accuracy: 0.9255\n",
      "Epoch 3/100\n",
      "24/24 [==============================] - 0s 2ms/step - loss: 0.2891 - accuracy: 0.9121 - val_loss: 0.2593 - val_accuracy: 0.9574\n",
      "Epoch 4/100\n",
      "24/24 [==============================] - 0s 2ms/step - loss: 0.2460 - accuracy: 0.9161 - val_loss: 0.2238 - val_accuracy: 0.9574\n",
      "Epoch 5/100\n",
      "24/24 [==============================] - 0s 2ms/step - loss: 0.2230 - accuracy: 0.9254 - val_loss: 0.2023 - val_accuracy: 0.9574\n",
      "Epoch 6/100\n",
      "24/24 [==============================] - 0s 2ms/step - loss: 0.2069 - accuracy: 0.9281 - val_loss: 0.1833 - val_accuracy: 0.9574\n",
      "Epoch 7/100\n",
      "24/24 [==============================] - 0s 2ms/step - loss: 0.1900 - accuracy: 0.9254 - val_loss: 0.1657 - val_accuracy: 0.9574\n",
      "Epoch 8/100\n",
      "24/24 [==============================] - 0s 2ms/step - loss: 0.1816 - accuracy: 0.9334 - val_loss: 0.1500 - val_accuracy: 0.9574\n",
      "Epoch 9/100\n",
      "24/24 [==============================] - 0s 2ms/step - loss: 0.1751 - accuracy: 0.9361 - val_loss: 0.1407 - val_accuracy: 0.9628\n",
      "Epoch 10/100\n",
      "24/24 [==============================] - 0s 2ms/step - loss: 0.1610 - accuracy: 0.9361 - val_loss: 0.1346 - val_accuracy: 0.9574\n",
      "Epoch 11/100\n",
      "24/24 [==============================] - 0s 2ms/step - loss: 0.1582 - accuracy: 0.9387 - val_loss: 0.1277 - val_accuracy: 0.9574\n",
      "Epoch 12/100\n",
      "24/24 [==============================] - 0s 2ms/step - loss: 0.1649 - accuracy: 0.9467 - val_loss: 0.1269 - val_accuracy: 0.9681\n",
      "Epoch 13/100\n",
      "24/24 [==============================] - 0s 3ms/step - loss: 0.1445 - accuracy: 0.9534 - val_loss: 0.1260 - val_accuracy: 0.9574\n",
      "Epoch 14/100\n",
      "24/24 [==============================] - 0s 2ms/step - loss: 0.1452 - accuracy: 0.9481 - val_loss: 0.1192 - val_accuracy: 0.9574\n",
      "Epoch 15/100\n",
      "24/24 [==============================] - 0s 2ms/step - loss: 0.1470 - accuracy: 0.9441 - val_loss: 0.1164 - val_accuracy: 0.9681\n",
      "Epoch 16/100\n",
      "24/24 [==============================] - 0s 2ms/step - loss: 0.1323 - accuracy: 0.9507 - val_loss: 0.1149 - val_accuracy: 0.9574\n",
      "Epoch 17/100\n",
      "24/24 [==============================] - 0s 2ms/step - loss: 0.1236 - accuracy: 0.9561 - val_loss: 0.1174 - val_accuracy: 0.9574\n",
      "Epoch 18/100\n",
      "24/24 [==============================] - 0s 2ms/step - loss: 0.1074 - accuracy: 0.9640 - val_loss: 0.1110 - val_accuracy: 0.9628\n",
      "Epoch 19/100\n",
      "24/24 [==============================] - 0s 3ms/step - loss: 0.1169 - accuracy: 0.9614 - val_loss: 0.1104 - val_accuracy: 0.9574\n",
      "Epoch 20/100\n",
      "24/24 [==============================] - 0s 2ms/step - loss: 0.1309 - accuracy: 0.9481 - val_loss: 0.1079 - val_accuracy: 0.9574\n",
      "Epoch 21/100\n",
      "24/24 [==============================] - 0s 2ms/step - loss: 0.1029 - accuracy: 0.9654 - val_loss: 0.1084 - val_accuracy: 0.9628\n",
      "Epoch 22/100\n",
      "24/24 [==============================] - 0s 2ms/step - loss: 0.1013 - accuracy: 0.9587 - val_loss: 0.0995 - val_accuracy: 0.9628\n",
      "Epoch 23/100\n",
      "24/24 [==============================] - 0s 2ms/step - loss: 0.1083 - accuracy: 0.9587 - val_loss: 0.0994 - val_accuracy: 0.9681\n",
      "Epoch 24/100\n",
      "24/24 [==============================] - 0s 2ms/step - loss: 0.0980 - accuracy: 0.9654 - val_loss: 0.1007 - val_accuracy: 0.9628\n",
      "Epoch 25/100\n",
      "24/24 [==============================] - 0s 2ms/step - loss: 0.0882 - accuracy: 0.9694 - val_loss: 0.1061 - val_accuracy: 0.9628\n",
      "Epoch 26/100\n",
      "24/24 [==============================] - 0s 2ms/step - loss: 0.1098 - accuracy: 0.9694 - val_loss: 0.1084 - val_accuracy: 0.9574\n",
      "Epoch 27/100\n",
      "24/24 [==============================] - 0s 2ms/step - loss: 0.0831 - accuracy: 0.9680 - val_loss: 0.1137 - val_accuracy: 0.9574\n",
      "Epoch 28/100\n",
      "24/24 [==============================] - 0s 2ms/step - loss: 0.0848 - accuracy: 0.9774 - val_loss: 0.1166 - val_accuracy: 0.9574\n",
      "Epoch 29/100\n",
      "24/24 [==============================] - 0s 2ms/step - loss: 0.1078 - accuracy: 0.9561 - val_loss: 0.1191 - val_accuracy: 0.9574\n",
      "Epoch 30/100\n",
      "24/24 [==============================] - 0s 2ms/step - loss: 0.0781 - accuracy: 0.9720 - val_loss: 0.1174 - val_accuracy: 0.9521\n",
      "Epoch 31/100\n",
      "24/24 [==============================] - 0s 2ms/step - loss: 0.0808 - accuracy: 0.9734 - val_loss: 0.1200 - val_accuracy: 0.9574\n",
      "Epoch 32/100\n",
      "24/24 [==============================] - 0s 2ms/step - loss: 0.0855 - accuracy: 0.9627 - val_loss: 0.1191 - val_accuracy: 0.9415\n",
      "Epoch 33/100\n",
      "24/24 [==============================] - 0s 2ms/step - loss: 0.0730 - accuracy: 0.9747 - val_loss: 0.1271 - val_accuracy: 0.9415\n",
      "Accuracy Score: 0.9680851063829787\n",
      "Area under ROC: 0.9660282717738258\n",
      "Confusion Matrix: [[101   1]\n",
      " [  5  81]]\n"
     ]
    }
   ],
   "source": [
    "model = keras.models.Sequential([\n",
    "    keras.layers.Dense(50, activation=\"relu\", input_shape = X_train.shape[1:]),\n",
    "    keras.layers.BatchNormalization(),\n",
    "    keras.layers.Dense(10, activation=\"relu\"),\n",
    "    keras.layers.BatchNormalization(),\n",
    "    keras.layers.Dense(2, activation=\"softmax\")\n",
    "])\n",
    "\n",
    "model.compile(loss=\"sparse_categorical_crossentropy\", optimizer=\"adam\", metrics=[\"accuracy\"])\n",
    "early_stopping_cb = keras.callbacks.EarlyStopping(patience=10, restore_best_weights=True)\n",
    "\n",
    "history = model.fit(X_train, y_train, epochs=100, validation_data=(X_valid, y_valid),\n",
    "                   callbacks=[early_stopping_cb])\n",
    "\n",
    "y_pred = model.predict(X_valid)\n",
    "\n",
    "predict = []\n",
    "for arr in y_pred:\n",
    "    if arr[1] >= arr[0]:\n",
    "        predict.append(1)\n",
    "    else:\n",
    "        predict.append(0)\n",
    "        \n",
    "print(\"Accuracy Score:\", accuracy_score(y_valid, predict))\n",
    "print(\"Area under ROC:\", roc_auc_score(y_valid, predict))\n",
    "print(\"Confusion Matrix:\", confusion_matrix(y_valid, predict))"
   ]
  },
  {
   "cell_type": "code",
   "execution_count": 238,
   "metadata": {},
   "outputs": [],
   "source": [
    "model.save(\"mcd_data_nn_model.h5\")"
   ]
  },
  {
   "cell_type": "markdown",
   "metadata": {},
   "source": [
    "Similar to the Gaussian Mixture dataset, the neural network model has the highest accuracy score and `roc_auc_score`. The confusion matrix also shows that only 6 predictions was not able to classify fradulent and non-fradulent transactions."
   ]
  },
  {
   "cell_type": "markdown",
   "metadata": {},
   "source": [
    "### Check Model using Actual Dataset"
   ]
  },
  {
   "cell_type": "markdown",
   "metadata": {},
   "source": [
    "We remove the anomaly using the same condition when creating the `mcd_data`"
   ]
  },
  {
   "cell_type": "code",
   "execution_count": 240,
   "metadata": {},
   "outputs": [
    {
     "name": "stdout",
     "output_type": "stream",
     "text": [
      "[  -20.02908195 -1305.10818225  -157.98019098 ...   -11.33888017\n",
      "   -27.70152042  -135.84353453]\n"
     ]
    }
   ],
   "source": [
    "ee_data = EllipticEnvelope(support_fraction=0.7)\n",
    "ee_data.fit(data)\n",
    "anomaly_ee = ee_data.score_samples(data)"
   ]
  },
  {
   "cell_type": "code",
   "execution_count": 241,
   "metadata": {},
   "outputs": [
    {
     "name": "stdout",
     "output_type": "stream",
     "text": [
      "284807\n"
     ]
    }
   ],
   "source": [
    "print(len(anomaly_ee))"
   ]
  },
  {
   "cell_type": "code",
   "execution_count": 243,
   "metadata": {},
   "outputs": [],
   "source": [
    "# set threshold\n",
    "distance_threshold = -0.5e+7\n",
    "anomalies_ee = data[anomaly_ee < distance_threshold]"
   ]
  },
  {
   "cell_type": "code",
   "execution_count": 245,
   "metadata": {},
   "outputs": [
    {
     "name": "stdout",
     "output_type": "stream",
     "text": [
      "<class 'pandas.core.frame.DataFrame'>\n",
      "Int64Index: 284473 entries, 76028 to 26721\n",
      "Data columns (total 31 columns):\n",
      "Time      284473 non-null float64\n",
      "V1        284473 non-null float64\n",
      "V2        284473 non-null float64\n",
      "V3        284473 non-null float64\n",
      "V4        284473 non-null float64\n",
      "V5        284473 non-null float64\n",
      "V6        284473 non-null float64\n",
      "V7        284473 non-null float64\n",
      "V8        284473 non-null float64\n",
      "V9        284473 non-null float64\n",
      "V10       284473 non-null float64\n",
      "V11       284473 non-null float64\n",
      "V12       284473 non-null float64\n",
      "V13       284473 non-null float64\n",
      "V14       284473 non-null float64\n",
      "V15       284473 non-null float64\n",
      "V16       284473 non-null float64\n",
      "V17       284473 non-null float64\n",
      "V18       284473 non-null float64\n",
      "V19       284473 non-null float64\n",
      "V20       284473 non-null float64\n",
      "V21       284473 non-null float64\n",
      "V22       284473 non-null float64\n",
      "V23       284473 non-null float64\n",
      "V24       284473 non-null float64\n",
      "V25       284473 non-null float64\n",
      "V26       284473 non-null float64\n",
      "V27       284473 non-null float64\n",
      "V28       284473 non-null float64\n",
      "Amount    284473 non-null float64\n",
      "Class     284473 non-null int64\n",
      "dtypes: float64(30), int64(1)\n",
      "memory usage: 69.5 MB\n"
     ]
    }
   ],
   "source": [
    "mcd_full_data = data.drop(anomalies_ee.index)\n",
    "mcd_full_data.info()"
   ]
  },
  {
   "cell_type": "code",
   "execution_count": 260,
   "metadata": {},
   "outputs": [],
   "source": [
    "train_data = data.loc[:, data.columns != \"Class\"]\n",
    "test_data = data[\"Class\"]"
   ]
  },
  {
   "cell_type": "code",
   "execution_count": 261,
   "metadata": {},
   "outputs": [
    {
     "name": "stderr",
     "output_type": "stream",
     "text": [
      "<ipython-input-261-69395db0c7e0>:1: SettingWithCopyWarning: \n",
      "A value is trying to be set on a copy of a slice from a DataFrame.\n",
      "Try using .loc[row_indexer,col_indexer] = value instead\n",
      "\n",
      "See the caveats in the documentation: http://pandas.pydata.org/pandas-docs/stable/user_guide/indexing.html#returning-a-view-versus-a-copy\n",
      "  train_data['Amount'] = (train_data['Amount'] - train_data['Amount'].mean()) / train_data['Amount'].std()\n"
     ]
    }
   ],
   "source": [
    "train_data['Amount'] = (train_data['Amount'] - train_data['Amount'].mean()) / train_data['Amount'].std()"
   ]
  },
  {
   "cell_type": "code",
   "execution_count": 262,
   "metadata": {},
   "outputs": [
    {
     "data": {
      "text/html": [
       "<div>\n",
       "<style scoped>\n",
       "    .dataframe tbody tr th:only-of-type {\n",
       "        vertical-align: middle;\n",
       "    }\n",
       "\n",
       "    .dataframe tbody tr th {\n",
       "        vertical-align: top;\n",
       "    }\n",
       "\n",
       "    .dataframe thead th {\n",
       "        text-align: right;\n",
       "    }\n",
       "</style>\n",
       "<table border=\"1\" class=\"dataframe\">\n",
       "  <thead>\n",
       "    <tr style=\"text-align: right;\">\n",
       "      <th></th>\n",
       "      <th>V1</th>\n",
       "      <th>V2</th>\n",
       "      <th>V3</th>\n",
       "      <th>V4</th>\n",
       "      <th>V5</th>\n",
       "      <th>V6</th>\n",
       "      <th>V7</th>\n",
       "      <th>V8</th>\n",
       "      <th>V9</th>\n",
       "      <th>V10</th>\n",
       "      <th>...</th>\n",
       "      <th>V20</th>\n",
       "      <th>V21</th>\n",
       "      <th>V22</th>\n",
       "      <th>V23</th>\n",
       "      <th>V24</th>\n",
       "      <th>V25</th>\n",
       "      <th>V26</th>\n",
       "      <th>V27</th>\n",
       "      <th>V28</th>\n",
       "      <th>Amount</th>\n",
       "    </tr>\n",
       "  </thead>\n",
       "  <tbody>\n",
       "    <tr>\n",
       "      <th>76028</th>\n",
       "      <td>1.116006</td>\n",
       "      <td>-0.025995</td>\n",
       "      <td>1.097629</td>\n",
       "      <td>2.564423</td>\n",
       "      <td>-0.613870</td>\n",
       "      <td>0.586278</td>\n",
       "      <td>-0.669844</td>\n",
       "      <td>0.326577</td>\n",
       "      <td>0.480265</td>\n",
       "      <td>0.540051</td>\n",
       "      <td>...</td>\n",
       "      <td>-0.199834</td>\n",
       "      <td>-0.144436</td>\n",
       "      <td>-0.437186</td>\n",
       "      <td>-0.064028</td>\n",
       "      <td>-0.522100</td>\n",
       "      <td>0.325902</td>\n",
       "      <td>0.012288</td>\n",
       "      <td>0.021676</td>\n",
       "      <td>0.028708</td>\n",
       "      <td>-0.213416</td>\n",
       "    </tr>\n",
       "    <tr>\n",
       "      <th>264046</th>\n",
       "      <td>-1.294921</td>\n",
       "      <td>2.050438</td>\n",
       "      <td>-1.279203</td>\n",
       "      <td>-1.055058</td>\n",
       "      <td>0.884961</td>\n",
       "      <td>-0.380670</td>\n",
       "      <td>0.936969</td>\n",
       "      <td>-0.050423</td>\n",
       "      <td>1.352204</td>\n",
       "      <td>1.762847</td>\n",
       "      <td>...</td>\n",
       "      <td>0.820265</td>\n",
       "      <td>0.077019</td>\n",
       "      <td>1.033992</td>\n",
       "      <td>-0.138503</td>\n",
       "      <td>-0.087180</td>\n",
       "      <td>-0.412243</td>\n",
       "      <td>-0.226728</td>\n",
       "      <td>0.679236</td>\n",
       "      <td>0.172518</td>\n",
       "      <td>-0.349670</td>\n",
       "    </tr>\n",
       "    <tr>\n",
       "      <th>40697</th>\n",
       "      <td>-0.410381</td>\n",
       "      <td>1.096819</td>\n",
       "      <td>-0.026878</td>\n",
       "      <td>0.994127</td>\n",
       "      <td>0.381271</td>\n",
       "      <td>-1.238644</td>\n",
       "      <td>0.785967</td>\n",
       "      <td>-0.096025</td>\n",
       "      <td>-0.475072</td>\n",
       "      <td>0.314928</td>\n",
       "      <td>...</td>\n",
       "      <td>-0.027236</td>\n",
       "      <td>0.123970</td>\n",
       "      <td>0.642627</td>\n",
       "      <td>0.242668</td>\n",
       "      <td>0.343223</td>\n",
       "      <td>-0.659214</td>\n",
       "      <td>-0.442232</td>\n",
       "      <td>0.047665</td>\n",
       "      <td>-0.083061</td>\n",
       "      <td>-0.337916</td>\n",
       "    </tr>\n",
       "    <tr>\n",
       "      <th>231471</th>\n",
       "      <td>0.921560</td>\n",
       "      <td>-1.850690</td>\n",
       "      <td>-2.507724</td>\n",
       "      <td>0.830760</td>\n",
       "      <td>-0.306737</td>\n",
       "      <td>-0.589937</td>\n",
       "      <td>0.723417</td>\n",
       "      <td>-0.228607</td>\n",
       "      <td>1.165802</td>\n",
       "      <td>-1.135152</td>\n",
       "      <td>...</td>\n",
       "      <td>0.921709</td>\n",
       "      <td>0.068218</td>\n",
       "      <td>-0.939649</td>\n",
       "      <td>-0.277111</td>\n",
       "      <td>0.463932</td>\n",
       "      <td>-0.302325</td>\n",
       "      <td>-0.168037</td>\n",
       "      <td>-0.124562</td>\n",
       "      <td>0.083909</td>\n",
       "      <td>1.978131</td>\n",
       "    </tr>\n",
       "    <tr>\n",
       "      <th>36200</th>\n",
       "      <td>1.185895</td>\n",
       "      <td>-1.100078</td>\n",
       "      <td>0.802142</td>\n",
       "      <td>-0.519271</td>\n",
       "      <td>-1.329392</td>\n",
       "      <td>0.061742</td>\n",
       "      <td>-0.976230</td>\n",
       "      <td>0.017040</td>\n",
       "      <td>-0.052650</td>\n",
       "      <td>0.373289</td>\n",
       "      <td>...</td>\n",
       "      <td>0.356496</td>\n",
       "      <td>0.145205</td>\n",
       "      <td>0.317018</td>\n",
       "      <td>-0.207993</td>\n",
       "      <td>-0.271363</td>\n",
       "      <td>0.440327</td>\n",
       "      <td>-0.166129</td>\n",
       "      <td>0.036611</td>\n",
       "      <td>0.040753</td>\n",
       "      <td>0.126541</td>\n",
       "    </tr>\n",
       "  </tbody>\n",
       "</table>\n",
       "<p>5 rows × 29 columns</p>\n",
       "</div>"
      ],
      "text/plain": [
       "              V1        V2        V3        V4        V5        V6        V7  \\\n",
       "76028   1.116006 -0.025995  1.097629  2.564423 -0.613870  0.586278 -0.669844   \n",
       "264046 -1.294921  2.050438 -1.279203 -1.055058  0.884961 -0.380670  0.936969   \n",
       "40697  -0.410381  1.096819 -0.026878  0.994127  0.381271 -1.238644  0.785967   \n",
       "231471  0.921560 -1.850690 -2.507724  0.830760 -0.306737 -0.589937  0.723417   \n",
       "36200   1.185895 -1.100078  0.802142 -0.519271 -1.329392  0.061742 -0.976230   \n",
       "\n",
       "              V8        V9       V10  ...       V20       V21       V22  \\\n",
       "76028   0.326577  0.480265  0.540051  ... -0.199834 -0.144436 -0.437186   \n",
       "264046 -0.050423  1.352204  1.762847  ...  0.820265  0.077019  1.033992   \n",
       "40697  -0.096025 -0.475072  0.314928  ... -0.027236  0.123970  0.642627   \n",
       "231471 -0.228607  1.165802 -1.135152  ...  0.921709  0.068218 -0.939649   \n",
       "36200   0.017040 -0.052650  0.373289  ...  0.356496  0.145205  0.317018   \n",
       "\n",
       "             V23       V24       V25       V26       V27       V28    Amount  \n",
       "76028  -0.064028 -0.522100  0.325902  0.012288  0.021676  0.028708 -0.213416  \n",
       "264046 -0.138503 -0.087180 -0.412243 -0.226728  0.679236  0.172518 -0.349670  \n",
       "40697   0.242668  0.343223 -0.659214 -0.442232  0.047665 -0.083061 -0.337916  \n",
       "231471 -0.277111  0.463932 -0.302325 -0.168037 -0.124562  0.083909  1.978131  \n",
       "36200  -0.207993 -0.271363  0.440327 -0.166129  0.036611  0.040753  0.126541  \n",
       "\n",
       "[5 rows x 29 columns]"
      ]
     },
     "execution_count": 262,
     "metadata": {},
     "output_type": "execute_result"
    }
   ],
   "source": [
    "train_data = train_data.drop(columns = [\"Time\"])\n",
    "train_data.head()"
   ]
  },
  {
   "cell_type": "code",
   "execution_count": 265,
   "metadata": {},
   "outputs": [],
   "source": [
    "final_model = keras.models.load_model(\"mcd_data_nn_model.h5\")\n",
    "y_pred = final_model.predict(train_data)"
   ]
  },
  {
   "cell_type": "code",
   "execution_count": 266,
   "metadata": {},
   "outputs": [],
   "source": [
    "predict = []\n",
    "for arr in y_pred:\n",
    "    if arr[1] >= arr[0]:\n",
    "        predict.append(1)\n",
    "    else:\n",
    "        predict.append(0)"
   ]
  },
  {
   "cell_type": "code",
   "execution_count": 267,
   "metadata": {},
   "outputs": [
    {
     "name": "stdout",
     "output_type": "stream",
     "text": [
      "Accuracy Score: 0.9610718837669018\n",
      "Area under ROC: 0.955139721072571\n",
      "Confusion Matrix: [[273253  11062]\n",
      " [    25    467]]\n"
     ]
    }
   ],
   "source": [
    "print(\"Accuracy Score:\", accuracy_score(test_data, predict))\n",
    "print(\"Area under ROC:\", roc_auc_score(test_data, predict))\n",
    "print(\"Confusion Matrix:\", confusion_matrix(test_data, predict))"
   ]
  },
  {
   "cell_type": "markdown",
   "metadata": {},
   "source": [
    "The final model was able to predict fradulent and non-fradulent transaction with an accuracy of 96.107%."
   ]
  }
 ],
 "metadata": {
  "kernelspec": {
   "display_name": "Python 3",
   "language": "python",
   "name": "python3"
  },
  "language_info": {
   "codemirror_mode": {
    "name": "ipython",
    "version": 3
   },
   "file_extension": ".py",
   "mimetype": "text/x-python",
   "name": "python",
   "nbconvert_exporter": "python",
   "pygments_lexer": "ipython3",
   "version": "3.8.0"
  }
 },
 "nbformat": 4,
 "nbformat_minor": 4
}
