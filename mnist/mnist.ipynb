{
 "cells": [
  {
   "cell_type": "markdown",
   "metadata": {},
   "source": [
    "# Digit Recognizer - MNIST data"
   ]
  },
  {
   "cell_type": "code",
   "execution_count": 1,
   "metadata": {},
   "outputs": [],
   "source": [
    "import tensorflow as tf\n",
    "from tensorflow import keras\n",
    "import pandas as pd"
   ]
  },
  {
   "cell_type": "code",
   "execution_count": 2,
   "metadata": {},
   "outputs": [],
   "source": [
    "train_data = pd.read_csv('data/train.csv')\n",
    "test_data = pd.read_csv('data/test.csv')"
   ]
  },
  {
   "cell_type": "code",
   "execution_count": 3,
   "metadata": {},
   "outputs": [
    {
     "data": {
      "text/html": [
       "<div>\n",
       "<style scoped>\n",
       "    .dataframe tbody tr th:only-of-type {\n",
       "        vertical-align: middle;\n",
       "    }\n",
       "\n",
       "    .dataframe tbody tr th {\n",
       "        vertical-align: top;\n",
       "    }\n",
       "\n",
       "    .dataframe thead th {\n",
       "        text-align: right;\n",
       "    }\n",
       "</style>\n",
       "<table border=\"1\" class=\"dataframe\">\n",
       "  <thead>\n",
       "    <tr style=\"text-align: right;\">\n",
       "      <th></th>\n",
       "      <th>label</th>\n",
       "      <th>pixel0</th>\n",
       "      <th>pixel1</th>\n",
       "      <th>pixel2</th>\n",
       "      <th>pixel3</th>\n",
       "      <th>pixel4</th>\n",
       "      <th>pixel5</th>\n",
       "      <th>pixel6</th>\n",
       "      <th>pixel7</th>\n",
       "      <th>pixel8</th>\n",
       "      <th>...</th>\n",
       "      <th>pixel774</th>\n",
       "      <th>pixel775</th>\n",
       "      <th>pixel776</th>\n",
       "      <th>pixel777</th>\n",
       "      <th>pixel778</th>\n",
       "      <th>pixel779</th>\n",
       "      <th>pixel780</th>\n",
       "      <th>pixel781</th>\n",
       "      <th>pixel782</th>\n",
       "      <th>pixel783</th>\n",
       "    </tr>\n",
       "  </thead>\n",
       "  <tbody>\n",
       "    <tr>\n",
       "      <th>0</th>\n",
       "      <td>1</td>\n",
       "      <td>0</td>\n",
       "      <td>0</td>\n",
       "      <td>0</td>\n",
       "      <td>0</td>\n",
       "      <td>0</td>\n",
       "      <td>0</td>\n",
       "      <td>0</td>\n",
       "      <td>0</td>\n",
       "      <td>0</td>\n",
       "      <td>...</td>\n",
       "      <td>0</td>\n",
       "      <td>0</td>\n",
       "      <td>0</td>\n",
       "      <td>0</td>\n",
       "      <td>0</td>\n",
       "      <td>0</td>\n",
       "      <td>0</td>\n",
       "      <td>0</td>\n",
       "      <td>0</td>\n",
       "      <td>0</td>\n",
       "    </tr>\n",
       "    <tr>\n",
       "      <th>1</th>\n",
       "      <td>0</td>\n",
       "      <td>0</td>\n",
       "      <td>0</td>\n",
       "      <td>0</td>\n",
       "      <td>0</td>\n",
       "      <td>0</td>\n",
       "      <td>0</td>\n",
       "      <td>0</td>\n",
       "      <td>0</td>\n",
       "      <td>0</td>\n",
       "      <td>...</td>\n",
       "      <td>0</td>\n",
       "      <td>0</td>\n",
       "      <td>0</td>\n",
       "      <td>0</td>\n",
       "      <td>0</td>\n",
       "      <td>0</td>\n",
       "      <td>0</td>\n",
       "      <td>0</td>\n",
       "      <td>0</td>\n",
       "      <td>0</td>\n",
       "    </tr>\n",
       "    <tr>\n",
       "      <th>2</th>\n",
       "      <td>1</td>\n",
       "      <td>0</td>\n",
       "      <td>0</td>\n",
       "      <td>0</td>\n",
       "      <td>0</td>\n",
       "      <td>0</td>\n",
       "      <td>0</td>\n",
       "      <td>0</td>\n",
       "      <td>0</td>\n",
       "      <td>0</td>\n",
       "      <td>...</td>\n",
       "      <td>0</td>\n",
       "      <td>0</td>\n",
       "      <td>0</td>\n",
       "      <td>0</td>\n",
       "      <td>0</td>\n",
       "      <td>0</td>\n",
       "      <td>0</td>\n",
       "      <td>0</td>\n",
       "      <td>0</td>\n",
       "      <td>0</td>\n",
       "    </tr>\n",
       "    <tr>\n",
       "      <th>3</th>\n",
       "      <td>4</td>\n",
       "      <td>0</td>\n",
       "      <td>0</td>\n",
       "      <td>0</td>\n",
       "      <td>0</td>\n",
       "      <td>0</td>\n",
       "      <td>0</td>\n",
       "      <td>0</td>\n",
       "      <td>0</td>\n",
       "      <td>0</td>\n",
       "      <td>...</td>\n",
       "      <td>0</td>\n",
       "      <td>0</td>\n",
       "      <td>0</td>\n",
       "      <td>0</td>\n",
       "      <td>0</td>\n",
       "      <td>0</td>\n",
       "      <td>0</td>\n",
       "      <td>0</td>\n",
       "      <td>0</td>\n",
       "      <td>0</td>\n",
       "    </tr>\n",
       "    <tr>\n",
       "      <th>4</th>\n",
       "      <td>0</td>\n",
       "      <td>0</td>\n",
       "      <td>0</td>\n",
       "      <td>0</td>\n",
       "      <td>0</td>\n",
       "      <td>0</td>\n",
       "      <td>0</td>\n",
       "      <td>0</td>\n",
       "      <td>0</td>\n",
       "      <td>0</td>\n",
       "      <td>...</td>\n",
       "      <td>0</td>\n",
       "      <td>0</td>\n",
       "      <td>0</td>\n",
       "      <td>0</td>\n",
       "      <td>0</td>\n",
       "      <td>0</td>\n",
       "      <td>0</td>\n",
       "      <td>0</td>\n",
       "      <td>0</td>\n",
       "      <td>0</td>\n",
       "    </tr>\n",
       "  </tbody>\n",
       "</table>\n",
       "<p>5 rows × 785 columns</p>\n",
       "</div>"
      ],
      "text/plain": [
       "   label  pixel0  pixel1  pixel2  pixel3  pixel4  pixel5  pixel6  pixel7  \\\n",
       "0      1       0       0       0       0       0       0       0       0   \n",
       "1      0       0       0       0       0       0       0       0       0   \n",
       "2      1       0       0       0       0       0       0       0       0   \n",
       "3      4       0       0       0       0       0       0       0       0   \n",
       "4      0       0       0       0       0       0       0       0       0   \n",
       "\n",
       "   pixel8  ...  pixel774  pixel775  pixel776  pixel777  pixel778  pixel779  \\\n",
       "0       0  ...         0         0         0         0         0         0   \n",
       "1       0  ...         0         0         0         0         0         0   \n",
       "2       0  ...         0         0         0         0         0         0   \n",
       "3       0  ...         0         0         0         0         0         0   \n",
       "4       0  ...         0         0         0         0         0         0   \n",
       "\n",
       "   pixel780  pixel781  pixel782  pixel783  \n",
       "0         0         0         0         0  \n",
       "1         0         0         0         0  \n",
       "2         0         0         0         0  \n",
       "3         0         0         0         0  \n",
       "4         0         0         0         0  \n",
       "\n",
       "[5 rows x 785 columns]"
      ]
     },
     "execution_count": 3,
     "metadata": {},
     "output_type": "execute_result"
    }
   ],
   "source": [
    "train_data.head()"
   ]
  },
  {
   "cell_type": "code",
   "execution_count": 4,
   "metadata": {},
   "outputs": [],
   "source": [
    "from sklearn.model_selection import train_test_split"
   ]
  },
  {
   "cell_type": "code",
   "execution_count": 17,
   "metadata": {},
   "outputs": [],
   "source": [
    "# split data into data and labels\n",
    "train_label = train_data['label'].values.ravel()\n",
    "train = train_data.loc[:, train_data.columns != 'label']"
   ]
  },
  {
   "cell_type": "code",
   "execution_count": 18,
   "metadata": {},
   "outputs": [],
   "source": [
    "X_train, X_valid, y_train, y_valid = train_test_split(train, train_label, test_size=0.2)"
   ]
  },
  {
   "cell_type": "code",
   "execution_count": 23,
   "metadata": {},
   "outputs": [
    {
     "name": "stdout",
     "output_type": "stream",
     "text": [
      "(33600, 784)\n",
      "(33600,)\n",
      "(8400, 784)\n",
      "(8400,)\n"
     ]
    }
   ],
   "source": [
    "print(X_train.shape)\n",
    "print(y_train.shape)\n",
    "print(X_valid.shape)\n",
    "print(y_valid.shape)"
   ]
  },
  {
   "cell_type": "markdown",
   "metadata": {},
   "source": [
    "Import machine learning algorithm to use for classification"
   ]
  },
  {
   "cell_type": "code",
   "execution_count": 24,
   "metadata": {},
   "outputs": [],
   "source": [
    "from sklearn.neighbors import KNeighborsClassifier\n",
    "from sklearn.ensemble import RandomForestClassifier, AdaBoostClassifier\n",
    "from sklearn.svm import SVC\n",
    "from sklearn.tree import DecisionTreeClassifier\n",
    "from sklearn.cluster import KMeans\n",
    "from sklearn.mixture import GaussianMixture\n",
    "from sklearn.linear_model import SGDClassifier\n",
    "\n",
    "from sklearn.metrics import accuracy_score"
   ]
  },
  {
   "cell_type": "code",
   "execution_count": 26,
   "metadata": {},
   "outputs": [],
   "source": [
    "def train_valid_accuracy(algo, X_train = X_train, y_train = y_train, \n",
    "                         X_valid = X_valid, y_valid = y_valid):\n",
    "    \"\"\"\n",
    "    Fit algorithm with training data and return accuracy score with validation data\n",
    "    \"\"\"\n",
    "    train_algo = algo\n",
    "    model = train_algo.fit(X_train, y_train)\n",
    "    predict = model.predict(X_valid)\n",
    "    return accuracy_score(y_valid, predict)"
   ]
  },
  {
   "cell_type": "markdown",
   "metadata": {},
   "source": [
    "Use `train_valid_accuracy` to get accuracy score for each training algorithm."
   ]
  },
  {
   "cell_type": "code",
   "execution_count": 33,
   "metadata": {},
   "outputs": [
    {
     "name": "stdout",
     "output_type": "stream",
     "text": [
      "KNeighborsClassifier: 0.9669047619047619\n",
      "RandomForestClassifier: 0.9660714285714286\n",
      "AdaBoostClassifier: 0.7204761904761905\n",
      "SVC: 0.9764285714285714\n",
      "DecisionTreeClassifier: 0.8509523809523809\n",
      "KMeans: 0.24011904761904762\n",
      "GaussianMixture: 0.09869047619047619\n",
      "SGDClassifier: 0.8604761904761905\n"
     ]
    }
   ],
   "source": [
    "print(\"KNeighborsClassifier:\", train_valid_accuracy(KNeighborsClassifier()))\n",
    "print(\"RandomForestClassifier:\", train_valid_accuracy(RandomForestClassifier()))\n",
    "print(\"AdaBoostClassifier:\", train_valid_accuracy(AdaBoostClassifier()))\n",
    "print(\"SVC:\", train_valid_accuracy(SVC()))\n",
    "print(\"DecisionTreeClassifier:\", train_valid_accuracy(DecisionTreeClassifier()))\n",
    "print(\"KMeans:\", train_valid_accuracy(KMeans()))\n",
    "print(\"GaussianMixture:\", train_valid_accuracy(GaussianMixture()))\n",
    "print(\"SGDClassifier:\", train_valid_accuracy(SGDClassifier()))"
   ]
  },
  {
   "cell_type": "markdown",
   "metadata": {},
   "source": [
    "From the above scores, we see that `KNeightborsClassifier`, `RandomForestClassifier`, and `SVC` has the highest accuracy score. We use `RandomSearchCV` and `GridSearchCV` to find the best parameters for each classification algorithm and get the accuracy score."
   ]
  },
  {
   "cell_type": "code",
   "execution_count": 35,
   "metadata": {},
   "outputs": [],
   "source": [
    "from sklearn.model_selection import RandomizedSearchCV, GridSearchCV"
   ]
  },
  {
   "cell_type": "markdown",
   "metadata": {},
   "source": [
    "### KNeighborsClassifier()"
   ]
  },
  {
   "cell_type": "code",
   "execution_count": 37,
   "metadata": {},
   "outputs": [
    {
     "data": {
      "text/plain": [
       "GridSearchCV(cv=3, error_score=nan,\n",
       "             estimator=KNeighborsClassifier(algorithm='auto', leaf_size=30,\n",
       "                                            metric='minkowski',\n",
       "                                            metric_params=None, n_jobs=None,\n",
       "                                            n_neighbors=5, p=2,\n",
       "                                            weights='uniform'),\n",
       "             iid='deprecated', n_jobs=None,\n",
       "             param_grid=[{'n_neighbors': [3, 4, 5],\n",
       "                          'weights': ['uniform', 'distance']}],\n",
       "             pre_dispatch='2*n_jobs', refit=True, return_train_score=False,\n",
       "             scoring=None, verbose=0)"
      ]
     },
     "execution_count": 37,
     "metadata": {},
     "output_type": "execute_result"
    }
   ],
   "source": [
    "param_grid = [{\n",
    "    'weights': ['uniform', 'distance'], 'n_neighbors': [3, 4, 5]\n",
    "}]\n",
    "\n",
    "grid_search = GridSearchCV(KNeighborsClassifier(), param_grid, cv=3)\n",
    "grid_search.fit(X_train[:5000], y_train[:5000])"
   ]
  },
  {
   "cell_type": "code",
   "execution_count": 38,
   "metadata": {},
   "outputs": [
    {
     "data": {
      "text/plain": [
       "{'n_neighbors': 4, 'weights': 'distance'}"
      ]
     },
     "execution_count": 38,
     "metadata": {},
     "output_type": "execute_result"
    }
   ],
   "source": [
    "grid_search.best_params_"
   ]
  },
  {
   "cell_type": "code",
   "execution_count": 39,
   "metadata": {},
   "outputs": [
    {
     "name": "stdout",
     "output_type": "stream",
     "text": [
      "0.940595238095238\n"
     ]
    }
   ],
   "source": [
    "y_pred = grid_search.best_estimator_.predict(X_valid)\n",
    "print(accuracy_score(y_valid, y_pred))"
   ]
  },
  {
   "cell_type": "markdown",
   "metadata": {},
   "source": [
    "### RandomForestClassifier()"
   ]
  },
  {
   "cell_type": "code",
   "execution_count": 41,
   "metadata": {},
   "outputs": [
    {
     "data": {
      "text/plain": [
       "GridSearchCV(cv=3, error_score=nan,\n",
       "             estimator=RandomForestClassifier(bootstrap=True, ccp_alpha=0.0,\n",
       "                                              class_weight=None,\n",
       "                                              criterion='gini', max_depth=None,\n",
       "                                              max_features='auto',\n",
       "                                              max_leaf_nodes=None,\n",
       "                                              max_samples=None,\n",
       "                                              min_impurity_decrease=0.0,\n",
       "                                              min_impurity_split=None,\n",
       "                                              min_samples_leaf=1,\n",
       "                                              min_samples_split=2,\n",
       "                                              min_weight_fraction_leaf=0.0,\n",
       "                                              n_estimators=100, n_jobs=None,\n",
       "                                              oob_score=False,\n",
       "                                              random_state=None, verbose=0,\n",
       "                                              warm_start=False),\n",
       "             iid='deprecated', n_jobs=None,\n",
       "             param_grid=[{'n_estimators': [100, 150, 200]}],\n",
       "             pre_dispatch='2*n_jobs', refit=True, return_train_score=False,\n",
       "             scoring=None, verbose=0)"
      ]
     },
     "execution_count": 41,
     "metadata": {},
     "output_type": "execute_result"
    }
   ],
   "source": [
    "param_grid = [{\n",
    "    'n_estimators': [100, 150, 200]\n",
    "}]\n",
    "\n",
    "grid_search = GridSearchCV(RandomForestClassifier(), param_grid, cv=3)\n",
    "grid_search.fit(X_train[:5000], y_train[:5000])"
   ]
  },
  {
   "cell_type": "code",
   "execution_count": 42,
   "metadata": {},
   "outputs": [
    {
     "data": {
      "text/plain": [
       "{'n_estimators': 150}"
      ]
     },
     "execution_count": 42,
     "metadata": {},
     "output_type": "execute_result"
    }
   ],
   "source": [
    "grid_search.best_params_"
   ]
  },
  {
   "cell_type": "code",
   "execution_count": 43,
   "metadata": {},
   "outputs": [
    {
     "name": "stdout",
     "output_type": "stream",
     "text": [
      "0.9366666666666666\n"
     ]
    }
   ],
   "source": [
    "y_pred = grid_search.best_estimator_.predict(X_valid)\n",
    "print(accuracy_score(y_valid, y_pred))"
   ]
  },
  {
   "cell_type": "markdown",
   "metadata": {},
   "source": [
    "### SVC()"
   ]
  },
  {
   "cell_type": "code",
   "execution_count": 46,
   "metadata": {},
   "outputs": [
    {
     "data": {
      "text/plain": [
       "RandomizedSearchCV(cv=3, error_score=nan,\n",
       "                   estimator=SVC(C=1.0, break_ties=False, cache_size=200,\n",
       "                                 class_weight=None, coef0=0.0,\n",
       "                                 decision_function_shape='ovr', degree=3,\n",
       "                                 gamma='scale', kernel='rbf', max_iter=-1,\n",
       "                                 probability=False, random_state=None,\n",
       "                                 shrinking=True, tol=0.001, verbose=False),\n",
       "                   iid='deprecated', n_iter=10, n_jobs=3,\n",
       "                   param_distributions=[{'C': [1, 5, 10],\n",
       "                                         'gamma': ['scale', 'auto'],\n",
       "                                         'tol': [0.01, 0.001, 0.0001]}],\n",
       "                   pre_dispatch='2*n_jobs', random_state=None, refit=True,\n",
       "                   return_train_score=False, scoring=None, verbose=0)"
      ]
     },
     "execution_count": 46,
     "metadata": {},
     "output_type": "execute_result"
    }
   ],
   "source": [
    "param_grid = [{\n",
    "    'C': [1, 5, 10], 'gamma': ['scale', 'auto'], 'tol': [1e-2, 1e-3, 1e-4]\n",
    "}]\n",
    "\n",
    "random_search = RandomizedSearchCV(SVC(), param_grid, cv=3, n_jobs=3)\n",
    "random_search.fit(X_train[:5000], y_train[:5000])"
   ]
  },
  {
   "cell_type": "code",
   "execution_count": 47,
   "metadata": {},
   "outputs": [
    {
     "data": {
      "text/plain": [
       "{'tol': 0.001, 'gamma': 'scale', 'C': 5}"
      ]
     },
     "execution_count": 47,
     "metadata": {},
     "output_type": "execute_result"
    }
   ],
   "source": [
    "random_search.best_params_"
   ]
  },
  {
   "cell_type": "code",
   "execution_count": 48,
   "metadata": {},
   "outputs": [
    {
     "name": "stdout",
     "output_type": "stream",
     "text": [
      "0.9607142857142857\n"
     ]
    }
   ],
   "source": [
    "y_pred = random_search.best_estimator_.predict(X_valid)\n",
    "print(accuracy_score(y_valid, y_pred))"
   ]
  },
  {
   "cell_type": "markdown",
   "metadata": {},
   "source": [
    "### Neural Network"
   ]
  },
  {
   "cell_type": "markdown",
   "metadata": {},
   "source": [
    "We create a neural network model to see if we can get a better accuracy score than the `SVC model`."
   ]
  },
  {
   "cell_type": "code",
   "execution_count": 50,
   "metadata": {},
   "outputs": [],
   "source": [
    "import os"
   ]
  },
  {
   "cell_type": "code",
   "execution_count": 53,
   "metadata": {
    "collapsed": true,
    "jupyter": {
     "outputs_hidden": true
    }
   },
   "outputs": [
    {
     "name": "stdout",
     "output_type": "stream",
     "text": [
      "Epoch 1/100\n",
      "1050/1050 [==============================] - 1s 1ms/step - loss: 1.2596 - accuracy: 0.6146 - val_loss: 0.8275 - val_accuracy: 0.7367\n",
      "Epoch 2/100\n",
      "1050/1050 [==============================] - 1s 1ms/step - loss: 0.8122 - accuracy: 0.7507 - val_loss: 0.7264 - val_accuracy: 0.7926\n",
      "Epoch 3/100\n",
      "1050/1050 [==============================] - 1s 1ms/step - loss: 0.6765 - accuracy: 0.8048 - val_loss: 0.7569 - val_accuracy: 0.7444\n",
      "Epoch 4/100\n",
      "1050/1050 [==============================] - 1s 1ms/step - loss: 0.5778 - accuracy: 0.8341 - val_loss: 0.5758 - val_accuracy: 0.8410\n",
      "Epoch 5/100\n",
      "1050/1050 [==============================] - 1s 1ms/step - loss: 0.5265 - accuracy: 0.8485 - val_loss: 0.4931 - val_accuracy: 0.8575\n",
      "Epoch 6/100\n",
      "1050/1050 [==============================] - 1s 1ms/step - loss: 0.4810 - accuracy: 0.8596 - val_loss: 0.4906 - val_accuracy: 0.8600\n",
      "Epoch 7/100\n",
      "1050/1050 [==============================] - 1s 1ms/step - loss: 0.4536 - accuracy: 0.8691 - val_loss: 0.4972 - val_accuracy: 0.8564\n",
      "Epoch 8/100\n",
      "1050/1050 [==============================] - 1s 1ms/step - loss: 0.4253 - accuracy: 0.8763 - val_loss: 0.4618 - val_accuracy: 0.8710\n",
      "Epoch 9/100\n",
      "1050/1050 [==============================] - 1s 1ms/step - loss: 0.4013 - accuracy: 0.8813 - val_loss: 0.4249 - val_accuracy: 0.8774\n",
      "Epoch 10/100\n",
      "1050/1050 [==============================] - 1s 1ms/step - loss: 0.3821 - accuracy: 0.8851 - val_loss: 0.4171 - val_accuracy: 0.8802\n",
      "Epoch 11/100\n",
      "1050/1050 [==============================] - 1s 1ms/step - loss: 0.3612 - accuracy: 0.8921 - val_loss: 0.4100 - val_accuracy: 0.8786\n",
      "Epoch 12/100\n",
      "1050/1050 [==============================] - 1s 1ms/step - loss: 0.3455 - accuracy: 0.8968 - val_loss: 0.4011 - val_accuracy: 0.8894\n",
      "Epoch 13/100\n",
      "1050/1050 [==============================] - 1s 1ms/step - loss: 0.3297 - accuracy: 0.8993 - val_loss: 0.3577 - val_accuracy: 0.8927\n",
      "Epoch 14/100\n",
      "1050/1050 [==============================] - 1s 1ms/step - loss: 0.3180 - accuracy: 0.9035 - val_loss: 0.3850 - val_accuracy: 0.8885\n",
      "Epoch 15/100\n",
      "1050/1050 [==============================] - 1s 1ms/step - loss: 0.3060 - accuracy: 0.9070 - val_loss: 0.3698 - val_accuracy: 0.8946\n",
      "Epoch 16/100\n",
      "1050/1050 [==============================] - 1s 1ms/step - loss: 0.2954 - accuracy: 0.9092 - val_loss: 0.3513 - val_accuracy: 0.9000\n",
      "Epoch 17/100\n",
      "1050/1050 [==============================] - 1s 1ms/step - loss: 0.2893 - accuracy: 0.9117 - val_loss: 0.3310 - val_accuracy: 0.9011\n",
      "Epoch 18/100\n",
      "1050/1050 [==============================] - 1s 1ms/step - loss: 0.2799 - accuracy: 0.9123 - val_loss: 0.3223 - val_accuracy: 0.9046\n",
      "Epoch 19/100\n",
      "1050/1050 [==============================] - 1s 1ms/step - loss: 0.2688 - accuracy: 0.9178 - val_loss: 0.3997 - val_accuracy: 0.8844\n",
      "Epoch 20/100\n",
      "1050/1050 [==============================] - 1s 1ms/step - loss: 0.2629 - accuracy: 0.9187 - val_loss: 0.3287 - val_accuracy: 0.9030\n",
      "Epoch 21/100\n",
      "1050/1050 [==============================] - 1s 1ms/step - loss: 0.2590 - accuracy: 0.9198 - val_loss: 0.3423 - val_accuracy: 0.9025\n",
      "Epoch 22/100\n",
      "1050/1050 [==============================] - 1s 1ms/step - loss: 0.2493 - accuracy: 0.9241 - val_loss: 0.3153 - val_accuracy: 0.9068\n",
      "Epoch 23/100\n",
      "1050/1050 [==============================] - 1s 1ms/step - loss: 0.2430 - accuracy: 0.9251 - val_loss: 0.3022 - val_accuracy: 0.9126\n",
      "Epoch 24/100\n",
      "1050/1050 [==============================] - 1s 1ms/step - loss: 0.2366 - accuracy: 0.9268 - val_loss: 0.3220 - val_accuracy: 0.9056\n",
      "Epoch 25/100\n",
      "1050/1050 [==============================] - 1s 1ms/step - loss: 0.2314 - accuracy: 0.9273 - val_loss: 0.3040 - val_accuracy: 0.9113\n",
      "Epoch 26/100\n",
      "1050/1050 [==============================] - 1s 1ms/step - loss: 0.2230 - accuracy: 0.9292 - val_loss: 0.2942 - val_accuracy: 0.9149\n",
      "Epoch 27/100\n",
      "1050/1050 [==============================] - 1s 1ms/step - loss: 0.2205 - accuracy: 0.9310 - val_loss: 0.2799 - val_accuracy: 0.9221\n",
      "Epoch 28/100\n",
      "1050/1050 [==============================] - 1s 1ms/step - loss: 0.2161 - accuracy: 0.9326 - val_loss: 0.2913 - val_accuracy: 0.9179\n",
      "Epoch 29/100\n",
      "1050/1050 [==============================] - 1s 1ms/step - loss: 0.2118 - accuracy: 0.9342 - val_loss: 0.3053 - val_accuracy: 0.9127\n",
      "Epoch 30/100\n",
      "1050/1050 [==============================] - 1s 1ms/step - loss: 0.2060 - accuracy: 0.9346 - val_loss: 0.2908 - val_accuracy: 0.9181\n",
      "Epoch 31/100\n",
      "1050/1050 [==============================] - 1s 1ms/step - loss: 0.1997 - accuracy: 0.9362 - val_loss: 0.2967 - val_accuracy: 0.9160\n",
      "Epoch 32/100\n",
      "1050/1050 [==============================] - 1s 1ms/step - loss: 0.1984 - accuracy: 0.9385 - val_loss: 0.2955 - val_accuracy: 0.9169\n",
      "Epoch 33/100\n",
      "1050/1050 [==============================] - 1s 1ms/step - loss: 0.1918 - accuracy: 0.9394 - val_loss: 0.2695 - val_accuracy: 0.9214\n",
      "Epoch 34/100\n",
      "1050/1050 [==============================] - 1s 1ms/step - loss: 0.1902 - accuracy: 0.9396 - val_loss: 0.3100 - val_accuracy: 0.9131\n",
      "Epoch 35/100\n",
      "1050/1050 [==============================] - 1s 1ms/step - loss: 0.1877 - accuracy: 0.9411 - val_loss: 0.2813 - val_accuracy: 0.9190\n",
      "Epoch 36/100\n",
      "1050/1050 [==============================] - 1s 1ms/step - loss: 0.1842 - accuracy: 0.9404 - val_loss: 0.2959 - val_accuracy: 0.9190\n",
      "Epoch 37/100\n",
      "1050/1050 [==============================] - 1s 1ms/step - loss: 0.1809 - accuracy: 0.9421 - val_loss: 0.2997 - val_accuracy: 0.9163\n",
      "Epoch 38/100\n",
      "1050/1050 [==============================] - 1s 1ms/step - loss: 0.1771 - accuracy: 0.9446 - val_loss: 0.2693 - val_accuracy: 0.9256\n",
      "Epoch 39/100\n",
      "1050/1050 [==============================] - 1s 1ms/step - loss: 0.1735 - accuracy: 0.9451 - val_loss: 0.2688 - val_accuracy: 0.9246\n",
      "Epoch 40/100\n",
      "1050/1050 [==============================] - 1s 1ms/step - loss: 0.1718 - accuracy: 0.9455 - val_loss: 0.2615 - val_accuracy: 0.9304\n",
      "Epoch 41/100\n",
      "1050/1050 [==============================] - 1s 1ms/step - loss: 0.1678 - accuracy: 0.9456 - val_loss: 0.2934 - val_accuracy: 0.9229\n",
      "Epoch 42/100\n",
      "1050/1050 [==============================] - 1s 1ms/step - loss: 0.1650 - accuracy: 0.9469 - val_loss: 0.2847 - val_accuracy: 0.9200\n",
      "Epoch 43/100\n",
      "1050/1050 [==============================] - 1s 1ms/step - loss: 0.1620 - accuracy: 0.9477 - val_loss: 0.2751 - val_accuracy: 0.9250\n",
      "Epoch 44/100\n",
      "1050/1050 [==============================] - 1s 1ms/step - loss: 0.1595 - accuracy: 0.9479 - val_loss: 0.2833 - val_accuracy: 0.9246\n",
      "Epoch 45/100\n",
      "1050/1050 [==============================] - 1s 1ms/step - loss: 0.1567 - accuracy: 0.9499 - val_loss: 0.3010 - val_accuracy: 0.9213\n",
      "Epoch 46/100\n",
      "1050/1050 [==============================] - 1s 1ms/step - loss: 0.1568 - accuracy: 0.9501 - val_loss: 0.2770 - val_accuracy: 0.9265\n",
      "Epoch 47/100\n",
      "1050/1050 [==============================] - 1s 1ms/step - loss: 0.1534 - accuracy: 0.9518 - val_loss: 0.2634 - val_accuracy: 0.9271\n",
      "Epoch 48/100\n",
      "1050/1050 [==============================] - 1s 1ms/step - loss: 0.1514 - accuracy: 0.9515 - val_loss: 0.2757 - val_accuracy: 0.9262\n",
      "Epoch 49/100\n",
      "1050/1050 [==============================] - 1s 1ms/step - loss: 0.1486 - accuracy: 0.9509 - val_loss: 0.2690 - val_accuracy: 0.9262\n",
      "Epoch 50/100\n",
      "1050/1050 [==============================] - 1s 1ms/step - loss: 0.1486 - accuracy: 0.9522 - val_loss: 0.2795 - val_accuracy: 0.9243\n",
      "Epoch 51/100\n",
      "1050/1050 [==============================] - 1s 1ms/step - loss: 0.1459 - accuracy: 0.9522 - val_loss: 0.2670 - val_accuracy: 0.9280\n",
      "Epoch 52/100\n",
      "1050/1050 [==============================] - 1s 1ms/step - loss: 0.1426 - accuracy: 0.9543 - val_loss: 0.2775 - val_accuracy: 0.9298\n",
      "Epoch 53/100\n",
      "1050/1050 [==============================] - 1s 1ms/step - loss: 0.1415 - accuracy: 0.9542 - val_loss: 0.2648 - val_accuracy: 0.9304\n",
      "Epoch 54/100\n",
      "1050/1050 [==============================] - 1s 1ms/step - loss: 0.1395 - accuracy: 0.9551 - val_loss: 0.2853 - val_accuracy: 0.9269\n",
      "Epoch 55/100\n",
      "1050/1050 [==============================] - 1s 1ms/step - loss: 0.1366 - accuracy: 0.9550 - val_loss: 0.2751 - val_accuracy: 0.9293\n",
      "Epoch 56/100\n",
      "1050/1050 [==============================] - 1s 1ms/step - loss: 0.1365 - accuracy: 0.9551 - val_loss: 0.2783 - val_accuracy: 0.9275\n",
      "Epoch 57/100\n",
      "1050/1050 [==============================] - 1s 1ms/step - loss: 0.1343 - accuracy: 0.9561 - val_loss: 0.2615 - val_accuracy: 0.9311\n",
      "Epoch 58/100\n",
      "1050/1050 [==============================] - 1s 1ms/step - loss: 0.1318 - accuracy: 0.9558 - val_loss: 0.2714 - val_accuracy: 0.9312\n",
      "Epoch 59/100\n",
      "1050/1050 [==============================] - 1s 1ms/step - loss: 0.1306 - accuracy: 0.9566 - val_loss: 0.2719 - val_accuracy: 0.9276\n",
      "Epoch 60/100\n",
      "1050/1050 [==============================] - 1s 1ms/step - loss: 0.1295 - accuracy: 0.9572 - val_loss: 0.2817 - val_accuracy: 0.9292\n",
      "Epoch 61/100\n",
      "1050/1050 [==============================] - 1s 1ms/step - loss: 0.1268 - accuracy: 0.9583 - val_loss: 0.2739 - val_accuracy: 0.9282\n",
      "Epoch 62/100\n",
      "1050/1050 [==============================] - 1s 1ms/step - loss: 0.1275 - accuracy: 0.9576 - val_loss: 0.2722 - val_accuracy: 0.9314\n",
      "Epoch 63/100\n",
      "1050/1050 [==============================] - 1s 1ms/step - loss: 0.1244 - accuracy: 0.9596 - val_loss: 0.2729 - val_accuracy: 0.9295\n",
      "Epoch 64/100\n",
      "1050/1050 [==============================] - 1s 1ms/step - loss: 0.1223 - accuracy: 0.9597 - val_loss: 0.3071 - val_accuracy: 0.9220\n",
      "Epoch 65/100\n",
      "1050/1050 [==============================] - 1s 1ms/step - loss: 0.1217 - accuracy: 0.9601 - val_loss: 0.2838 - val_accuracy: 0.9279\n",
      "Epoch 66/100\n",
      "1050/1050 [==============================] - 1s 1ms/step - loss: 0.1205 - accuracy: 0.9605 - val_loss: 0.2765 - val_accuracy: 0.9305\n",
      "Epoch 67/100\n",
      "1050/1050 [==============================] - 1s 1ms/step - loss: 0.1184 - accuracy: 0.9613 - val_loss: 0.2769 - val_accuracy: 0.9299\n",
      "Epoch 68/100\n",
      "1050/1050 [==============================] - 1s 1ms/step - loss: 0.1157 - accuracy: 0.9615 - val_loss: 0.2920 - val_accuracy: 0.9252\n",
      "Epoch 69/100\n",
      "1050/1050 [==============================] - 1s 1ms/step - loss: 0.1149 - accuracy: 0.9616 - val_loss: 0.3057 - val_accuracy: 0.9254\n",
      "Epoch 70/100\n",
      "1050/1050 [==============================] - 1s 1ms/step - loss: 0.1149 - accuracy: 0.9620 - val_loss: 0.2891 - val_accuracy: 0.9298\n",
      "Epoch 71/100\n",
      "1050/1050 [==============================] - 1s 1ms/step - loss: 0.1153 - accuracy: 0.9622 - val_loss: 0.2856 - val_accuracy: 0.9295\n",
      "Epoch 72/100\n",
      "1050/1050 [==============================] - 1s 1ms/step - loss: 0.1116 - accuracy: 0.9635 - val_loss: 0.2976 - val_accuracy: 0.9294\n",
      "Epoch 73/100\n",
      "1050/1050 [==============================] - 1s 1ms/step - loss: 0.1117 - accuracy: 0.9627 - val_loss: 0.2841 - val_accuracy: 0.9280\n",
      "Epoch 74/100\n",
      "1050/1050 [==============================] - 1s 1ms/step - loss: 0.1094 - accuracy: 0.9628 - val_loss: 0.3000 - val_accuracy: 0.9252\n",
      "Epoch 75/100\n",
      "1050/1050 [==============================] - 1s 1ms/step - loss: 0.1090 - accuracy: 0.9637 - val_loss: 0.2915 - val_accuracy: 0.9298\n",
      "Epoch 76/100\n",
      "1050/1050 [==============================] - 1s 1ms/step - loss: 0.1088 - accuracy: 0.9643 - val_loss: 0.2810 - val_accuracy: 0.9345\n",
      "Epoch 77/100\n",
      "1050/1050 [==============================] - 1s 1ms/step - loss: 0.1053 - accuracy: 0.9648 - val_loss: 0.2966 - val_accuracy: 0.9264\n"
     ]
    }
   ],
   "source": [
    "model = keras.models.Sequential([\n",
    "    keras.layers.Dense(10, activation=\"relu\"),\n",
    "    keras.layers.Dense(784, activation=\"relu\"),\n",
    "    keras.layers.Dense(10, activation=\"softmax\")\n",
    "])\n",
    "\n",
    "model.compile(loss=\"sparse_categorical_crossentropy\", optimizer=keras.optimizers.SGD(1e-3),\n",
    "             metrics=[\"accuracy\"])\n",
    "\n",
    "run_index = 1 \n",
    "run_logdir = os.path.join(os.curdir, \"mnist_logs\", \"run_{:03d}\".format(run_index))\n",
    "\n",
    "early_stopping_cb = keras.callbacks.EarlyStopping(patience=20)\n",
    "checkpoint_cb = keras.callbacks.ModelCheckpoint(\"mnist_ann_model_1.h5\", save_best_only=True)\n",
    "tensorboard_cb = keras.callbacks.TensorBoard(run_logdir)\n",
    "\n",
    "history = model.fit(X_train, y_train, epochs=100, validation_data = (X_valid, y_valid),\n",
    "                   callbacks=[early_stopping_cb, checkpoint_cb, tensorboard_cb])"
   ]
  },
  {
   "cell_type": "code",
   "execution_count": 54,
   "metadata": {},
   "outputs": [
    {
     "name": "stdout",
     "output_type": "stream",
     "text": [
      "263/263 [==============================] - 0s 656us/step - loss: 0.2615 - accuracy: 0.9311\n"
     ]
    },
    {
     "data": {
      "text/plain": [
       "[0.2614995241165161, 0.931071400642395]"
      ]
     },
     "execution_count": 54,
     "metadata": {},
     "output_type": "execute_result"
    }
   ],
   "source": [
    "model = keras.models.load_model(\"mnist_ann_model_1.h5\")\n",
    "model.evaluate(X_valid, y_valid)"
   ]
  },
  {
   "cell_type": "code",
   "execution_count": 56,
   "metadata": {
    "collapsed": true,
    "jupyter": {
     "outputs_hidden": true
    }
   },
   "outputs": [
    {
     "name": "stdout",
     "output_type": "stream",
     "text": [
      "Epoch 1/100\n",
      "1050/1050 [==============================] - 1s 1ms/step - loss: 1.9583 - accuracy: 0.6291 - val_loss: 0.8581 - val_accuracy: 0.7237\n",
      "Epoch 2/100\n",
      "1050/1050 [==============================] - 1s 1ms/step - loss: 0.6929 - accuracy: 0.8067 - val_loss: 0.6048 - val_accuracy: 0.8402\n",
      "Epoch 3/100\n",
      "1050/1050 [==============================] - 1s 1ms/step - loss: 0.5022 - accuracy: 0.8676 - val_loss: 0.4944 - val_accuracy: 0.8702\n",
      "Epoch 4/100\n",
      "1050/1050 [==============================] - 1s 1ms/step - loss: 0.4095 - accuracy: 0.8894 - val_loss: 0.4563 - val_accuracy: 0.8880\n",
      "Epoch 5/100\n",
      "1050/1050 [==============================] - 1s 1ms/step - loss: 0.3484 - accuracy: 0.9032 - val_loss: 0.4101 - val_accuracy: 0.8943\n",
      "Epoch 6/100\n",
      "1050/1050 [==============================] - 1s 1ms/step - loss: 0.3067 - accuracy: 0.9154 - val_loss: 0.3925 - val_accuracy: 0.8938\n",
      "Epoch 7/100\n",
      "1050/1050 [==============================] - 1s 1ms/step - loss: 0.2784 - accuracy: 0.9206 - val_loss: 0.3488 - val_accuracy: 0.9051\n",
      "Epoch 8/100\n",
      "1050/1050 [==============================] - 1s 1ms/step - loss: 0.2494 - accuracy: 0.9277 - val_loss: 0.3424 - val_accuracy: 0.9070\n",
      "Epoch 9/100\n",
      "1050/1050 [==============================] - 1s 1ms/step - loss: 0.2302 - accuracy: 0.9326 - val_loss: 0.3330 - val_accuracy: 0.9118\n",
      "Epoch 10/100\n",
      "1050/1050 [==============================] - 1s 1ms/step - loss: 0.2100 - accuracy: 0.9390 - val_loss: 0.3004 - val_accuracy: 0.9186\n",
      "Epoch 11/100\n",
      "1050/1050 [==============================] - 1s 1ms/step - loss: 0.1964 - accuracy: 0.9410 - val_loss: 0.3047 - val_accuracy: 0.9218\n",
      "Epoch 12/100\n",
      "1050/1050 [==============================] - 1s 1ms/step - loss: 0.1842 - accuracy: 0.9450 - val_loss: 0.2902 - val_accuracy: 0.9271\n",
      "Epoch 13/100\n",
      "1050/1050 [==============================] - 1s 1ms/step - loss: 0.1738 - accuracy: 0.9486 - val_loss: 0.2868 - val_accuracy: 0.9224\n",
      "Epoch 14/100\n",
      "1050/1050 [==============================] - 1s 1ms/step - loss: 0.1642 - accuracy: 0.9501 - val_loss: 0.2868 - val_accuracy: 0.9261\n",
      "Epoch 15/100\n",
      "1050/1050 [==============================] - 1s 1ms/step - loss: 0.1551 - accuracy: 0.9533 - val_loss: 0.2823 - val_accuracy: 0.9306\n",
      "Epoch 16/100\n",
      "1050/1050 [==============================] - 1s 1ms/step - loss: 0.1474 - accuracy: 0.9555 - val_loss: 0.2772 - val_accuracy: 0.9329\n",
      "Epoch 17/100\n",
      "1050/1050 [==============================] - 1s 1ms/step - loss: 0.1406 - accuracy: 0.9573 - val_loss: 0.2833 - val_accuracy: 0.9317\n",
      "Epoch 18/100\n",
      "1050/1050 [==============================] - 1s 1ms/step - loss: 0.1349 - accuracy: 0.9586 - val_loss: 0.2711 - val_accuracy: 0.9314\n",
      "Epoch 19/100\n",
      "1050/1050 [==============================] - 1s 1ms/step - loss: 0.1275 - accuracy: 0.9604 - val_loss: 0.2654 - val_accuracy: 0.9376\n",
      "Epoch 20/100\n",
      "1050/1050 [==============================] - 1s 1ms/step - loss: 0.1240 - accuracy: 0.9620 - val_loss: 0.2673 - val_accuracy: 0.9336\n",
      "Epoch 21/100\n",
      "1050/1050 [==============================] - 1s 1ms/step - loss: 0.1177 - accuracy: 0.9640 - val_loss: 0.2637 - val_accuracy: 0.9358\n",
      "Epoch 22/100\n",
      "1050/1050 [==============================] - 1s 1ms/step - loss: 0.1132 - accuracy: 0.9651 - val_loss: 0.2594 - val_accuracy: 0.9369\n",
      "Epoch 23/100\n",
      "1050/1050 [==============================] - 1s 1ms/step - loss: 0.1084 - accuracy: 0.9664 - val_loss: 0.2638 - val_accuracy: 0.9383\n",
      "Epoch 24/100\n",
      "1050/1050 [==============================] - 1s 1ms/step - loss: 0.1041 - accuracy: 0.9683 - val_loss: 0.2563 - val_accuracy: 0.9395\n",
      "Epoch 25/100\n",
      "1050/1050 [==============================] - 1s 1ms/step - loss: 0.1004 - accuracy: 0.9690 - val_loss: 0.2586 - val_accuracy: 0.9398\n",
      "Epoch 26/100\n",
      "1050/1050 [==============================] - 1s 1ms/step - loss: 0.0964 - accuracy: 0.9703 - val_loss: 0.2609 - val_accuracy: 0.9392\n",
      "Epoch 27/100\n",
      "1050/1050 [==============================] - 1s 1ms/step - loss: 0.0942 - accuracy: 0.9703 - val_loss: 0.2619 - val_accuracy: 0.9385\n",
      "Epoch 28/100\n",
      "1050/1050 [==============================] - 1s 1ms/step - loss: 0.0905 - accuracy: 0.9719 - val_loss: 0.2618 - val_accuracy: 0.9382\n",
      "Epoch 29/100\n",
      "1050/1050 [==============================] - 1s 1ms/step - loss: 0.0873 - accuracy: 0.9735 - val_loss: 0.2593 - val_accuracy: 0.9390\n",
      "Epoch 30/100\n",
      "1050/1050 [==============================] - 1s 1ms/step - loss: 0.0839 - accuracy: 0.9737 - val_loss: 0.2677 - val_accuracy: 0.9400\n",
      "Epoch 31/100\n",
      "1050/1050 [==============================] - 1s 1ms/step - loss: 0.0828 - accuracy: 0.9744 - val_loss: 0.2734 - val_accuracy: 0.9405\n",
      "Epoch 32/100\n",
      "1050/1050 [==============================] - 1s 1ms/step - loss: 0.0805 - accuracy: 0.9749 - val_loss: 0.2663 - val_accuracy: 0.9410\n",
      "Epoch 33/100\n",
      "1050/1050 [==============================] - 1s 1ms/step - loss: 0.0774 - accuracy: 0.9759 - val_loss: 0.2693 - val_accuracy: 0.9401\n",
      "Epoch 34/100\n",
      "1050/1050 [==============================] - 1s 1ms/step - loss: 0.0755 - accuracy: 0.9764 - val_loss: 0.2708 - val_accuracy: 0.9398\n",
      "Epoch 35/100\n",
      "1050/1050 [==============================] - 1s 1ms/step - loss: 0.0726 - accuracy: 0.9779 - val_loss: 0.2758 - val_accuracy: 0.9399\n",
      "Epoch 36/100\n",
      "1050/1050 [==============================] - 1s 1ms/step - loss: 0.0709 - accuracy: 0.9781 - val_loss: 0.2694 - val_accuracy: 0.9407\n",
      "Epoch 37/100\n",
      "1050/1050 [==============================] - 1s 1ms/step - loss: 0.0691 - accuracy: 0.9786 - val_loss: 0.2728 - val_accuracy: 0.9415\n",
      "Epoch 38/100\n",
      "1050/1050 [==============================] - 1s 1ms/step - loss: 0.0671 - accuracy: 0.9794 - val_loss: 0.2797 - val_accuracy: 0.9410\n",
      "Epoch 39/100\n",
      "1050/1050 [==============================] - 1s 1ms/step - loss: 0.0653 - accuracy: 0.9793 - val_loss: 0.2833 - val_accuracy: 0.9425\n",
      "Epoch 40/100\n",
      "1050/1050 [==============================] - 1s 1ms/step - loss: 0.0639 - accuracy: 0.9803 - val_loss: 0.2727 - val_accuracy: 0.9408\n",
      "Epoch 41/100\n",
      "1050/1050 [==============================] - 1s 1ms/step - loss: 0.0625 - accuracy: 0.9800 - val_loss: 0.2807 - val_accuracy: 0.9407\n",
      "Epoch 42/100\n",
      "1050/1050 [==============================] - 1s 1ms/step - loss: 0.0603 - accuracy: 0.9808 - val_loss: 0.2800 - val_accuracy: 0.9420\n",
      "Epoch 43/100\n",
      "1050/1050 [==============================] - 1s 1ms/step - loss: 0.0581 - accuracy: 0.9818 - val_loss: 0.2836 - val_accuracy: 0.9418\n",
      "Epoch 44/100\n",
      "1050/1050 [==============================] - 1s 1ms/step - loss: 0.0576 - accuracy: 0.9819 - val_loss: 0.2854 - val_accuracy: 0.9408\n"
     ]
    }
   ],
   "source": [
    "model = keras.models.Sequential([\n",
    "    keras.layers.Dense(100, activation=\"relu\"),\n",
    "    keras.layers.Dense(50, activation=\"relu\"),\n",
    "    keras.layers.Dense(10, activation=\"softmax\")\n",
    "])\n",
    "\n",
    "model.compile(loss=\"sparse_categorical_crossentropy\", optimizer=keras.optimizers.SGD(1e-3),\n",
    "             metrics=[\"accuracy\"])\n",
    "\n",
    "run_index = 2\n",
    "run_logdir = os.path.join(os.curdir, \"mnist_logs\", \"run_{:03d}\".format(run_index))\n",
    "\n",
    "early_stopping_cb = keras.callbacks.EarlyStopping(patience=20)\n",
    "checkpoint_cb = keras.callbacks.ModelCheckpoint(\"mnist_ann_model_2.h5\", save_best_only=True)\n",
    "tensorboard_cb = keras.callbacks.TensorBoard(run_logdir)\n",
    "\n",
    "history = model.fit(X_train, y_train, epochs=100, validation_data = (X_valid, y_valid),\n",
    "                   callbacks=[early_stopping_cb, checkpoint_cb, tensorboard_cb])"
   ]
  },
  {
   "cell_type": "code",
   "execution_count": 57,
   "metadata": {},
   "outputs": [
    {
     "name": "stdout",
     "output_type": "stream",
     "text": [
      "263/263 [==============================] - 0s 716us/step - loss: 0.2563 - accuracy: 0.9395\n"
     ]
    },
    {
     "data": {
      "text/plain": [
       "[0.2562721073627472, 0.9395238161087036]"
      ]
     },
     "execution_count": 57,
     "metadata": {},
     "output_type": "execute_result"
    }
   ],
   "source": [
    "model = keras.models.load_model(\"mnist_ann_model_2.h5\")\n",
    "model.evaluate(X_valid, y_valid)"
   ]
  },
  {
   "cell_type": "code",
   "execution_count": 58,
   "metadata": {
    "collapsed": true,
    "jupyter": {
     "outputs_hidden": true
    }
   },
   "outputs": [
    {
     "name": "stdout",
     "output_type": "stream",
     "text": [
      "Epoch 1/100\n",
      "1050/1050 [==============================] - 2s 2ms/step - loss: 1.7860 - accuracy: 0.7865 - val_loss: 0.5084 - val_accuracy: 0.8648\n",
      "Epoch 2/100\n",
      "1050/1050 [==============================] - 2s 2ms/step - loss: 0.3953 - accuracy: 0.8885 - val_loss: 0.4006 - val_accuracy: 0.8896\n",
      "Epoch 3/100\n",
      "1050/1050 [==============================] - 2s 2ms/step - loss: 0.2805 - accuracy: 0.9170 - val_loss: 0.3581 - val_accuracy: 0.9114\n",
      "Epoch 4/100\n",
      "1050/1050 [==============================] - 2s 2ms/step - loss: 0.2242 - accuracy: 0.9326 - val_loss: 0.3203 - val_accuracy: 0.9225\n",
      "Epoch 5/100\n",
      "1050/1050 [==============================] - 2s 2ms/step - loss: 0.1848 - accuracy: 0.9433 - val_loss: 0.3194 - val_accuracy: 0.9279\n",
      "Epoch 6/100\n",
      "1050/1050 [==============================] - 2s 2ms/step - loss: 0.1592 - accuracy: 0.9500 - val_loss: 0.2979 - val_accuracy: 0.9295\n",
      "Epoch 7/100\n",
      "1050/1050 [==============================] - 2s 2ms/step - loss: 0.1401 - accuracy: 0.9570 - val_loss: 0.2955 - val_accuracy: 0.9306\n",
      "Epoch 8/100\n",
      "1050/1050 [==============================] - 2s 2ms/step - loss: 0.1226 - accuracy: 0.9607 - val_loss: 0.2924 - val_accuracy: 0.9338\n",
      "Epoch 9/100\n",
      "1050/1050 [==============================] - 2s 2ms/step - loss: 0.1091 - accuracy: 0.9650 - val_loss: 0.2868 - val_accuracy: 0.9365\n",
      "Epoch 10/100\n",
      "1050/1050 [==============================] - 2s 2ms/step - loss: 0.0976 - accuracy: 0.9682 - val_loss: 0.2847 - val_accuracy: 0.9383\n",
      "Epoch 11/100\n",
      "1050/1050 [==============================] - 2s 2ms/step - loss: 0.0864 - accuracy: 0.9724 - val_loss: 0.2802 - val_accuracy: 0.9388\n",
      "Epoch 12/100\n",
      "1050/1050 [==============================] - 2s 2ms/step - loss: 0.0757 - accuracy: 0.9759 - val_loss: 0.2919 - val_accuracy: 0.9406\n",
      "Epoch 13/100\n",
      "1050/1050 [==============================] - 2s 2ms/step - loss: 0.0697 - accuracy: 0.9776 - val_loss: 0.2894 - val_accuracy: 0.9408\n",
      "Epoch 14/100\n",
      "1050/1050 [==============================] - 2s 2ms/step - loss: 0.0621 - accuracy: 0.9804 - val_loss: 0.2961 - val_accuracy: 0.9417\n",
      "Epoch 15/100\n",
      "1050/1050 [==============================] - 2s 2ms/step - loss: 0.0559 - accuracy: 0.9829 - val_loss: 0.2949 - val_accuracy: 0.9429\n",
      "Epoch 16/100\n",
      "1050/1050 [==============================] - 2s 2ms/step - loss: 0.0506 - accuracy: 0.9841 - val_loss: 0.3002 - val_accuracy: 0.9450\n",
      "Epoch 17/100\n",
      "1050/1050 [==============================] - 2s 2ms/step - loss: 0.0447 - accuracy: 0.9863 - val_loss: 0.2939 - val_accuracy: 0.9448\n",
      "Epoch 18/100\n",
      "1050/1050 [==============================] - 2s 2ms/step - loss: 0.0409 - accuracy: 0.9874 - val_loss: 0.2934 - val_accuracy: 0.9449\n",
      "Epoch 19/100\n",
      "1050/1050 [==============================] - 2s 2ms/step - loss: 0.0368 - accuracy: 0.9893 - val_loss: 0.3010 - val_accuracy: 0.9456\n",
      "Epoch 20/100\n",
      "1050/1050 [==============================] - 2s 2ms/step - loss: 0.0337 - accuracy: 0.9902 - val_loss: 0.3007 - val_accuracy: 0.9455\n",
      "Epoch 21/100\n",
      "1050/1050 [==============================] - 2s 2ms/step - loss: 0.0301 - accuracy: 0.9916 - val_loss: 0.3054 - val_accuracy: 0.9463\n",
      "Epoch 22/100\n",
      "1050/1050 [==============================] - 2s 2ms/step - loss: 0.0282 - accuracy: 0.9921 - val_loss: 0.3046 - val_accuracy: 0.9473\n",
      "Epoch 23/100\n",
      "1050/1050 [==============================] - 2s 2ms/step - loss: 0.0258 - accuracy: 0.9927 - val_loss: 0.3111 - val_accuracy: 0.9462\n",
      "Epoch 24/100\n",
      "1050/1050 [==============================] - 2s 2ms/step - loss: 0.0236 - accuracy: 0.9935 - val_loss: 0.3182 - val_accuracy: 0.9471\n",
      "Epoch 25/100\n",
      "1050/1050 [==============================] - 2s 2ms/step - loss: 0.0218 - accuracy: 0.9940 - val_loss: 0.3175 - val_accuracy: 0.9482\n",
      "Epoch 26/100\n",
      "1050/1050 [==============================] - 2s 2ms/step - loss: 0.0200 - accuracy: 0.9943 - val_loss: 0.3172 - val_accuracy: 0.9480\n",
      "Epoch 27/100\n",
      "1050/1050 [==============================] - 2s 2ms/step - loss: 0.0182 - accuracy: 0.9948 - val_loss: 0.3195 - val_accuracy: 0.9486\n",
      "Epoch 28/100\n",
      "1050/1050 [==============================] - 2s 2ms/step - loss: 0.0170 - accuracy: 0.9954 - val_loss: 0.3254 - val_accuracy: 0.9473\n",
      "Epoch 29/100\n",
      "1050/1050 [==============================] - 2s 2ms/step - loss: 0.0160 - accuracy: 0.9955 - val_loss: 0.3279 - val_accuracy: 0.9482\n",
      "Epoch 30/100\n",
      "1050/1050 [==============================] - 2s 2ms/step - loss: 0.0148 - accuracy: 0.9958 - val_loss: 0.3291 - val_accuracy: 0.9485\n",
      "Epoch 31/100\n",
      "1050/1050 [==============================] - 2s 2ms/step - loss: 0.0139 - accuracy: 0.9964 - val_loss: 0.3328 - val_accuracy: 0.9490\n"
     ]
    }
   ],
   "source": [
    "model = keras.models.Sequential([\n",
    "    keras.layers.Dense(300, activation=\"relu\"),\n",
    "    keras.layers.Dense(100, activation=\"relu\"),\n",
    "    keras.layers.Dense(10, activation=\"softmax\")\n",
    "])\n",
    "\n",
    "model.compile(loss=\"sparse_categorical_crossentropy\", optimizer=keras.optimizers.SGD(1e-3),\n",
    "             metrics=[\"accuracy\"])\n",
    "\n",
    "run_index = 3\n",
    "run_logdir = os.path.join(os.curdir, \"mnist_logs\", \"run_{:03d}\".format(run_index))\n",
    "\n",
    "early_stopping_cb = keras.callbacks.EarlyStopping(patience=20)\n",
    "checkpoint_cb = keras.callbacks.ModelCheckpoint(\"mnist_ann_model_3.h5\", save_best_only=True)\n",
    "tensorboard_cb = keras.callbacks.TensorBoard(run_logdir)\n",
    "\n",
    "history = model.fit(X_train, y_train, epochs=100, validation_data = (X_valid, y_valid),\n",
    "                   callbacks=[early_stopping_cb, checkpoint_cb, tensorboard_cb])"
   ]
  },
  {
   "cell_type": "code",
   "execution_count": 59,
   "metadata": {},
   "outputs": [
    {
     "name": "stdout",
     "output_type": "stream",
     "text": [
      "263/263 [==============================] - 0s 740us/step - loss: 0.2802 - accuracy: 0.9388\n"
     ]
    },
    {
     "data": {
      "text/plain": [
       "[0.28021055459976196, 0.9388095140457153]"
      ]
     },
     "execution_count": 59,
     "metadata": {},
     "output_type": "execute_result"
    }
   ],
   "source": [
    "model = keras.models.load_model(\"mnist_ann_model_3.h5\")\n",
    "model.evaluate(X_valid, y_valid)"
   ]
  },
  {
   "cell_type": "markdown",
   "metadata": {},
   "source": [
    "To get a better accuracy score, we try running the model again with different learning rate."
   ]
  },
  {
   "cell_type": "code",
   "execution_count": 60,
   "metadata": {
    "collapsed": true,
    "jupyter": {
     "outputs_hidden": true
    }
   },
   "outputs": [
    {
     "name": "stdout",
     "output_type": "stream",
     "text": [
      "Epoch 1/100\n",
      "1050/1050 [==============================] - 1s 1ms/step - loss: 195850240.0000 - accuracy: 0.1077 - val_loss: 2.3013 - val_accuracy: 0.1154\n",
      "Epoch 2/100\n",
      "1050/1050 [==============================] - 1s 1ms/step - loss: 2.3024 - accuracy: 0.1096 - val_loss: 2.3016 - val_accuracy: 0.1154\n",
      "Epoch 3/100\n",
      "1050/1050 [==============================] - 1s 1ms/step - loss: 2.3020 - accuracy: 0.1082 - val_loss: 2.3008 - val_accuracy: 0.1154\n",
      "Epoch 4/100\n",
      "1050/1050 [==============================] - 1s 1ms/step - loss: 2.3021 - accuracy: 0.1086 - val_loss: 2.3007 - val_accuracy: 0.1154\n",
      "Epoch 5/100\n",
      "1050/1050 [==============================] - 1s 1ms/step - loss: 2.3022 - accuracy: 0.1093 - val_loss: 2.3014 - val_accuracy: 0.1154\n",
      "Epoch 6/100\n",
      "1050/1050 [==============================] - 1s 1ms/step - loss: 2.3021 - accuracy: 0.1067 - val_loss: 2.3001 - val_accuracy: 0.1154\n",
      "Epoch 7/100\n",
      "1050/1050 [==============================] - 1s 1ms/step - loss: 2.3022 - accuracy: 0.1086 - val_loss: 2.3017 - val_accuracy: 0.1024\n",
      "Epoch 8/100\n",
      "1050/1050 [==============================] - 1s 1ms/step - loss: 2.3022 - accuracy: 0.1070 - val_loss: 2.3010 - val_accuracy: 0.1154\n",
      "Epoch 9/100\n",
      "1050/1050 [==============================] - 1s 1ms/step - loss: 2.3023 - accuracy: 0.1083 - val_loss: 2.3006 - val_accuracy: 0.1154\n",
      "Epoch 10/100\n",
      "1050/1050 [==============================] - 1s 1ms/step - loss: 2.3022 - accuracy: 0.1085 - val_loss: 2.3009 - val_accuracy: 0.1154\n",
      "Epoch 11/100\n",
      "1050/1050 [==============================] - 1s 1ms/step - loss: 2.3022 - accuracy: 0.1090 - val_loss: 2.3010 - val_accuracy: 0.1154\n",
      "Epoch 12/100\n",
      "1050/1050 [==============================] - 1s 1ms/step - loss: 2.3022 - accuracy: 0.1080 - val_loss: 2.3003 - val_accuracy: 0.1154\n",
      "Epoch 13/100\n",
      "1050/1050 [==============================] - 1s 1ms/step - loss: 2.3020 - accuracy: 0.1090 - val_loss: 2.3013 - val_accuracy: 0.1154\n",
      "Epoch 14/100\n",
      "1050/1050 [==============================] - 1s 1ms/step - loss: 2.3023 - accuracy: 0.1082 - val_loss: 2.3007 - val_accuracy: 0.1024\n",
      "Epoch 15/100\n",
      "1050/1050 [==============================] - 1s 1ms/step - loss: 2.3023 - accuracy: 0.1068 - val_loss: 2.3012 - val_accuracy: 0.1154\n",
      "Epoch 16/100\n",
      "1050/1050 [==============================] - 2s 2ms/step - loss: 2.3022 - accuracy: 0.1091 - val_loss: 2.3022 - val_accuracy: 0.1024\n",
      "Epoch 17/100\n",
      "1050/1050 [==============================] - 1s 1ms/step - loss: 2.3022 - accuracy: 0.1067 - val_loss: 2.3013 - val_accuracy: 0.1154\n",
      "Epoch 18/100\n",
      "1050/1050 [==============================] - 1s 1ms/step - loss: 2.3021 - accuracy: 0.1104 - val_loss: 2.3008 - val_accuracy: 0.1154\n",
      "Epoch 19/100\n",
      "1050/1050 [==============================] - 1s 1ms/step - loss: 2.3022 - accuracy: 0.1077 - val_loss: 2.3016 - val_accuracy: 0.1154\n",
      "Epoch 20/100\n",
      "1050/1050 [==============================] - 1s 1ms/step - loss: 2.3022 - accuracy: 0.1077 - val_loss: 2.3021 - val_accuracy: 0.1154\n",
      "Epoch 21/100\n",
      "1050/1050 [==============================] - 1s 1ms/step - loss: 2.3022 - accuracy: 0.1087 - val_loss: 2.3010 - val_accuracy: 0.1154\n",
      "Epoch 22/100\n",
      "1050/1050 [==============================] - 1s 1ms/step - loss: 2.3022 - accuracy: 0.1077 - val_loss: 2.3014 - val_accuracy: 0.1154\n",
      "Epoch 23/100\n",
      "1050/1050 [==============================] - 1s 1ms/step - loss: 2.3021 - accuracy: 0.1080 - val_loss: 2.3014 - val_accuracy: 0.1024\n",
      "Epoch 24/100\n",
      "1050/1050 [==============================] - 1s 1ms/step - loss: 2.3020 - accuracy: 0.1109 - val_loss: 2.3024 - val_accuracy: 0.1024\n",
      "Epoch 25/100\n",
      "1050/1050 [==============================] - 1s 1ms/step - loss: 2.3022 - accuracy: 0.1090 - val_loss: 2.3018 - val_accuracy: 0.1024\n",
      "Epoch 26/100\n",
      "1050/1050 [==============================] - 1s 1ms/step - loss: 2.3023 - accuracy: 0.1069 - val_loss: 2.3009 - val_accuracy: 0.1154\n"
     ]
    }
   ],
   "source": [
    "model = keras.models.Sequential([\n",
    "    keras.layers.Dense(100, activation=\"relu\"),\n",
    "    keras.layers.Dense(50, activation=\"relu\"),\n",
    "    keras.layers.Dense(10, activation=\"softmax\")\n",
    "])\n",
    "\n",
    "model.compile(loss=\"sparse_categorical_crossentropy\", optimizer=keras.optimizers.SGD(0.1),\n",
    "             metrics=[\"accuracy\"])\n",
    "\n",
    "run_index = 4\n",
    "run_logdir = os.path.join(os.curdir, \"mnist_logs\", \"run_{:03d}\".format(run_index))\n",
    "\n",
    "early_stopping_cb = keras.callbacks.EarlyStopping(patience=20)\n",
    "checkpoint_cb = keras.callbacks.ModelCheckpoint(\"mnist_ann_model_4.h5\", save_best_only=True)\n",
    "tensorboard_cb = keras.callbacks.TensorBoard(run_logdir)\n",
    "\n",
    "history = model.fit(X_train, y_train, epochs=100, validation_data = (X_valid, y_valid),\n",
    "                   callbacks=[early_stopping_cb, checkpoint_cb, tensorboard_cb])"
   ]
  },
  {
   "cell_type": "code",
   "execution_count": 61,
   "metadata": {},
   "outputs": [
    {
     "name": "stdout",
     "output_type": "stream",
     "text": [
      "263/263 [==============================] - 0s 681us/step - loss: 2.3001 - accuracy: 0.1154\n"
     ]
    },
    {
     "data": {
      "text/plain": [
       "[2.3000805377960205, 0.11535714566707611]"
      ]
     },
     "execution_count": 61,
     "metadata": {},
     "output_type": "execute_result"
    }
   ],
   "source": [
    "model = keras.models.load_model(\"mnist_ann_model_4.h5\")\n",
    "model.evaluate(X_valid, y_valid)"
   ]
  },
  {
   "cell_type": "markdown",
   "metadata": {},
   "source": [
    "Increasing the learning rate results in poor accuracy."
   ]
  },
  {
   "cell_type": "code",
   "execution_count": 69,
   "metadata": {},
   "outputs": [
    {
     "name": "stdout",
     "output_type": "stream",
     "text": [
      "Epoch 1/100\n",
      "1050/1050 [==============================] - 2s 2ms/step - loss: 2.0126 - accuracy: 0.5566 - val_loss: 0.9934 - val_accuracy: 0.6987\n",
      "Epoch 2/100\n",
      "1050/1050 [==============================] - 2s 2ms/step - loss: 0.8057 - accuracy: 0.7580 - val_loss: 0.6586 - val_accuracy: 0.8238\n",
      "Epoch 3/100\n",
      "1050/1050 [==============================] - 2s 2ms/step - loss: 0.5145 - accuracy: 0.8537 - val_loss: 0.5316 - val_accuracy: 0.8498\n",
      "Epoch 4/100\n",
      "1050/1050 [==============================] - 2s 2ms/step - loss: 0.3820 - accuracy: 0.8877 - val_loss: 0.4210 - val_accuracy: 0.8931\n",
      "Epoch 5/100\n",
      "1050/1050 [==============================] - 2s 2ms/step - loss: 0.3139 - accuracy: 0.9058 - val_loss: 0.3750 - val_accuracy: 0.9037\n",
      "Epoch 6/100\n",
      "1050/1050 [==============================] - 2s 2ms/step - loss: 0.2648 - accuracy: 0.9193 - val_loss: 0.3452 - val_accuracy: 0.9131\n",
      "Epoch 7/100\n",
      "1050/1050 [==============================] - 2s 2ms/step - loss: 0.2256 - accuracy: 0.9311 - val_loss: 0.3129 - val_accuracy: 0.9205\n",
      "Epoch 8/100\n",
      "1050/1050 [==============================] - 2s 2ms/step - loss: 0.1999 - accuracy: 0.9378 - val_loss: 0.3062 - val_accuracy: 0.9199\n",
      "Epoch 9/100\n",
      "1050/1050 [==============================] - 2s 2ms/step - loss: 0.1784 - accuracy: 0.9440 - val_loss: 0.3046 - val_accuracy: 0.9261\n",
      "Epoch 10/100\n",
      "1050/1050 [==============================] - 2s 2ms/step - loss: 0.1588 - accuracy: 0.9496 - val_loss: 0.2846 - val_accuracy: 0.9308\n",
      "Epoch 11/100\n",
      "1050/1050 [==============================] - 2s 2ms/step - loss: 0.1437 - accuracy: 0.9546 - val_loss: 0.2740 - val_accuracy: 0.9325\n",
      "Epoch 12/100\n",
      "1050/1050 [==============================] - 2s 2ms/step - loss: 0.1328 - accuracy: 0.9575 - val_loss: 0.2808 - val_accuracy: 0.9333\n",
      "Epoch 13/100\n",
      "1050/1050 [==============================] - 2s 2ms/step - loss: 0.1203 - accuracy: 0.9612 - val_loss: 0.2988 - val_accuracy: 0.9301\n",
      "Epoch 14/100\n",
      "1050/1050 [==============================] - 2s 2ms/step - loss: 0.1103 - accuracy: 0.9648 - val_loss: 0.2879 - val_accuracy: 0.9363\n",
      "Epoch 15/100\n",
      "1050/1050 [==============================] - 2s 2ms/step - loss: 0.1012 - accuracy: 0.9674 - val_loss: 0.2609 - val_accuracy: 0.9386\n",
      "Epoch 16/100\n",
      "1050/1050 [==============================] - 2s 2ms/step - loss: 0.0956 - accuracy: 0.9690 - val_loss: 0.2644 - val_accuracy: 0.9424\n",
      "Epoch 17/100\n",
      "1050/1050 [==============================] - 2s 2ms/step - loss: 0.0883 - accuracy: 0.9713 - val_loss: 0.2627 - val_accuracy: 0.9417\n",
      "Epoch 18/100\n",
      "1050/1050 [==============================] - 2s 2ms/step - loss: 0.0821 - accuracy: 0.9736 - val_loss: 0.2671 - val_accuracy: 0.9424\n",
      "Epoch 19/100\n",
      "1050/1050 [==============================] - 2s 2ms/step - loss: 0.0759 - accuracy: 0.9754 - val_loss: 0.2681 - val_accuracy: 0.9446\n",
      "Epoch 20/100\n",
      "1050/1050 [==============================] - 2s 2ms/step - loss: 0.0716 - accuracy: 0.9766 - val_loss: 0.2683 - val_accuracy: 0.9431\n",
      "Epoch 21/100\n",
      "1050/1050 [==============================] - 2s 2ms/step - loss: 0.0673 - accuracy: 0.9783 - val_loss: 0.2712 - val_accuracy: 0.9439\n",
      "Epoch 22/100\n",
      "1050/1050 [==============================] - 2s 2ms/step - loss: 0.0632 - accuracy: 0.9791 - val_loss: 0.2764 - val_accuracy: 0.9440\n",
      "Epoch 23/100\n",
      "1050/1050 [==============================] - 2s 2ms/step - loss: 0.0602 - accuracy: 0.9803 - val_loss: 0.2774 - val_accuracy: 0.9440\n",
      "Epoch 24/100\n",
      "1050/1050 [==============================] - 2s 2ms/step - loss: 0.0567 - accuracy: 0.9816 - val_loss: 0.2810 - val_accuracy: 0.9436\n",
      "Epoch 25/100\n",
      "1050/1050 [==============================] - 2s 2ms/step - loss: 0.0532 - accuracy: 0.9823 - val_loss: 0.2866 - val_accuracy: 0.9442\n",
      "Epoch 26/100\n",
      "1050/1050 [==============================] - 2s 2ms/step - loss: 0.0511 - accuracy: 0.9831 - val_loss: 0.2866 - val_accuracy: 0.9433\n",
      "Epoch 27/100\n",
      "1050/1050 [==============================] - 2s 2ms/step - loss: 0.0481 - accuracy: 0.9836 - val_loss: 0.2819 - val_accuracy: 0.9457\n",
      "Epoch 28/100\n",
      "1050/1050 [==============================] - 2s 2ms/step - loss: 0.0458 - accuracy: 0.9845 - val_loss: 0.2926 - val_accuracy: 0.9443\n",
      "Epoch 29/100\n",
      "1050/1050 [==============================] - 2s 2ms/step - loss: 0.0433 - accuracy: 0.9852 - val_loss: 0.2972 - val_accuracy: 0.9452\n",
      "Epoch 30/100\n",
      "1050/1050 [==============================] - 2s 2ms/step - loss: 0.0416 - accuracy: 0.9857 - val_loss: 0.3037 - val_accuracy: 0.9467\n",
      "Epoch 31/100\n",
      "1050/1050 [==============================] - 2s 2ms/step - loss: 0.0398 - accuracy: 0.9862 - val_loss: 0.2989 - val_accuracy: 0.9457\n",
      "Epoch 32/100\n",
      "1050/1050 [==============================] - 2s 2ms/step - loss: 0.0387 - accuracy: 0.9867 - val_loss: 0.3034 - val_accuracy: 0.9462\n",
      "Epoch 33/100\n",
      "1050/1050 [==============================] - 2s 2ms/step - loss: 0.0369 - accuracy: 0.9866 - val_loss: 0.3148 - val_accuracy: 0.9458\n",
      "Epoch 34/100\n",
      "1050/1050 [==============================] - 2s 2ms/step - loss: 0.0363 - accuracy: 0.9870 - val_loss: 0.3060 - val_accuracy: 0.9458\n",
      "Epoch 35/100\n",
      "1050/1050 [==============================] - 2s 2ms/step - loss: 0.0349 - accuracy: 0.9871 - val_loss: 0.3085 - val_accuracy: 0.9449\n",
      "263/263 [==============================] - 0s 724us/step - loss: 0.3085 - accuracy: 0.9449\n"
     ]
    },
    {
     "data": {
      "text/plain": [
       "[0.3084529638290405, 0.9448809623718262]"
      ]
     },
     "execution_count": 69,
     "metadata": {},
     "output_type": "execute_result"
    }
   ],
   "source": [
    "model = keras.models.Sequential([\n",
    "    keras.layers.Dense(300, activation=\"relu\"),\n",
    "    keras.layers.Dense(50, activation=\"relu\"),\n",
    "    keras.layers.Dense(10, activation=\"softmax\")\n",
    "])\n",
    "\n",
    "model.compile(loss=\"sparse_categorical_crossentropy\", optimizer=keras.optimizers.SGD(1e-3),\n",
    "             metrics=[\"accuracy\"])\n",
    "\n",
    "run_index = 5\n",
    "run_logdir = os.path.join(os.curdir, \"mnist_logs\", \"run_{:03d}\".format(run_index))\n",
    "\n",
    "early_stopping_cb = keras.callbacks.EarlyStopping(patience=20)\n",
    "checkpoint_cb = keras.callbacks.ModelCheckpoint(\"mnist_ann_model_5.h5\", save_best_only=True)\n",
    "tensorboard_cb = keras.callbacks.TensorBoard(run_logdir)\n",
    "\n",
    "history = model.fit(X_train, y_train, epochs=100, validation_data = (X_valid, y_valid),\n",
    "                   callbacks=[early_stopping_cb, checkpoint_cb, tensorboard_cb])\n",
    "\n",
    "model.evaluate(X_valid, y_valid)"
   ]
  },
  {
   "cell_type": "markdown",
   "metadata": {},
   "source": [
    "We see that changing the amount of neurons in the second layers improves accuracy."
   ]
  },
  {
   "cell_type": "code",
   "execution_count": 55,
   "metadata": {},
   "outputs": [
    {
     "data": {
      "text/html": [
       "\n",
       "      <iframe id=\"tensorboard-frame-9c8350f9486eafde\" width=\"100%\" height=\"800\" frameborder=\"0\">\n",
       "      </iframe>\n",
       "      <script>\n",
       "        (function() {\n",
       "          const frame = document.getElementById(\"tensorboard-frame-9c8350f9486eafde\");\n",
       "          const url = new URL(\"/\", window.location);\n",
       "          url.port = 6006;\n",
       "          frame.src = url;\n",
       "        })();\n",
       "      </script>\n",
       "  "
      ],
      "text/plain": [
       "<IPython.core.display.HTML object>"
      ]
     },
     "metadata": {},
     "output_type": "display_data"
    }
   ],
   "source": [
    "%load_ext tensorboard\n",
    "%tensorboard --logdir=./mnist_logs --port=6006"
   ]
  },
  {
   "cell_type": "markdown",
   "metadata": {},
   "source": [
    "By comparing the model we see that the `SVC()` model returns the highest accuracy score despite only using 5000 data to train."
   ]
  },
  {
   "cell_type": "code",
   "execution_count": 71,
   "metadata": {},
   "outputs": [
    {
     "data": {
      "text/html": [
       "<div>\n",
       "<style scoped>\n",
       "    .dataframe tbody tr th:only-of-type {\n",
       "        vertical-align: middle;\n",
       "    }\n",
       "\n",
       "    .dataframe tbody tr th {\n",
       "        vertical-align: top;\n",
       "    }\n",
       "\n",
       "    .dataframe thead th {\n",
       "        text-align: right;\n",
       "    }\n",
       "</style>\n",
       "<table border=\"1\" class=\"dataframe\">\n",
       "  <thead>\n",
       "    <tr style=\"text-align: right;\">\n",
       "      <th></th>\n",
       "      <th>pixel0</th>\n",
       "      <th>pixel1</th>\n",
       "      <th>pixel2</th>\n",
       "      <th>pixel3</th>\n",
       "      <th>pixel4</th>\n",
       "      <th>pixel5</th>\n",
       "      <th>pixel6</th>\n",
       "      <th>pixel7</th>\n",
       "      <th>pixel8</th>\n",
       "      <th>pixel9</th>\n",
       "      <th>...</th>\n",
       "      <th>pixel774</th>\n",
       "      <th>pixel775</th>\n",
       "      <th>pixel776</th>\n",
       "      <th>pixel777</th>\n",
       "      <th>pixel778</th>\n",
       "      <th>pixel779</th>\n",
       "      <th>pixel780</th>\n",
       "      <th>pixel781</th>\n",
       "      <th>pixel782</th>\n",
       "      <th>pixel783</th>\n",
       "    </tr>\n",
       "  </thead>\n",
       "  <tbody>\n",
       "    <tr>\n",
       "      <th>0</th>\n",
       "      <td>0</td>\n",
       "      <td>0</td>\n",
       "      <td>0</td>\n",
       "      <td>0</td>\n",
       "      <td>0</td>\n",
       "      <td>0</td>\n",
       "      <td>0</td>\n",
       "      <td>0</td>\n",
       "      <td>0</td>\n",
       "      <td>0</td>\n",
       "      <td>...</td>\n",
       "      <td>0</td>\n",
       "      <td>0</td>\n",
       "      <td>0</td>\n",
       "      <td>0</td>\n",
       "      <td>0</td>\n",
       "      <td>0</td>\n",
       "      <td>0</td>\n",
       "      <td>0</td>\n",
       "      <td>0</td>\n",
       "      <td>0</td>\n",
       "    </tr>\n",
       "    <tr>\n",
       "      <th>1</th>\n",
       "      <td>0</td>\n",
       "      <td>0</td>\n",
       "      <td>0</td>\n",
       "      <td>0</td>\n",
       "      <td>0</td>\n",
       "      <td>0</td>\n",
       "      <td>0</td>\n",
       "      <td>0</td>\n",
       "      <td>0</td>\n",
       "      <td>0</td>\n",
       "      <td>...</td>\n",
       "      <td>0</td>\n",
       "      <td>0</td>\n",
       "      <td>0</td>\n",
       "      <td>0</td>\n",
       "      <td>0</td>\n",
       "      <td>0</td>\n",
       "      <td>0</td>\n",
       "      <td>0</td>\n",
       "      <td>0</td>\n",
       "      <td>0</td>\n",
       "    </tr>\n",
       "    <tr>\n",
       "      <th>2</th>\n",
       "      <td>0</td>\n",
       "      <td>0</td>\n",
       "      <td>0</td>\n",
       "      <td>0</td>\n",
       "      <td>0</td>\n",
       "      <td>0</td>\n",
       "      <td>0</td>\n",
       "      <td>0</td>\n",
       "      <td>0</td>\n",
       "      <td>0</td>\n",
       "      <td>...</td>\n",
       "      <td>0</td>\n",
       "      <td>0</td>\n",
       "      <td>0</td>\n",
       "      <td>0</td>\n",
       "      <td>0</td>\n",
       "      <td>0</td>\n",
       "      <td>0</td>\n",
       "      <td>0</td>\n",
       "      <td>0</td>\n",
       "      <td>0</td>\n",
       "    </tr>\n",
       "    <tr>\n",
       "      <th>3</th>\n",
       "      <td>0</td>\n",
       "      <td>0</td>\n",
       "      <td>0</td>\n",
       "      <td>0</td>\n",
       "      <td>0</td>\n",
       "      <td>0</td>\n",
       "      <td>0</td>\n",
       "      <td>0</td>\n",
       "      <td>0</td>\n",
       "      <td>0</td>\n",
       "      <td>...</td>\n",
       "      <td>0</td>\n",
       "      <td>0</td>\n",
       "      <td>0</td>\n",
       "      <td>0</td>\n",
       "      <td>0</td>\n",
       "      <td>0</td>\n",
       "      <td>0</td>\n",
       "      <td>0</td>\n",
       "      <td>0</td>\n",
       "      <td>0</td>\n",
       "    </tr>\n",
       "    <tr>\n",
       "      <th>4</th>\n",
       "      <td>0</td>\n",
       "      <td>0</td>\n",
       "      <td>0</td>\n",
       "      <td>0</td>\n",
       "      <td>0</td>\n",
       "      <td>0</td>\n",
       "      <td>0</td>\n",
       "      <td>0</td>\n",
       "      <td>0</td>\n",
       "      <td>0</td>\n",
       "      <td>...</td>\n",
       "      <td>0</td>\n",
       "      <td>0</td>\n",
       "      <td>0</td>\n",
       "      <td>0</td>\n",
       "      <td>0</td>\n",
       "      <td>0</td>\n",
       "      <td>0</td>\n",
       "      <td>0</td>\n",
       "      <td>0</td>\n",
       "      <td>0</td>\n",
       "    </tr>\n",
       "  </tbody>\n",
       "</table>\n",
       "<p>5 rows × 784 columns</p>\n",
       "</div>"
      ],
      "text/plain": [
       "   pixel0  pixel1  pixel2  pixel3  pixel4  pixel5  pixel6  pixel7  pixel8  \\\n",
       "0       0       0       0       0       0       0       0       0       0   \n",
       "1       0       0       0       0       0       0       0       0       0   \n",
       "2       0       0       0       0       0       0       0       0       0   \n",
       "3       0       0       0       0       0       0       0       0       0   \n",
       "4       0       0       0       0       0       0       0       0       0   \n",
       "\n",
       "   pixel9  ...  pixel774  pixel775  pixel776  pixel777  pixel778  pixel779  \\\n",
       "0       0  ...         0         0         0         0         0         0   \n",
       "1       0  ...         0         0         0         0         0         0   \n",
       "2       0  ...         0         0         0         0         0         0   \n",
       "3       0  ...         0         0         0         0         0         0   \n",
       "4       0  ...         0         0         0         0         0         0   \n",
       "\n",
       "   pixel780  pixel781  pixel782  pixel783  \n",
       "0         0         0         0         0  \n",
       "1         0         0         0         0  \n",
       "2         0         0         0         0  \n",
       "3         0         0         0         0  \n",
       "4         0         0         0         0  \n",
       "\n",
       "[5 rows x 784 columns]"
      ]
     },
     "execution_count": 71,
     "metadata": {},
     "output_type": "execute_result"
    }
   ],
   "source": [
    "test_data.head()"
   ]
  },
  {
   "cell_type": "code",
   "execution_count": 72,
   "metadata": {},
   "outputs": [
    {
     "data": {
      "text/plain": [
       "{'tol': 0.001, 'gamma': 'scale', 'C': 5}"
      ]
     },
     "execution_count": 72,
     "metadata": {},
     "output_type": "execute_result"
    }
   ],
   "source": [
    "random_search.best_params_"
   ]
  },
  {
   "cell_type": "code",
   "execution_count": 73,
   "metadata": {},
   "outputs": [],
   "source": [
    "predict = random_search.best_estimator_.predict(test_data)"
   ]
  },
  {
   "cell_type": "code",
   "execution_count": 81,
   "metadata": {},
   "outputs": [
    {
     "data": {
      "text/html": [
       "<div>\n",
       "<style scoped>\n",
       "    .dataframe tbody tr th:only-of-type {\n",
       "        vertical-align: middle;\n",
       "    }\n",
       "\n",
       "    .dataframe tbody tr th {\n",
       "        vertical-align: top;\n",
       "    }\n",
       "\n",
       "    .dataframe thead th {\n",
       "        text-align: right;\n",
       "    }\n",
       "</style>\n",
       "<table border=\"1\" class=\"dataframe\">\n",
       "  <thead>\n",
       "    <tr style=\"text-align: right;\">\n",
       "      <th></th>\n",
       "      <th>ImageId</th>\n",
       "      <th>Label</th>\n",
       "    </tr>\n",
       "  </thead>\n",
       "  <tbody>\n",
       "    <tr>\n",
       "      <th>0</th>\n",
       "      <td>1</td>\n",
       "      <td>2</td>\n",
       "    </tr>\n",
       "    <tr>\n",
       "      <th>1</th>\n",
       "      <td>2</td>\n",
       "      <td>0</td>\n",
       "    </tr>\n",
       "    <tr>\n",
       "      <th>2</th>\n",
       "      <td>3</td>\n",
       "      <td>9</td>\n",
       "    </tr>\n",
       "    <tr>\n",
       "      <th>3</th>\n",
       "      <td>4</td>\n",
       "      <td>7</td>\n",
       "    </tr>\n",
       "    <tr>\n",
       "      <th>4</th>\n",
       "      <td>5</td>\n",
       "      <td>3</td>\n",
       "    </tr>\n",
       "  </tbody>\n",
       "</table>\n",
       "</div>"
      ],
      "text/plain": [
       "   ImageId  Label\n",
       "0        1      2\n",
       "1        2      0\n",
       "2        3      9\n",
       "3        4      7\n",
       "4        5      3"
      ]
     },
     "execution_count": 81,
     "metadata": {},
     "output_type": "execute_result"
    }
   ],
   "source": [
    "submit_pd = pd.DataFrame({\"ImageId\": list(range(1,len(predict)+1)),\n",
    "    \"Label\": predict})\n",
    "submit_pd.head()"
   ]
  },
  {
   "cell_type": "code",
   "execution_count": 82,
   "metadata": {},
   "outputs": [],
   "source": [
    "submit_pd.to_csv('./Data/answer.csv', index=False)"
   ]
  }
 ],
 "metadata": {
  "kernelspec": {
   "display_name": "Python 3",
   "language": "python",
   "name": "python3"
  },
  "language_info": {
   "codemirror_mode": {
    "name": "ipython",
    "version": 3
   },
   "file_extension": ".py",
   "mimetype": "text/x-python",
   "name": "python",
   "nbconvert_exporter": "python",
   "pygments_lexer": "ipython3",
   "version": "3.8.0"
  }
 },
 "nbformat": 4,
 "nbformat_minor": 4
}
